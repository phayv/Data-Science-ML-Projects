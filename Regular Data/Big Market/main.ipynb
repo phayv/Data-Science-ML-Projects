{
 "cells": [
  {
   "cell_type": "code",
   "execution_count": 2,
   "metadata": {
    "collapsed": false,
    "nbpresent": {
     "id": "b1c36db9-9f07-42ea-91f3-840ed805a4d7"
    }
   },
   "outputs": [],
   "source": [
    "library('ggplot2')\n",
    "library('dplyr')"
   ]
  },
  {
   "cell_type": "code",
   "execution_count": 3,
   "metadata": {
    "collapsed": true,
    "nbpresent": {
     "id": "7e65a614-83df-4916-bc51-bd104415ae78"
    }
   },
   "outputs": [],
   "source": [
    "# Loading train and test data\n",
    "train <- read.csv('data/train.csv')\n",
    "test <- read.csv('data/test.csv')"
   ]
  },
  {
   "cell_type": "code",
   "execution_count": 4,
   "metadata": {
    "collapsed": false,
    "nbpresent": {
     "id": "2e027da3-3256-4f28-a846-81c9a270b942"
    }
   },
   "outputs": [
    {
     "name": "stdout",
     "output_type": "stream",
     "text": [
      "[1] \"Train Dimensions: \"\n",
      "[1] 8523   12\n",
      "[1] \"Test Dimensions: \"\n",
      "[1] 5681   11\n"
     ]
    }
   ],
   "source": [
    "print(\"Train Dimensions: \")\n",
    "print(dim(train))\n",
    "print(\"Test Dimensions: \")\n",
    "print(dim(test))"
   ]
  },
  {
   "cell_type": "code",
   "execution_count": 5,
   "metadata": {
    "collapsed": false,
    "nbpresent": {
     "id": "6300caec-7b79-4184-9181-39f117bb856d"
    }
   },
   "outputs": [
    {
     "name": "stdout",
     "output_type": "stream",
     "text": [
      " [1] \"Item_Identifier\"           \"Item_Weight\"              \n",
      " [3] \"Item_Fat_Content\"          \"Item_Visibility\"          \n",
      " [5] \"Item_Type\"                 \"Item_MRP\"                 \n",
      " [7] \"Outlet_Identifier\"         \"Outlet_Establishment_Year\"\n",
      " [9] \"Outlet_Size\"               \"Outlet_Location_Type\"     \n",
      "[11] \"Outlet_Type\"               \"Item_Outlet_Sales\"        \n"
     ]
    }
   ],
   "source": [
    "print(colnames(train))"
   ]
  },
  {
   "cell_type": "code",
   "execution_count": 6,
   "metadata": {
    "collapsed": false,
    "nbpresent": {
     "id": "e289f580-0c3a-481d-9647-0f1ffd690204"
    }
   },
   "outputs": [
    {
     "name": "stdout",
     "output_type": "stream",
     "text": [
      " [1] \"Item_Identifier\"           \"Item_Weight\"              \n",
      " [3] \"Item_Fat_Content\"          \"Item_Visibility\"          \n",
      " [5] \"Item_Type\"                 \"Item_MRP\"                 \n",
      " [7] \"Outlet_Identifier\"         \"Outlet_Establishment_Year\"\n",
      " [9] \"Outlet_Size\"               \"Outlet_Location_Type\"     \n",
      "[11] \"Outlet_Type\"              \n"
     ]
    }
   ],
   "source": [
    "print(colnames(test))"
   ]
  },
  {
   "cell_type": "code",
   "execution_count": 7,
   "metadata": {
    "collapsed": true
   },
   "outputs": [],
   "source": [
    "# Create and placehold test column for item outlet sales\n",
    "test$Item_Outlet_Sales <- 0"
   ]
  },
  {
   "cell_type": "code",
   "execution_count": 8,
   "metadata": {
    "collapsed": false,
    "nbpresent": {
     "id": "25d9ae2d-6c15-4583-a68f-5a2ca327d4f6"
    }
   },
   "outputs": [
    {
     "data": {
      "text/html": [
       "<dl class=dl-horizontal>\n",
       "\t<dt>Item_Identifier</dt>\n",
       "\t\t<dd>0</dd>\n",
       "\t<dt>Item_Weight</dt>\n",
       "\t\t<dd>1463</dd>\n",
       "\t<dt>Item_Fat_Content</dt>\n",
       "\t\t<dd>0</dd>\n",
       "\t<dt>Item_Visibility</dt>\n",
       "\t\t<dd>0</dd>\n",
       "\t<dt>Item_Type</dt>\n",
       "\t\t<dd>0</dd>\n",
       "\t<dt>Item_MRP</dt>\n",
       "\t\t<dd>0</dd>\n",
       "\t<dt>Outlet_Identifier</dt>\n",
       "\t\t<dd>0</dd>\n",
       "\t<dt>Outlet_Establishment_Year</dt>\n",
       "\t\t<dd>0</dd>\n",
       "\t<dt>Outlet_Size</dt>\n",
       "\t\t<dd>0</dd>\n",
       "\t<dt>Outlet_Location_Type</dt>\n",
       "\t\t<dd>0</dd>\n",
       "\t<dt>Outlet_Type</dt>\n",
       "\t\t<dd>0</dd>\n",
       "\t<dt>Item_Outlet_Sales</dt>\n",
       "\t\t<dd>0</dd>\n",
       "</dl>\n"
      ],
      "text/latex": [
       "\\begin{description*}\n",
       "\\item[Item\\textbackslash{}\\_Identifier] 0\n",
       "\\item[Item\\textbackslash{}\\_Weight] 1463\n",
       "\\item[Item\\textbackslash{}\\_Fat\\textbackslash{}\\_Content] 0\n",
       "\\item[Item\\textbackslash{}\\_Visibility] 0\n",
       "\\item[Item\\textbackslash{}\\_Type] 0\n",
       "\\item[Item\\textbackslash{}\\_MRP] 0\n",
       "\\item[Outlet\\textbackslash{}\\_Identifier] 0\n",
       "\\item[Outlet\\textbackslash{}\\_Establishment\\textbackslash{}\\_Year] 0\n",
       "\\item[Outlet\\textbackslash{}\\_Size] 0\n",
       "\\item[Outlet\\textbackslash{}\\_Location\\textbackslash{}\\_Type] 0\n",
       "\\item[Outlet\\textbackslash{}\\_Type] 0\n",
       "\\item[Item\\textbackslash{}\\_Outlet\\textbackslash{}\\_Sales] 0\n",
       "\\end{description*}\n"
      ],
      "text/markdown": [
       "Item_Identifier\n",
       ":   0Item_Weight\n",
       ":   1463Item_Fat_Content\n",
       ":   0Item_Visibility\n",
       ":   0Item_Type\n",
       ":   0Item_MRP\n",
       ":   0Outlet_Identifier\n",
       ":   0Outlet_Establishment_Year\n",
       ":   0Outlet_Size\n",
       ":   0Outlet_Location_Type\n",
       ":   0Outlet_Type\n",
       ":   0Item_Outlet_Sales\n",
       ":   0\n",
       "\n"
      ],
      "text/plain": [
       "          Item_Identifier               Item_Weight          Item_Fat_Content \n",
       "                        0                      1463                         0 \n",
       "          Item_Visibility                 Item_Type                  Item_MRP \n",
       "                        0                         0                         0 \n",
       "        Outlet_Identifier Outlet_Establishment_Year               Outlet_Size \n",
       "                        0                         0                         0 \n",
       "     Outlet_Location_Type               Outlet_Type         Item_Outlet_Sales \n",
       "                        0                         0                         0 "
      ]
     },
     "metadata": {},
     "output_type": "display_data"
    }
   ],
   "source": [
    "# Checking for null values of each column\n",
    "colSums(is.na(train))"
   ]
  },
  {
   "cell_type": "code",
   "execution_count": 9,
   "metadata": {
    "collapsed": false
   },
   "outputs": [
    {
     "data": {
      "text/html": [
       "<dl class=dl-horizontal>\n",
       "\t<dt>Item_Identifier</dt>\n",
       "\t\t<dd>0</dd>\n",
       "\t<dt>Item_Weight</dt>\n",
       "\t\t<dd>976</dd>\n",
       "\t<dt>Item_Fat_Content</dt>\n",
       "\t\t<dd>0</dd>\n",
       "\t<dt>Item_Visibility</dt>\n",
       "\t\t<dd>0</dd>\n",
       "\t<dt>Item_Type</dt>\n",
       "\t\t<dd>0</dd>\n",
       "\t<dt>Item_MRP</dt>\n",
       "\t\t<dd>0</dd>\n",
       "\t<dt>Outlet_Identifier</dt>\n",
       "\t\t<dd>0</dd>\n",
       "\t<dt>Outlet_Establishment_Year</dt>\n",
       "\t\t<dd>0</dd>\n",
       "\t<dt>Outlet_Size</dt>\n",
       "\t\t<dd>0</dd>\n",
       "\t<dt>Outlet_Location_Type</dt>\n",
       "\t\t<dd>0</dd>\n",
       "\t<dt>Outlet_Type</dt>\n",
       "\t\t<dd>0</dd>\n",
       "\t<dt>Item_Outlet_Sales</dt>\n",
       "\t\t<dd>0</dd>\n",
       "</dl>\n"
      ],
      "text/latex": [
       "\\begin{description*}\n",
       "\\item[Item\\textbackslash{}\\_Identifier] 0\n",
       "\\item[Item\\textbackslash{}\\_Weight] 976\n",
       "\\item[Item\\textbackslash{}\\_Fat\\textbackslash{}\\_Content] 0\n",
       "\\item[Item\\textbackslash{}\\_Visibility] 0\n",
       "\\item[Item\\textbackslash{}\\_Type] 0\n",
       "\\item[Item\\textbackslash{}\\_MRP] 0\n",
       "\\item[Outlet\\textbackslash{}\\_Identifier] 0\n",
       "\\item[Outlet\\textbackslash{}\\_Establishment\\textbackslash{}\\_Year] 0\n",
       "\\item[Outlet\\textbackslash{}\\_Size] 0\n",
       "\\item[Outlet\\textbackslash{}\\_Location\\textbackslash{}\\_Type] 0\n",
       "\\item[Outlet\\textbackslash{}\\_Type] 0\n",
       "\\item[Item\\textbackslash{}\\_Outlet\\textbackslash{}\\_Sales] 0\n",
       "\\end{description*}\n"
      ],
      "text/markdown": [
       "Item_Identifier\n",
       ":   0Item_Weight\n",
       ":   976Item_Fat_Content\n",
       ":   0Item_Visibility\n",
       ":   0Item_Type\n",
       ":   0Item_MRP\n",
       ":   0Outlet_Identifier\n",
       ":   0Outlet_Establishment_Year\n",
       ":   0Outlet_Size\n",
       ":   0Outlet_Location_Type\n",
       ":   0Outlet_Type\n",
       ":   0Item_Outlet_Sales\n",
       ":   0\n",
       "\n"
      ],
      "text/plain": [
       "          Item_Identifier               Item_Weight          Item_Fat_Content \n",
       "                        0                       976                         0 \n",
       "          Item_Visibility                 Item_Type                  Item_MRP \n",
       "                        0                         0                         0 \n",
       "        Outlet_Identifier Outlet_Establishment_Year               Outlet_Size \n",
       "                        0                         0                         0 \n",
       "     Outlet_Location_Type               Outlet_Type         Item_Outlet_Sales \n",
       "                        0                         0                         0 "
      ]
     },
     "metadata": {},
     "output_type": "display_data"
    }
   ],
   "source": [
    "colSums(is.na(test))"
   ]
  },
  {
   "cell_type": "code",
   "execution_count": 10,
   "metadata": {
    "collapsed": false,
    "nbpresent": {
     "id": "c6d91332-29f5-46f4-979e-2248bd665fa9"
    }
   },
   "outputs": [
    {
     "data": {
      "text/plain": [
       " Item_Identifier  Item_Weight     Item_Fat_Content Item_Visibility  \n",
       " FDG33  :  10    Min.   : 4.555   LF     : 316     Min.   :0.00000  \n",
       " FDW13  :  10    1st Qu.: 8.774   low fat: 112     1st Qu.:0.02699  \n",
       " DRE49  :   9    Median :12.600   Low Fat:5089     Median :0.05393  \n",
       " DRN47  :   9    Mean   :12.858   reg    : 117     Mean   :0.06613  \n",
       " FDD38  :   9    3rd Qu.:16.850   Regular:2889     3rd Qu.:0.09459  \n",
       " FDF52  :   9    Max.   :21.350                    Max.   :0.32839  \n",
       " (Other):8467    NA's   :1463                                       \n",
       "                 Item_Type       Item_MRP      Outlet_Identifier\n",
       " Fruits and Vegetables:1232   Min.   : 31.29   OUT027 : 935     \n",
       " Snack Foods          :1200   1st Qu.: 93.83   OUT013 : 932     \n",
       " Household            : 910   Median :143.01   OUT035 : 930     \n",
       " Frozen Foods         : 856   Mean   :140.99   OUT046 : 930     \n",
       " Dairy                : 682   3rd Qu.:185.64   OUT049 : 930     \n",
       " Canned               : 649   Max.   :266.89   OUT045 : 929     \n",
       " (Other)              :2994                    (Other):2937     \n",
       " Outlet_Establishment_Year Outlet_Size   Outlet_Location_Type\n",
       " Min.   :1985                    :2410   Tier 1:2388         \n",
       " 1st Qu.:1987              High  : 932   Tier 2:2785         \n",
       " Median :1999              Medium:2793   Tier 3:3350         \n",
       " Mean   :1998              Small :2388                       \n",
       " 3rd Qu.:2004                                                \n",
       " Max.   :2009                                                \n",
       "                                                             \n",
       "            Outlet_Type   Item_Outlet_Sales \n",
       " Grocery Store    :1083   Min.   :   33.29  \n",
       " Supermarket Type1:5577   1st Qu.:  834.25  \n",
       " Supermarket Type2: 928   Median : 1794.33  \n",
       " Supermarket Type3: 935   Mean   : 2181.29  \n",
       "                          3rd Qu.: 3101.30  \n",
       "                          Max.   :13086.97  \n",
       "                                            "
      ]
     },
     "metadata": {},
     "output_type": "display_data"
    }
   ],
   "source": [
    "# Stats of our train data\n",
    "summary(train)"
   ]
  },
  {
   "cell_type": "markdown",
   "metadata": {
    "nbpresent": {
     "id": "4f77c179-6d1b-44ff-912d-78304de136d7"
    }
   },
   "source": [
    "### Dealing with Null Values"
   ]
  },
  {
   "cell_type": "code",
   "execution_count": 11,
   "metadata": {
    "collapsed": false,
    "nbpresent": {
     "id": "678bf183-b497-4dbe-b047-77b98555a79c"
    }
   },
   "outputs": [
    {
     "data": {
      "text/plain": [
       "  Item_Weight    \n",
       " Min.   : 4.555  \n",
       " 1st Qu.: 8.774  \n",
       " Median :12.600  \n",
       " Mean   :12.858  \n",
       " 3rd Qu.:16.850  \n",
       " Max.   :21.350  \n",
       " NA's   :1463    "
      ]
     },
     "metadata": {},
     "output_type": "display_data"
    }
   ],
   "source": [
    "# Since we were missing Item_Weight lets look at the statistics\n",
    "summary(train['Item_Weight'])"
   ]
  },
  {
   "cell_type": "code",
   "execution_count": 12,
   "metadata": {
    "collapsed": false
   },
   "outputs": [
    {
     "data": {
      "text/plain": [
       "  Item_Weight    \n",
       " Min.   : 4.555  \n",
       " 1st Qu.: 8.645  \n",
       " Median :12.500  \n",
       " Mean   :12.696  \n",
       " 3rd Qu.:16.700  \n",
       " Max.   :21.350  \n",
       " NA's   :976     "
      ]
     },
     "metadata": {},
     "output_type": "display_data"
    }
   ],
   "source": [
    "summary(test['Item_Weight'])"
   ]
  },
  {
   "cell_type": "code",
   "execution_count": 13,
   "metadata": {
    "collapsed": false
   },
   "outputs": [
    {
     "data": {
      "text/html": [
       "<table>\n",
       "<thead><tr><th scope=col>Outlet_Location_Type</th><th scope=col>Item_Type</th><th scope=col>Average_Weight</th></tr></thead>\n",
       "<tbody>\n",
       "\t<tr><td>Tier 1               </td><td>Baking Goods         </td><td>      NA             </td></tr>\n",
       "\t<tr><td>Tier 1               </td><td>Breads               </td><td>      NA             </td></tr>\n",
       "\t<tr><td>Tier 1               </td><td>Breakfast            </td><td>      NA             </td></tr>\n",
       "\t<tr><td>Tier 1               </td><td>Canned               </td><td>      NA             </td></tr>\n",
       "\t<tr><td>Tier 1               </td><td>Dairy                </td><td>      NA             </td></tr>\n",
       "\t<tr><td>Tier 1               </td><td>Frozen Foods         </td><td>      NA             </td></tr>\n",
       "\t<tr><td>Tier 1               </td><td>Fruits and Vegetables</td><td>      NA             </td></tr>\n",
       "\t<tr><td>Tier 1               </td><td>Hard Drinks          </td><td>      NA             </td></tr>\n",
       "\t<tr><td>Tier 1               </td><td>Health and Hygiene   </td><td>      NA             </td></tr>\n",
       "\t<tr><td>Tier 1               </td><td>Household            </td><td>      NA             </td></tr>\n",
       "\t<tr><td>Tier 1               </td><td>Meat                 </td><td>      NA             </td></tr>\n",
       "\t<tr><td>Tier 1               </td><td>Others               </td><td>      NA             </td></tr>\n",
       "\t<tr><td>Tier 1               </td><td>Seafood              </td><td>      NA             </td></tr>\n",
       "\t<tr><td>Tier 1               </td><td>Snack Foods          </td><td>      NA             </td></tr>\n",
       "\t<tr><td>Tier 1               </td><td>Soft Drinks          </td><td>      NA             </td></tr>\n",
       "\t<tr><td>Tier 1               </td><td>Starchy Foods        </td><td>      NA             </td></tr>\n",
       "\t<tr><td>Tier 2               </td><td>Baking Goods         </td><td>12.43846             </td></tr>\n",
       "\t<tr><td>Tier 2               </td><td>Breads               </td><td>11.24887             </td></tr>\n",
       "\t<tr><td>Tier 2               </td><td>Breakfast            </td><td>12.72969             </td></tr>\n",
       "\t<tr><td>Tier 2               </td><td>Canned               </td><td>12.33847             </td></tr>\n",
       "\t<tr><td>Tier 2               </td><td>Dairy                </td><td>13.17937             </td></tr>\n",
       "\t<tr><td>Tier 2               </td><td>Frozen Foods         </td><td>12.92973             </td></tr>\n",
       "\t<tr><td>Tier 2               </td><td>Fruits and Vegetables</td><td>13.08297             </td></tr>\n",
       "\t<tr><td>Tier 2               </td><td>Hard Drinks          </td><td>11.64750             </td></tr>\n",
       "\t<tr><td>Tier 2               </td><td>Health and Hygiene   </td><td>12.87494             </td></tr>\n",
       "\t<tr><td>Tier 2               </td><td>Household            </td><td>13.04105             </td></tr>\n",
       "\t<tr><td>Tier 2               </td><td>Meat                 </td><td>13.23468             </td></tr>\n",
       "\t<tr><td>Tier 2               </td><td>Others               </td><td>13.72500             </td></tr>\n",
       "\t<tr><td>Tier 2               </td><td>Seafood              </td><td>11.86977             </td></tr>\n",
       "\t<tr><td>Tier 2               </td><td>Snack Foods          </td><td>12.86693             </td></tr>\n",
       "\t<tr><td>Tier 2               </td><td>Soft Drinks          </td><td>11.81468             </td></tr>\n",
       "\t<tr><td>Tier 2               </td><td>Starchy Foods        </td><td>13.53038             </td></tr>\n",
       "\t<tr><td>Tier 3               </td><td>Baking Goods         </td><td>      NA             </td></tr>\n",
       "\t<tr><td>Tier 3               </td><td>Breads               </td><td>      NA             </td></tr>\n",
       "\t<tr><td>Tier 3               </td><td>Breakfast            </td><td>      NA             </td></tr>\n",
       "\t<tr><td>Tier 3               </td><td>Canned               </td><td>      NA             </td></tr>\n",
       "\t<tr><td>Tier 3               </td><td>Dairy                </td><td>      NA             </td></tr>\n",
       "\t<tr><td>Tier 3               </td><td>Frozen Foods         </td><td>      NA             </td></tr>\n",
       "\t<tr><td>Tier 3               </td><td>Fruits and Vegetables</td><td>      NA             </td></tr>\n",
       "\t<tr><td>Tier 3               </td><td>Hard Drinks          </td><td>      NA             </td></tr>\n",
       "\t<tr><td>Tier 3               </td><td>Health and Hygiene   </td><td>      NA             </td></tr>\n",
       "\t<tr><td>Tier 3               </td><td>Household            </td><td>      NA             </td></tr>\n",
       "\t<tr><td>Tier 3               </td><td>Meat                 </td><td>      NA             </td></tr>\n",
       "\t<tr><td>Tier 3               </td><td>Others               </td><td>      NA             </td></tr>\n",
       "\t<tr><td>Tier 3               </td><td>Seafood              </td><td>      NA             </td></tr>\n",
       "\t<tr><td>Tier 3               </td><td>Snack Foods          </td><td>      NA             </td></tr>\n",
       "\t<tr><td>Tier 3               </td><td>Soft Drinks          </td><td>      NA             </td></tr>\n",
       "\t<tr><td>Tier 3               </td><td>Starchy Foods        </td><td>      NA             </td></tr>\n",
       "</tbody>\n",
       "</table>\n"
      ],
      "text/latex": [
       "\\begin{tabular}{r|lll}\n",
       " Outlet\\_Location\\_Type & Item\\_Type & Average\\_Weight\\\\\n",
       "\\hline\n",
       "\t Tier 1                & Baking Goods          &       NA             \\\\\n",
       "\t Tier 1                & Breads                &       NA             \\\\\n",
       "\t Tier 1                & Breakfast             &       NA             \\\\\n",
       "\t Tier 1                & Canned                &       NA             \\\\\n",
       "\t Tier 1                & Dairy                 &       NA             \\\\\n",
       "\t Tier 1                & Frozen Foods          &       NA             \\\\\n",
       "\t Tier 1                & Fruits and Vegetables &       NA             \\\\\n",
       "\t Tier 1                & Hard Drinks           &       NA             \\\\\n",
       "\t Tier 1                & Health and Hygiene    &       NA             \\\\\n",
       "\t Tier 1                & Household             &       NA             \\\\\n",
       "\t Tier 1                & Meat                  &       NA             \\\\\n",
       "\t Tier 1                & Others                &       NA             \\\\\n",
       "\t Tier 1                & Seafood               &       NA             \\\\\n",
       "\t Tier 1                & Snack Foods           &       NA             \\\\\n",
       "\t Tier 1                & Soft Drinks           &       NA             \\\\\n",
       "\t Tier 1                & Starchy Foods         &       NA             \\\\\n",
       "\t Tier 2                & Baking Goods          & 12.43846             \\\\\n",
       "\t Tier 2                & Breads                & 11.24887             \\\\\n",
       "\t Tier 2                & Breakfast             & 12.72969             \\\\\n",
       "\t Tier 2                & Canned                & 12.33847             \\\\\n",
       "\t Tier 2                & Dairy                 & 13.17937             \\\\\n",
       "\t Tier 2                & Frozen Foods          & 12.92973             \\\\\n",
       "\t Tier 2                & Fruits and Vegetables & 13.08297             \\\\\n",
       "\t Tier 2                & Hard Drinks           & 11.64750             \\\\\n",
       "\t Tier 2                & Health and Hygiene    & 12.87494             \\\\\n",
       "\t Tier 2                & Household             & 13.04105             \\\\\n",
       "\t Tier 2                & Meat                  & 13.23468             \\\\\n",
       "\t Tier 2                & Others                & 13.72500             \\\\\n",
       "\t Tier 2                & Seafood               & 11.86977             \\\\\n",
       "\t Tier 2                & Snack Foods           & 12.86693             \\\\\n",
       "\t Tier 2                & Soft Drinks           & 11.81468             \\\\\n",
       "\t Tier 2                & Starchy Foods         & 13.53038             \\\\\n",
       "\t Tier 3                & Baking Goods          &       NA             \\\\\n",
       "\t Tier 3                & Breads                &       NA             \\\\\n",
       "\t Tier 3                & Breakfast             &       NA             \\\\\n",
       "\t Tier 3                & Canned                &       NA             \\\\\n",
       "\t Tier 3                & Dairy                 &       NA             \\\\\n",
       "\t Tier 3                & Frozen Foods          &       NA             \\\\\n",
       "\t Tier 3                & Fruits and Vegetables &       NA             \\\\\n",
       "\t Tier 3                & Hard Drinks           &       NA             \\\\\n",
       "\t Tier 3                & Health and Hygiene    &       NA             \\\\\n",
       "\t Tier 3                & Household             &       NA             \\\\\n",
       "\t Tier 3                & Meat                  &       NA             \\\\\n",
       "\t Tier 3                & Others                &       NA             \\\\\n",
       "\t Tier 3                & Seafood               &       NA             \\\\\n",
       "\t Tier 3                & Snack Foods           &       NA             \\\\\n",
       "\t Tier 3                & Soft Drinks           &       NA             \\\\\n",
       "\t Tier 3                & Starchy Foods         &       NA             \\\\\n",
       "\\end{tabular}\n"
      ],
      "text/plain": [
       "   Outlet_Location_Type Item_Type             Average_Weight\n",
       "1  Tier 1               Baking Goods                NA      \n",
       "2  Tier 1               Breads                      NA      \n",
       "3  Tier 1               Breakfast                   NA      \n",
       "4  Tier 1               Canned                      NA      \n",
       "5  Tier 1               Dairy                       NA      \n",
       "6  Tier 1               Frozen Foods                NA      \n",
       "7  Tier 1               Fruits and Vegetables       NA      \n",
       "8  Tier 1               Hard Drinks                 NA      \n",
       "9  Tier 1               Health and Hygiene          NA      \n",
       "10 Tier 1               Household                   NA      \n",
       "11 Tier 1               Meat                        NA      \n",
       "12 Tier 1               Others                      NA      \n",
       "13 Tier 1               Seafood                     NA      \n",
       "14 Tier 1               Snack Foods                 NA      \n",
       "15 Tier 1               Soft Drinks                 NA      \n",
       "16 Tier 1               Starchy Foods               NA      \n",
       "17 Tier 2               Baking Goods          12.43846      \n",
       "18 Tier 2               Breads                11.24887      \n",
       "19 Tier 2               Breakfast             12.72969      \n",
       "20 Tier 2               Canned                12.33847      \n",
       "21 Tier 2               Dairy                 13.17937      \n",
       "22 Tier 2               Frozen Foods          12.92973      \n",
       "23 Tier 2               Fruits and Vegetables 13.08297      \n",
       "24 Tier 2               Hard Drinks           11.64750      \n",
       "25 Tier 2               Health and Hygiene    12.87494      \n",
       "26 Tier 2               Household             13.04105      \n",
       "27 Tier 2               Meat                  13.23468      \n",
       "28 Tier 2               Others                13.72500      \n",
       "29 Tier 2               Seafood               11.86977      \n",
       "30 Tier 2               Snack Foods           12.86693      \n",
       "31 Tier 2               Soft Drinks           11.81468      \n",
       "32 Tier 2               Starchy Foods         13.53038      \n",
       "33 Tier 3               Baking Goods                NA      \n",
       "34 Tier 3               Breads                      NA      \n",
       "35 Tier 3               Breakfast                   NA      \n",
       "36 Tier 3               Canned                      NA      \n",
       "37 Tier 3               Dairy                       NA      \n",
       "38 Tier 3               Frozen Foods                NA      \n",
       "39 Tier 3               Fruits and Vegetables       NA      \n",
       "40 Tier 3               Hard Drinks                 NA      \n",
       "41 Tier 3               Health and Hygiene          NA      \n",
       "42 Tier 3               Household                   NA      \n",
       "43 Tier 3               Meat                        NA      \n",
       "44 Tier 3               Others                      NA      \n",
       "45 Tier 3               Seafood                     NA      \n",
       "46 Tier 3               Snack Foods                 NA      \n",
       "47 Tier 3               Soft Drinks                 NA      \n",
       "48 Tier 3               Starchy Foods               NA      "
      ]
     },
     "metadata": {},
     "output_type": "display_data"
    }
   ],
   "source": [
    "# We could use the mean, but since we have categorical data, we should use pivot tables.\n",
    "\n",
    "# I plan on using the outlet location type, and the item type.\n",
    "average_weights_train <- train %>% group_by(Outlet_Location_Type,Item_Type) %>% summarise(Average_Weight = mean(Item_Weight))\n",
    "average_weights_train"
   ]
  },
  {
   "cell_type": "code",
   "execution_count": 14,
   "metadata": {
    "collapsed": false
   },
   "outputs": [],
   "source": [
    "# After our pivot table, we notice that only tier 1 and tier 3 location types don't have values. We'll use tier 2 values to fill.\n",
    "average_weights_train[average_weights_train$Outlet_Location_Type == 'Tier 1',]['Average_Weight'] = \n",
    "                average_weights_train[average_weights_train$Outlet_Location_Type == 'Tier 2',]['Average_Weight']\n",
    "average_weights_train[average_weights_train$Outlet_Location_Type == 'Tier 3',]['Average_Weight'] = \n",
    "                average_weights_train[average_weights_train$Outlet_Location_Type == 'Tier 2',]['Average_Weight']"
   ]
  },
  {
   "cell_type": "code",
   "execution_count": 15,
   "metadata": {
    "collapsed": false
   },
   "outputs": [
    {
     "data": {
      "text/html": [
       "<table>\n",
       "<thead><tr><th scope=col>Outlet_Location_Type</th><th scope=col>Item_Type</th><th scope=col>Average_Weight</th></tr></thead>\n",
       "<tbody>\n",
       "\t<tr><td>Tier 1               </td><td>Baking Goods         </td><td>12.43846             </td></tr>\n",
       "\t<tr><td>Tier 1               </td><td>Breads               </td><td>11.24887             </td></tr>\n",
       "\t<tr><td>Tier 1               </td><td>Breakfast            </td><td>12.72969             </td></tr>\n",
       "\t<tr><td>Tier 1               </td><td>Canned               </td><td>12.33847             </td></tr>\n",
       "\t<tr><td>Tier 1               </td><td>Dairy                </td><td>13.17937             </td></tr>\n",
       "\t<tr><td>Tier 1               </td><td>Frozen Foods         </td><td>12.92973             </td></tr>\n",
       "\t<tr><td>Tier 1               </td><td>Fruits and Vegetables</td><td>13.08297             </td></tr>\n",
       "\t<tr><td>Tier 1               </td><td>Hard Drinks          </td><td>11.64750             </td></tr>\n",
       "\t<tr><td>Tier 1               </td><td>Health and Hygiene   </td><td>12.87494             </td></tr>\n",
       "\t<tr><td>Tier 1               </td><td>Household            </td><td>13.04105             </td></tr>\n",
       "\t<tr><td>Tier 1               </td><td>Meat                 </td><td>13.23468             </td></tr>\n",
       "\t<tr><td>Tier 1               </td><td>Others               </td><td>13.72500             </td></tr>\n",
       "\t<tr><td>Tier 1               </td><td>Seafood              </td><td>11.86977             </td></tr>\n",
       "\t<tr><td>Tier 1               </td><td>Snack Foods          </td><td>12.86693             </td></tr>\n",
       "\t<tr><td>Tier 1               </td><td>Soft Drinks          </td><td>11.81468             </td></tr>\n",
       "\t<tr><td>Tier 1               </td><td>Starchy Foods        </td><td>13.53038             </td></tr>\n",
       "\t<tr><td>Tier 2               </td><td>Baking Goods         </td><td>12.43846             </td></tr>\n",
       "\t<tr><td>Tier 2               </td><td>Breads               </td><td>11.24887             </td></tr>\n",
       "\t<tr><td>Tier 2               </td><td>Breakfast            </td><td>12.72969             </td></tr>\n",
       "\t<tr><td>Tier 2               </td><td>Canned               </td><td>12.33847             </td></tr>\n",
       "\t<tr><td>Tier 2               </td><td>Dairy                </td><td>13.17937             </td></tr>\n",
       "\t<tr><td>Tier 2               </td><td>Frozen Foods         </td><td>12.92973             </td></tr>\n",
       "\t<tr><td>Tier 2               </td><td>Fruits and Vegetables</td><td>13.08297             </td></tr>\n",
       "\t<tr><td>Tier 2               </td><td>Hard Drinks          </td><td>11.64750             </td></tr>\n",
       "\t<tr><td>Tier 2               </td><td>Health and Hygiene   </td><td>12.87494             </td></tr>\n",
       "\t<tr><td>Tier 2               </td><td>Household            </td><td>13.04105             </td></tr>\n",
       "\t<tr><td>Tier 2               </td><td>Meat                 </td><td>13.23468             </td></tr>\n",
       "\t<tr><td>Tier 2               </td><td>Others               </td><td>13.72500             </td></tr>\n",
       "\t<tr><td>Tier 2               </td><td>Seafood              </td><td>11.86977             </td></tr>\n",
       "\t<tr><td>Tier 2               </td><td>Snack Foods          </td><td>12.86693             </td></tr>\n",
       "\t<tr><td>Tier 2               </td><td>Soft Drinks          </td><td>11.81468             </td></tr>\n",
       "\t<tr><td>Tier 2               </td><td>Starchy Foods        </td><td>13.53038             </td></tr>\n",
       "\t<tr><td>Tier 3               </td><td>Baking Goods         </td><td>12.43846             </td></tr>\n",
       "\t<tr><td>Tier 3               </td><td>Breads               </td><td>11.24887             </td></tr>\n",
       "\t<tr><td>Tier 3               </td><td>Breakfast            </td><td>12.72969             </td></tr>\n",
       "\t<tr><td>Tier 3               </td><td>Canned               </td><td>12.33847             </td></tr>\n",
       "\t<tr><td>Tier 3               </td><td>Dairy                </td><td>13.17937             </td></tr>\n",
       "\t<tr><td>Tier 3               </td><td>Frozen Foods         </td><td>12.92973             </td></tr>\n",
       "\t<tr><td>Tier 3               </td><td>Fruits and Vegetables</td><td>13.08297             </td></tr>\n",
       "\t<tr><td>Tier 3               </td><td>Hard Drinks          </td><td>11.64750             </td></tr>\n",
       "\t<tr><td>Tier 3               </td><td>Health and Hygiene   </td><td>12.87494             </td></tr>\n",
       "\t<tr><td>Tier 3               </td><td>Household            </td><td>13.04105             </td></tr>\n",
       "\t<tr><td>Tier 3               </td><td>Meat                 </td><td>13.23468             </td></tr>\n",
       "\t<tr><td>Tier 3               </td><td>Others               </td><td>13.72500             </td></tr>\n",
       "\t<tr><td>Tier 3               </td><td>Seafood              </td><td>11.86977             </td></tr>\n",
       "\t<tr><td>Tier 3               </td><td>Snack Foods          </td><td>12.86693             </td></tr>\n",
       "\t<tr><td>Tier 3               </td><td>Soft Drinks          </td><td>11.81468             </td></tr>\n",
       "\t<tr><td>Tier 3               </td><td>Starchy Foods        </td><td>13.53038             </td></tr>\n",
       "</tbody>\n",
       "</table>\n"
      ],
      "text/latex": [
       "\\begin{tabular}{r|lll}\n",
       " Outlet\\_Location\\_Type & Item\\_Type & Average\\_Weight\\\\\n",
       "\\hline\n",
       "\t Tier 1                & Baking Goods          & 12.43846             \\\\\n",
       "\t Tier 1                & Breads                & 11.24887             \\\\\n",
       "\t Tier 1                & Breakfast             & 12.72969             \\\\\n",
       "\t Tier 1                & Canned                & 12.33847             \\\\\n",
       "\t Tier 1                & Dairy                 & 13.17937             \\\\\n",
       "\t Tier 1                & Frozen Foods          & 12.92973             \\\\\n",
       "\t Tier 1                & Fruits and Vegetables & 13.08297             \\\\\n",
       "\t Tier 1                & Hard Drinks           & 11.64750             \\\\\n",
       "\t Tier 1                & Health and Hygiene    & 12.87494             \\\\\n",
       "\t Tier 1                & Household             & 13.04105             \\\\\n",
       "\t Tier 1                & Meat                  & 13.23468             \\\\\n",
       "\t Tier 1                & Others                & 13.72500             \\\\\n",
       "\t Tier 1                & Seafood               & 11.86977             \\\\\n",
       "\t Tier 1                & Snack Foods           & 12.86693             \\\\\n",
       "\t Tier 1                & Soft Drinks           & 11.81468             \\\\\n",
       "\t Tier 1                & Starchy Foods         & 13.53038             \\\\\n",
       "\t Tier 2                & Baking Goods          & 12.43846             \\\\\n",
       "\t Tier 2                & Breads                & 11.24887             \\\\\n",
       "\t Tier 2                & Breakfast             & 12.72969             \\\\\n",
       "\t Tier 2                & Canned                & 12.33847             \\\\\n",
       "\t Tier 2                & Dairy                 & 13.17937             \\\\\n",
       "\t Tier 2                & Frozen Foods          & 12.92973             \\\\\n",
       "\t Tier 2                & Fruits and Vegetables & 13.08297             \\\\\n",
       "\t Tier 2                & Hard Drinks           & 11.64750             \\\\\n",
       "\t Tier 2                & Health and Hygiene    & 12.87494             \\\\\n",
       "\t Tier 2                & Household             & 13.04105             \\\\\n",
       "\t Tier 2                & Meat                  & 13.23468             \\\\\n",
       "\t Tier 2                & Others                & 13.72500             \\\\\n",
       "\t Tier 2                & Seafood               & 11.86977             \\\\\n",
       "\t Tier 2                & Snack Foods           & 12.86693             \\\\\n",
       "\t Tier 2                & Soft Drinks           & 11.81468             \\\\\n",
       "\t Tier 2                & Starchy Foods         & 13.53038             \\\\\n",
       "\t Tier 3                & Baking Goods          & 12.43846             \\\\\n",
       "\t Tier 3                & Breads                & 11.24887             \\\\\n",
       "\t Tier 3                & Breakfast             & 12.72969             \\\\\n",
       "\t Tier 3                & Canned                & 12.33847             \\\\\n",
       "\t Tier 3                & Dairy                 & 13.17937             \\\\\n",
       "\t Tier 3                & Frozen Foods          & 12.92973             \\\\\n",
       "\t Tier 3                & Fruits and Vegetables & 13.08297             \\\\\n",
       "\t Tier 3                & Hard Drinks           & 11.64750             \\\\\n",
       "\t Tier 3                & Health and Hygiene    & 12.87494             \\\\\n",
       "\t Tier 3                & Household             & 13.04105             \\\\\n",
       "\t Tier 3                & Meat                  & 13.23468             \\\\\n",
       "\t Tier 3                & Others                & 13.72500             \\\\\n",
       "\t Tier 3                & Seafood               & 11.86977             \\\\\n",
       "\t Tier 3                & Snack Foods           & 12.86693             \\\\\n",
       "\t Tier 3                & Soft Drinks           & 11.81468             \\\\\n",
       "\t Tier 3                & Starchy Foods         & 13.53038             \\\\\n",
       "\\end{tabular}\n"
      ],
      "text/plain": [
       "   Outlet_Location_Type Item_Type             Average_Weight\n",
       "1  Tier 1               Baking Goods          12.43846      \n",
       "2  Tier 1               Breads                11.24887      \n",
       "3  Tier 1               Breakfast             12.72969      \n",
       "4  Tier 1               Canned                12.33847      \n",
       "5  Tier 1               Dairy                 13.17937      \n",
       "6  Tier 1               Frozen Foods          12.92973      \n",
       "7  Tier 1               Fruits and Vegetables 13.08297      \n",
       "8  Tier 1               Hard Drinks           11.64750      \n",
       "9  Tier 1               Health and Hygiene    12.87494      \n",
       "10 Tier 1               Household             13.04105      \n",
       "11 Tier 1               Meat                  13.23468      \n",
       "12 Tier 1               Others                13.72500      \n",
       "13 Tier 1               Seafood               11.86977      \n",
       "14 Tier 1               Snack Foods           12.86693      \n",
       "15 Tier 1               Soft Drinks           11.81468      \n",
       "16 Tier 1               Starchy Foods         13.53038      \n",
       "17 Tier 2               Baking Goods          12.43846      \n",
       "18 Tier 2               Breads                11.24887      \n",
       "19 Tier 2               Breakfast             12.72969      \n",
       "20 Tier 2               Canned                12.33847      \n",
       "21 Tier 2               Dairy                 13.17937      \n",
       "22 Tier 2               Frozen Foods          12.92973      \n",
       "23 Tier 2               Fruits and Vegetables 13.08297      \n",
       "24 Tier 2               Hard Drinks           11.64750      \n",
       "25 Tier 2               Health and Hygiene    12.87494      \n",
       "26 Tier 2               Household             13.04105      \n",
       "27 Tier 2               Meat                  13.23468      \n",
       "28 Tier 2               Others                13.72500      \n",
       "29 Tier 2               Seafood               11.86977      \n",
       "30 Tier 2               Snack Foods           12.86693      \n",
       "31 Tier 2               Soft Drinks           11.81468      \n",
       "32 Tier 2               Starchy Foods         13.53038      \n",
       "33 Tier 3               Baking Goods          12.43846      \n",
       "34 Tier 3               Breads                11.24887      \n",
       "35 Tier 3               Breakfast             12.72969      \n",
       "36 Tier 3               Canned                12.33847      \n",
       "37 Tier 3               Dairy                 13.17937      \n",
       "38 Tier 3               Frozen Foods          12.92973      \n",
       "39 Tier 3               Fruits and Vegetables 13.08297      \n",
       "40 Tier 3               Hard Drinks           11.64750      \n",
       "41 Tier 3               Health and Hygiene    12.87494      \n",
       "42 Tier 3               Household             13.04105      \n",
       "43 Tier 3               Meat                  13.23468      \n",
       "44 Tier 3               Others                13.72500      \n",
       "45 Tier 3               Seafood               11.86977      \n",
       "46 Tier 3               Snack Foods           12.86693      \n",
       "47 Tier 3               Soft Drinks           11.81468      \n",
       "48 Tier 3               Starchy Foods         13.53038      "
      ]
     },
     "metadata": {},
     "output_type": "display_data"
    }
   ],
   "source": [
    "average_weights_train"
   ]
  },
  {
   "cell_type": "code",
   "execution_count": null,
   "metadata": {
    "collapsed": true
   },
   "outputs": [],
   "source": [
    "# Putting them back into our train dataset."
   ]
  },
  {
   "cell_type": "markdown",
   "metadata": {},
   "source": [
    "### Visibility that is less than 0.2 seems to be the best. This is good to note when we train our data."
   ]
  },
  {
   "cell_type": "code",
   "execution_count": 16,
   "metadata": {
    "collapsed": false,
    "nbpresent": {
     "id": "87ca7135-9591-43dc-9742-2ff3dc584080"
    }
   },
   "outputs": [
    {
     "data": {},
     "metadata": {},
     "output_type": "display_data"
    },
    {
     "data": {
      "image/png": "[encoded data removed]",
      "text/plain": [
       "plot without title"
      ]
     },
     "metadata": {},
     "output_type": "display_data"
    }
   ],
   "source": [
    "# A question a lot of companies ask is how much their products get sold depending on their visibility\n",
    "ggplot(train, aes(x= Item_Visibility, y = Item_Outlet_Sales)) + \n",
    "geom_point(size = 1.5, color = 'red') +\n",
    "xlab(\"Visibility\") +\n",
    "ylab(\"Outlet Sales\") +\n",
    "ggtitle(\"Visibility vs Outlet Sales\")"
   ]
  },
  {
   "cell_type": "markdown",
   "metadata": {},
   "source": [
    "### Now the company knows fruits and vegetables are the best selling, and snack foods aren't too far behind."
   ]
  },
  {
   "cell_type": "code",
   "execution_count": 17,
   "metadata": {
    "collapsed": false
   },
   "outputs": [
    {
     "data": {},
     "metadata": {},
     "output_type": "display_data"
    },
    {
     "data": {
      "image/png": "[encoded data removed]",
      "text/plain": [
       "plot without title"
      ]
     },
     "metadata": {},
     "output_type": "display_data"
    }
   ],
   "source": [
    "# Another big thing companies like knowing is how much products are sold of each item type.\n",
    "ggplot(train, aes(x = Item_Type, y = Item_Outlet_Sales)) + \n",
    "geom_bar(stat = 'identity', color = 'blue') +\n",
    "theme(axis.text.x =  element_text(angle = 90, vjust = 0.5, color = 'black')) + \n",
    "xlab(\"Item Type\") +\n",
    "ylab(\"Outlet Sales\") +\n",
    "ggtitle(\"Item vs Sales\")"
   ]
  },
  {
   "cell_type": "markdown",
   "metadata": {},
   "source": [
    "### Though best selling, doesn't neccesarily mean most profitable. It also seems we have an outlier."
   ]
  },
  {
   "cell_type": "code",
   "execution_count": 18,
   "metadata": {
    "collapsed": false
   },
   "outputs": [
    {
     "data": {},
     "metadata": {},
     "output_type": "display_data"
    },
    {
     "data": {
      "image/png": "[encoded data removed]",
      "text/plain": [
       "plot without title"
      ]
     },
     "metadata": {},
     "output_type": "display_data"
    }
   ],
   "source": [
    "# Another big thing companies like knowing is how much money is being made of each item type.\n",
    "ggplot(train, aes(x = Item_Type, y = Item_MRP)) + \n",
    "geom_boxplot() +\n",
    "theme(axis.text.x =  element_text(angle = 90, vjust = 0.5, color = 'black')) + \n",
    "xlab(\"Item Type\") +\n",
    "ylab(\"Item MRP\") +\n",
    "ggtitle(\"Item vs MRP\")"
   ]
  },
  {
   "cell_type": "code",
   "execution_count": null,
   "metadata": {
    "collapsed": true
   },
   "outputs": [],
   "source": []
  }
 ],
 "metadata": {
  "kernelspec": {
   "display_name": "R",
   "language": "R",
   "name": "ir"
  },
  "language_info": {
   "codemirror_mode": "r",
   "file_extension": ".r",
   "mimetype": "text/x-r-source",
   "name": "R",
   "pygments_lexer": "r",
   "version": "3.3.1"
  },
  "nbpresent": {
   "slides": {
    "04db4e7b-a917-4973-bbe1-1690766b7fc7": {
     "id": "04db4e7b-a917-4973-bbe1-1690766b7fc7",
     "prev": "5c76965e-365c-4e42-8f22-93cd4429ba54",
     "regions": {
      "640151f4-024c-429c-9928-c5f8374a34e7": {
       "attrs": {
        "height": 0.8,
        "width": 0.8,
        "x": 0.1,
        "y": 0.1
       },
       "content": {
        "cell": "678bf183-b497-4dbe-b047-77b98555a79c",
        "part": "whole"
       },
       "id": "640151f4-024c-429c-9928-c5f8374a34e7"
      }
     }
    },
    "1e97ccd3-9c52-4a65-8e6a-d2d19649589e": {
     "id": "1e97ccd3-9c52-4a65-8e6a-d2d19649589e",
     "prev": "3f3c5dd3-629b-4272-86a4-b3f91aa65de6",
     "regions": {
      "9c24e0c0-064a-426d-9767-a19cde270e2f": {
       "attrs": {
        "height": 0.8,
        "width": 0.8,
        "x": 0.1,
        "y": 0.1
       },
       "content": {
        "cell": "7e65a614-83df-4916-bc51-bd104415ae78",
        "part": "whole"
       },
       "id": "9c24e0c0-064a-426d-9767-a19cde270e2f"
      }
     }
    },
    "3f3c5dd3-629b-4272-86a4-b3f91aa65de6": {
     "id": "3f3c5dd3-629b-4272-86a4-b3f91aa65de6",
     "prev": null,
     "regions": {
      "51b0d53b-a415-41c2-b91d-731b9dbf8c70": {
       "attrs": {
        "height": 0.8,
        "width": 0.8,
        "x": 0.1,
        "y": 0.1
       },
       "content": {
        "cell": "b1c36db9-9f07-42ea-91f3-840ed805a4d7",
        "part": "whole"
       },
       "id": "51b0d53b-a415-41c2-b91d-731b9dbf8c70"
      }
     }
    },
    "4ec4ee41-130a-4fb3-a8fa-80309d43470e": {
     "id": "4ec4ee41-130a-4fb3-a8fa-80309d43470e",
     "prev": "bf9d4dfc-8f74-4442-9795-4c14c7a115d4",
     "regions": {
      "2122c257-b956-44fd-9417-af7641ddd537": {
       "attrs": {
        "height": 0.8,
        "width": 0.8,
        "x": 0.1,
        "y": 0.1
       },
       "content": {
        "cell": "6ff0487a-9652-4cc4-9631-dd28a192d510",
        "part": "whole"
       },
       "id": "2122c257-b956-44fd-9417-af7641ddd537"
      }
     }
    },
    "5c76965e-365c-4e42-8f22-93cd4429ba54": {
     "id": "5c76965e-365c-4e42-8f22-93cd4429ba54",
     "prev": "932ae90f-1e97-42e6-8754-906ffdbdbe13",
     "regions": {
      "e91809a6-3d05-4347-b48a-15f32418918a": {
       "attrs": {
        "height": 0.8,
        "width": 0.8,
        "x": 0.1,
        "y": 0.1
       },
       "content": {
        "cell": "4f77c179-6d1b-44ff-912d-78304de136d7",
        "part": "whole"
       },
       "id": "e91809a6-3d05-4347-b48a-15f32418918a"
      }
     }
    },
    "7b6a4fb3-3255-432f-a7f9-34ff47049044": {
     "id": "7b6a4fb3-3255-432f-a7f9-34ff47049044",
     "prev": "93c0a0b9-1453-49ae-b53b-a4222b8e7aea",
     "regions": {
      "2df3f1e3-5624-40a4-8085-5bb0a3aad2ea": {
       "attrs": {
        "height": 0.8,
        "width": 0.8,
        "x": 0.1,
        "y": 0.1
       },
       "content": {
        "cell": "6300caec-7b79-4184-9181-39f117bb856d",
        "part": "whole"
       },
       "id": "2df3f1e3-5624-40a4-8085-5bb0a3aad2ea"
      }
     }
    },
    "932ae90f-1e97-42e6-8754-906ffdbdbe13": {
     "id": "932ae90f-1e97-42e6-8754-906ffdbdbe13",
     "prev": "b412ab1c-6868-48b9-8cec-1bc732863bd2",
     "regions": {
      "85a05a32-2a0e-40ba-8a91-1488c0c872a3": {
       "attrs": {
        "height": 0.8,
        "width": 0.8,
        "x": 0.1,
        "y": 0.1
       },
       "content": {
        "cell": "c6d91332-29f5-46f4-979e-2248bd665fa9",
        "part": "whole"
       },
       "id": "85a05a32-2a0e-40ba-8a91-1488c0c872a3"
      }
     }
    },
    "93c0a0b9-1453-49ae-b53b-a4222b8e7aea": {
     "id": "93c0a0b9-1453-49ae-b53b-a4222b8e7aea",
     "prev": "1e97ccd3-9c52-4a65-8e6a-d2d19649589e",
     "regions": {
      "f78ce648-ee08-469f-83ee-87d03113090a": {
       "attrs": {
        "height": 0.8,
        "width": 0.8,
        "x": 0.1,
        "y": 0.1
       },
       "content": {
        "cell": "2e027da3-3256-4f28-a846-81c9a270b942",
        "part": "whole"
       },
       "id": "f78ce648-ee08-469f-83ee-87d03113090a"
      }
     }
    },
    "b412ab1c-6868-48b9-8cec-1bc732863bd2": {
     "id": "b412ab1c-6868-48b9-8cec-1bc732863bd2",
     "prev": "c901bc9b-82c2-4a72-89e5-10db7c94edce",
     "regions": {
      "190c75e4-cd64-4c0b-ab4d-76597459d35c": {
       "attrs": {
        "height": 0.8,
        "width": 0.8,
        "x": 0.1,
        "y": 0.1
       },
       "content": {
        "cell": "25d9ae2d-6c15-4583-a68f-5a2ca327d4f6",
        "part": "whole"
       },
       "id": "190c75e4-cd64-4c0b-ab4d-76597459d35c"
      }
     }
    },
    "bf9d4dfc-8f74-4442-9795-4c14c7a115d4": {
     "id": "bf9d4dfc-8f74-4442-9795-4c14c7a115d4",
     "prev": "04db4e7b-a917-4973-bbe1-1690766b7fc7",
     "regions": {
      "f75753d2-5141-48c6-8b6b-adf347474f73": {
       "attrs": {
        "height": 0.8,
        "width": 0.8,
        "x": 0.1,
        "y": 0.1
       },
       "content": {
        "cell": "87ca7135-9591-43dc-9742-2ff3dc584080",
        "part": "whole"
       },
       "id": "f75753d2-5141-48c6-8b6b-adf347474f73"
      }
     }
    },
    "c901bc9b-82c2-4a72-89e5-10db7c94edce": {
     "id": "c901bc9b-82c2-4a72-89e5-10db7c94edce",
     "prev": "7b6a4fb3-3255-432f-a7f9-34ff47049044",
     "regions": {
      "25009485-abea-4698-8e82-2bab6d637225": {
       "attrs": {
        "height": 0.8,
        "width": 0.8,
        "x": 0.1,
        "y": 0.1
       },
       "content": {
        "cell": "e289f580-0c3a-481d-9647-0f1ffd690204",
        "part": "whole"
       },
       "id": "25009485-abea-4698-8e82-2bab6d637225"
      }
     }
    }
   },
   "themes": {}
  }
 },
 "nbformat": 4,
 "nbformat_minor": 0
}
