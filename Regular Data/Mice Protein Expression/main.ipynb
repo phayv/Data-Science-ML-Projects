{
 "cells": [
  {
   "cell_type": "code",
   "execution_count": 1,
   "metadata": {
    "collapsed": true
   },
   "outputs": [],
   "source": [
    "# Libraries\n",
    "#---Pandas\n",
    "import pandas as pd\n",
    "from pandas.tools.plotting import scatter_matrix\n",
    "\n",
    "#---numpy\n",
    "import numpy as np\n",
    "\n",
    "#---matplotlib\n",
    "from matplotlib import pyplot as plt"
   ]
  },
  {
   "cell_type": "code",
   "execution_count": 19,
   "metadata": {
    "collapsed": false
   },
   "outputs": [
    {
     "data": {
      "text/plain": [
       "[u'Hoja1']"
      ]
     },
     "execution_count": 19,
     "metadata": {},
     "output_type": "execute_result"
    }
   ],
   "source": [
    "# importing\n",
    "xls = pd.ExcelFile(\"data/Data_Cortex_Nuclear.xls\")\n",
    "xls.sheet_names"
   ]
  },
  {
   "cell_type": "code",
   "execution_count": 20,
   "metadata": {
    "collapsed": false
   },
   "outputs": [
    {
     "data": {
      "text/plain": [
       "1080"
      ]
     },
     "execution_count": 20,
     "metadata": {},
     "output_type": "execute_result"
    }
   ],
   "source": [
    "# creating a dataframe\n",
    "data = xls.parse(\"Hoja1\")\n",
    "len(data.index)"
   ]
  },
  {
   "cell_type": "code",
   "execution_count": 21,
   "metadata": {
    "collapsed": false
   },
   "outputs": [
    {
     "data": {
      "text/html": [
       "<div>\n",
       "<table border=\"1\" class=\"dataframe\">\n",
       "  <thead>\n",
       "    <tr style=\"text-align: right;\">\n",
       "      <th></th>\n",
       "      <th>MouseID</th>\n",
       "      <th>DYRK1A_N</th>\n",
       "      <th>ITSN1_N</th>\n",
       "      <th>BDNF_N</th>\n",
       "      <th>NR1_N</th>\n",
       "      <th>NR2A_N</th>\n",
       "      <th>pAKT_N</th>\n",
       "      <th>pBRAF_N</th>\n",
       "      <th>pCAMKII_N</th>\n",
       "      <th>pCREB_N</th>\n",
       "      <th>...</th>\n",
       "      <th>pCFOS_N</th>\n",
       "      <th>SYP_N</th>\n",
       "      <th>H3AcK18_N</th>\n",
       "      <th>EGR1_N</th>\n",
       "      <th>H3MeK4_N</th>\n",
       "      <th>CaNA_N</th>\n",
       "      <th>Genotype</th>\n",
       "      <th>Treatment</th>\n",
       "      <th>Behavior</th>\n",
       "      <th>class</th>\n",
       "    </tr>\n",
       "  </thead>\n",
       "  <tbody>\n",
       "    <tr>\n",
       "      <th>0</th>\n",
       "      <td>309_1</td>\n",
       "      <td>0.503644</td>\n",
       "      <td>0.747193</td>\n",
       "      <td>0.430175</td>\n",
       "      <td>2.816329</td>\n",
       "      <td>5.990152</td>\n",
       "      <td>0.218830</td>\n",
       "      <td>0.177565</td>\n",
       "      <td>2.373744</td>\n",
       "      <td>0.232224</td>\n",
       "      <td>...</td>\n",
       "      <td>0.108336</td>\n",
       "      <td>0.427099</td>\n",
       "      <td>0.114783</td>\n",
       "      <td>0.131790</td>\n",
       "      <td>0.128186</td>\n",
       "      <td>1.675652</td>\n",
       "      <td>Control</td>\n",
       "      <td>Memantine</td>\n",
       "      <td>C/S</td>\n",
       "      <td>c-CS-m</td>\n",
       "    </tr>\n",
       "    <tr>\n",
       "      <th>1</th>\n",
       "      <td>309_2</td>\n",
       "      <td>0.514617</td>\n",
       "      <td>0.689064</td>\n",
       "      <td>0.411770</td>\n",
       "      <td>2.789514</td>\n",
       "      <td>5.685038</td>\n",
       "      <td>0.211636</td>\n",
       "      <td>0.172817</td>\n",
       "      <td>2.292150</td>\n",
       "      <td>0.226972</td>\n",
       "      <td>...</td>\n",
       "      <td>0.104315</td>\n",
       "      <td>0.441581</td>\n",
       "      <td>0.111974</td>\n",
       "      <td>0.135103</td>\n",
       "      <td>0.131119</td>\n",
       "      <td>1.743610</td>\n",
       "      <td>Control</td>\n",
       "      <td>Memantine</td>\n",
       "      <td>C/S</td>\n",
       "      <td>c-CS-m</td>\n",
       "    </tr>\n",
       "    <tr>\n",
       "      <th>2</th>\n",
       "      <td>309_3</td>\n",
       "      <td>0.509183</td>\n",
       "      <td>0.730247</td>\n",
       "      <td>0.418309</td>\n",
       "      <td>2.687201</td>\n",
       "      <td>5.622059</td>\n",
       "      <td>0.209011</td>\n",
       "      <td>0.175722</td>\n",
       "      <td>2.283337</td>\n",
       "      <td>0.230247</td>\n",
       "      <td>...</td>\n",
       "      <td>0.106219</td>\n",
       "      <td>0.435777</td>\n",
       "      <td>0.111883</td>\n",
       "      <td>0.133362</td>\n",
       "      <td>0.127431</td>\n",
       "      <td>1.926427</td>\n",
       "      <td>Control</td>\n",
       "      <td>Memantine</td>\n",
       "      <td>C/S</td>\n",
       "      <td>c-CS-m</td>\n",
       "    </tr>\n",
       "    <tr>\n",
       "      <th>3</th>\n",
       "      <td>309_4</td>\n",
       "      <td>0.442107</td>\n",
       "      <td>0.617076</td>\n",
       "      <td>0.358626</td>\n",
       "      <td>2.466947</td>\n",
       "      <td>4.979503</td>\n",
       "      <td>0.222886</td>\n",
       "      <td>0.176463</td>\n",
       "      <td>2.152301</td>\n",
       "      <td>0.207004</td>\n",
       "      <td>...</td>\n",
       "      <td>0.111262</td>\n",
       "      <td>0.391691</td>\n",
       "      <td>0.130405</td>\n",
       "      <td>0.147444</td>\n",
       "      <td>0.146901</td>\n",
       "      <td>1.700563</td>\n",
       "      <td>Control</td>\n",
       "      <td>Memantine</td>\n",
       "      <td>C/S</td>\n",
       "      <td>c-CS-m</td>\n",
       "    </tr>\n",
       "    <tr>\n",
       "      <th>4</th>\n",
       "      <td>309_5</td>\n",
       "      <td>0.434940</td>\n",
       "      <td>0.617430</td>\n",
       "      <td>0.358802</td>\n",
       "      <td>2.365785</td>\n",
       "      <td>4.718679</td>\n",
       "      <td>0.213106</td>\n",
       "      <td>0.173627</td>\n",
       "      <td>2.134014</td>\n",
       "      <td>0.192158</td>\n",
       "      <td>...</td>\n",
       "      <td>0.110694</td>\n",
       "      <td>0.434154</td>\n",
       "      <td>0.118481</td>\n",
       "      <td>0.140314</td>\n",
       "      <td>0.148380</td>\n",
       "      <td>1.839730</td>\n",
       "      <td>Control</td>\n",
       "      <td>Memantine</td>\n",
       "      <td>C/S</td>\n",
       "      <td>c-CS-m</td>\n",
       "    </tr>\n",
       "  </tbody>\n",
       "</table>\n",
       "<p>5 rows × 82 columns</p>\n",
       "</div>"
      ],
      "text/plain": [
       "  MouseID  DYRK1A_N   ITSN1_N    BDNF_N     NR1_N    NR2A_N    pAKT_N  \\\n",
       "0   309_1  0.503644  0.747193  0.430175  2.816329  5.990152  0.218830   \n",
       "1   309_2  0.514617  0.689064  0.411770  2.789514  5.685038  0.211636   \n",
       "2   309_3  0.509183  0.730247  0.418309  2.687201  5.622059  0.209011   \n",
       "3   309_4  0.442107  0.617076  0.358626  2.466947  4.979503  0.222886   \n",
       "4   309_5  0.434940  0.617430  0.358802  2.365785  4.718679  0.213106   \n",
       "\n",
       "    pBRAF_N  pCAMKII_N   pCREB_N   ...     pCFOS_N     SYP_N  H3AcK18_N  \\\n",
       "0  0.177565   2.373744  0.232224   ...    0.108336  0.427099   0.114783   \n",
       "1  0.172817   2.292150  0.226972   ...    0.104315  0.441581   0.111974   \n",
       "2  0.175722   2.283337  0.230247   ...    0.106219  0.435777   0.111883   \n",
       "3  0.176463   2.152301  0.207004   ...    0.111262  0.391691   0.130405   \n",
       "4  0.173627   2.134014  0.192158   ...    0.110694  0.434154   0.118481   \n",
       "\n",
       "     EGR1_N  H3MeK4_N    CaNA_N  Genotype  Treatment  Behavior   class  \n",
       "0  0.131790  0.128186  1.675652   Control  Memantine       C/S  c-CS-m  \n",
       "1  0.135103  0.131119  1.743610   Control  Memantine       C/S  c-CS-m  \n",
       "2  0.133362  0.127431  1.926427   Control  Memantine       C/S  c-CS-m  \n",
       "3  0.147444  0.146901  1.700563   Control  Memantine       C/S  c-CS-m  \n",
       "4  0.140314  0.148380  1.839730   Control  Memantine       C/S  c-CS-m  \n",
       "\n",
       "[5 rows x 82 columns]"
      ]
     },
     "execution_count": 21,
     "metadata": {},
     "output_type": "execute_result"
    }
   ],
   "source": [
    "data.head()"
   ]
  },
  {
   "cell_type": "code",
   "execution_count": 22,
   "metadata": {
    "collapsed": false
   },
   "outputs": [
    {
     "name": "stdout",
     "output_type": "stream",
     "text": [
      "DYRK1A_N   missing values: 3 \n",
      "ITSN1_N    missing values: 3 \n",
      "BDNF_N     missing values: 3 \n",
      "NR1_N      missing values: 3 \n",
      "NR2A_N     missing values: 3 \n",
      "pAKT_N     missing values: 3 \n",
      "pBRAF_N    missing values: 3 \n",
      "pCAMKII_N  missing values: 3 \n",
      "pCREB_N    missing values: 3 \n",
      "pELK_N     missing values: 3 \n",
      "pERK_N     missing values: 3 \n",
      "pJNK_N     missing values: 3 \n",
      "PKCA_N     missing values: 3 \n",
      "pMEK_N     missing values: 3 \n",
      "pNR1_N     missing values: 3 \n",
      "pNR2A_N    missing values: 3 \n",
      "pNR2B_N    missing values: 3 \n",
      "pPKCAB_N   missing values: 3 \n",
      "pRSK_N     missing values: 3 \n",
      "AKT_N      missing values: 3 \n",
      "BRAF_N     missing values: 3 \n",
      "CAMKII_N   missing values: 3 \n",
      "CREB_N     missing values: 3 \n",
      "ELK_N      missing values: 18 \n",
      "ERK_N      missing values: 3 \n",
      "GSK3B_N    missing values: 3 \n",
      "JNK_N      missing values: 3 \n",
      "MEK_N      missing values: 7 \n",
      "TRKA_N     missing values: 3 \n",
      "RSK_N      missing values: 3 \n",
      "APP_N      missing values: 3 \n",
      "Bcatenin_N missing values: 18 \n",
      "SOD1_N     missing values: 3 \n",
      "MTOR_N     missing values: 3 \n",
      "P38_N      missing values: 3 \n",
      "pMTOR_N    missing values: 3 \n",
      "DSCR1_N    missing values: 3 \n",
      "AMPKA_N    missing values: 3 \n",
      "NR2B_N     missing values: 3 \n",
      "pNUMB_N    missing values: 3 \n",
      "RAPTOR_N   missing values: 3 \n",
      "TIAM1_N    missing values: 3 \n",
      "pP70S6_N   missing values: 3 \n",
      "BAD_N      missing values: 213 \n",
      "BCL2_N     missing values: 285 \n",
      "pCFOS_N    missing values: 75 \n",
      "H3AcK18_N  missing values: 180 \n",
      "EGR1_N     missing values: 210 \n",
      "H3MeK4_N   missing values: 270 \n"
     ]
    }
   ],
   "source": [
    "# Finding all the missing values\n",
    "for i in data.columns:\n",
    "    if data[i].isnull().value_counts()[0] != 1080:\n",
    "        print \"{:10s} missing values: {} \".format(i,data[i].isnull().value_counts()[1])"
   ]
  },
  {
   "cell_type": "markdown",
   "metadata": {
    "collapsed": true
   },
   "source": [
    "### Dealing with missing values"
   ]
  },
  {
   "cell_type": "code",
   "execution_count": 26,
   "metadata": {
    "collapsed": false
   },
   "outputs": [],
   "source": [
    "# From DYRK1A_N - pP70S6_N, I believe that inputting the average would be best\n",
    "# Then we can use these to help determine missing values of the ones that are missing more.\n",
    "\n",
    "\"\"\"\n",
    "Essentially waht I am doing.\n",
    "\n",
    "for x in data.columns[1:44]:\n",
    "    for i,row in data.loc[data[x].isnull(),:].iterrows():\n",
    "        data[x][i] = data[x].mean()\n",
    "\"\"\"\n",
    "\n",
    "# looping over all the indicies with 18 or less missing values...\n",
    "for x in data.columns[1:44]:\n",
    "    #replacing null values with mean.\n",
    "    data[x].fillna(data[x].mean(),inplace = True)"
   ]
  },
  {
   "cell_type": "code",
   "execution_count": 25,
   "metadata": {
    "collapsed": false
   },
   "outputs": [
    {
     "name": "stdout",
     "output_type": "stream",
     "text": [
      "BAD_N      missing values: 213 \n",
      "BCL2_N     missing values: 285 \n",
      "pCFOS_N    missing values: 75 \n",
      "H3AcK18_N  missing values: 180 \n",
      "EGR1_N     missing values: 210 \n",
      "H3MeK4_N   missing values: 270 \n"
     ]
    }
   ],
   "source": [
    "# Finding all the missing values\n",
    "for i in data.columns:\n",
    "    if data[i].isnull().value_counts()[0] != 1080:\n",
    "        print \"{:10s} missing values: {} \".format(i,data[i].isnull().value_counts()[1])"
   ]
  },
  {
   "cell_type": "code",
   "execution_count": null,
   "metadata": {
    "collapsed": true
   },
   "outputs": [],
   "source": [
    "\"\"\"\n",
    "\n",
    "From our graphs notebook, we notice that one of the lowest expressed protiens was pBRAF_N.\n",
    "The higest one was NR2A_N.\n",
    "Therefore if we check the boxplots of all the leftover ones, we might see one worthwhile.\n",
    "\n",
    "\n",
    "\"\"\""
   ]
  },
  {
   "cell_type": "code",
   "execution_count": 60,
   "metadata": {
    "collapsed": false
   },
   "outputs": [
    {
     "name": "stderr",
     "output_type": "stream",
     "text": [
      "/home/phay/anaconda2/lib/python2.7/site-packages/ipykernel/__main__.py:1: FutureWarning: \n",
      "The default value for 'return_type' will change to 'axes' in a future release.\n",
      " To use the future behavior now, set return_type='axes'.\n",
      " To keep the previous behavior and silence this warning, set return_type='dict'.\n",
      "  if __name__ == '__main__':\n"
     ]
    },
    {
     "data": {
      "image/png": "[encoded data removed]",
      "text/plain": [
       "<matplotlib.figure.Figure at 0x7f606bc5a610>"
      ]
     },
     "metadata": {},
     "output_type": "display_data"
    }
   ],
   "source": [
    "# Comparing with the lowest expressed pBRAF_N\n",
    "\n",
    "data.boxplot(['BAD_N','BCL2_N','pCFOS_N','H3AcK18_N','EGR1_N','H3MeK4_N','pBRAF_N'],rot = 90)\n",
    "plt.show()"
   ]
  },
  {
   "cell_type": "code",
   "execution_count": 62,
   "metadata": {
    "collapsed": false
   },
   "outputs": [
    {
     "name": "stderr",
     "output_type": "stream",
     "text": [
      "/home/phay/anaconda2/lib/python2.7/site-packages/ipykernel/__main__.py:3: FutureWarning: \n",
      "The default value for 'return_type' will change to 'axes' in a future release.\n",
      " To use the future behavior now, set return_type='axes'.\n",
      " To keep the previous behavior and silence this warning, set return_type='dict'.\n",
      "  app.launch_new_instance()\n"
     ]
    },
    {
     "data": {
      "image/png": "[encoded data removed]",
      "text/plain": [
       "<matplotlib.figure.Figure at 0x7f606c0b08d0>"
      ]
     },
     "metadata": {},
     "output_type": "display_data"
    }
   ],
   "source": [
    "# Comparing with the lowest I am considering, pCASP9_N.\n",
    "\n",
    "data.boxplot(['BAD_N','BCL2_N','pCFOS_N','H3AcK18_N','EGR1_N','H3MeK4_N','pCASP9_N'],rot = 90)\n",
    "plt.show()"
   ]
  },
  {
   "cell_type": "code",
   "execution_count": null,
   "metadata": {
    "collapsed": true
   },
   "outputs": [],
   "source": [
    "\"\"\"\n",
    "\n",
    "As it is looking, we don't have anything that is worth while and will probably ignore them.\n",
    "Meaning the null values are instances where the mice had no expression.\n",
    "\n",
    "\"\"\""
   ]
  },
  {
   "cell_type": "code",
   "execution_count": null,
   "metadata": {
    "collapsed": true
   },
   "outputs": [],
   "source": []
  },
  {
   "cell_type": "code",
   "execution_count": null,
   "metadata": {
    "collapsed": true
   },
   "outputs": [],
   "source": []
  },
  {
   "cell_type": "code",
   "execution_count": null,
   "metadata": {
    "collapsed": true
   },
   "outputs": [],
   "source": []
  },
  {
   "cell_type": "code",
   "execution_count": null,
   "metadata": {
    "collapsed": true
   },
   "outputs": [],
   "source": []
  },
  {
   "cell_type": "code",
   "execution_count": null,
   "metadata": {
    "collapsed": true
   },
   "outputs": [],
   "source": []
  },
  {
   "cell_type": "code",
   "execution_count": null,
   "metadata": {
    "collapsed": true
   },
   "outputs": [],
   "source": []
  },
  {
   "cell_type": "code",
   "execution_count": null,
   "metadata": {
    "collapsed": true
   },
   "outputs": [],
   "source": [
    "#---machine learning\n",
    "from sklearn import cross_validation\n",
    "from sklearn.metrics import classification_report\n",
    "from sklearn.metrics import confusion_matrix\n",
    "from sklearn.metrics import accuracy_score\n",
    "\n",
    "from sklearn.linear_model import LogisticRegression\n",
    "from sklearn.tree import DecisionTreeClassifier\n",
    "from sklearn.neighbors import KNeighborsClassifier\n",
    "from sklearn.naive_bayes import GaussianNB"
   ]
  }
 ],
 "metadata": {
  "anaconda-cloud": {},
  "kernelspec": {
   "display_name": "Python [Root]",
   "language": "python",
   "name": "Python [Root]"
  },
  "language_info": {
   "codemirror_mode": {
    "name": "ipython",
    "version": 2
   },
   "file_extension": ".py",
   "mimetype": "text/x-python",
   "name": "python",
   "nbconvert_exporter": "python",
   "pygments_lexer": "ipython2",
   "version": "2.7.12"
  }
 },
 "nbformat": 4,
 "nbformat_minor": 1
}
