{
 "cells": [
  {
   "cell_type": "code",
   "execution_count": 1,
   "metadata": {
    "collapsed": true
   },
   "outputs": [],
   "source": [
    "# Libraries\n",
    "\n",
    "#---Pandas\n",
    "import pandas as pd\n",
    "from pandas.tools.plotting import scatter_matrix\n",
    "\n",
    "#---numpy\n",
    "import numpy as np\n",
    "\n",
    "#---matplotlib\n",
    "from matplotlib import pyplot as plt\n",
    "\n",
    "#---machine learning\n",
    "from sklearn import cross_validation\n",
    "from sklearn.metrics import classification_report\n",
    "from sklearn.metrics import confusion_matrix\n",
    "from sklearn.metrics import accuracy_score\n",
    "\n",
    "from sklearn.linear_model import LogisticRegression\n",
    "from sklearn.tree import DecisionTreeClassifier\n",
    "from sklearn.neighbors import KNeighborsClassifier\n",
    "from sklearn.naive_bayes import GaussianNB"
   ]
  },
  {
   "cell_type": "code",
   "execution_count": 2,
   "metadata": {
    "collapsed": false
   },
   "outputs": [
    {
     "name": "stdout",
     "output_type": "stream",
     "text": [
      "----------All The Columns---------\n",
      "Index([u'id', u'diagnosis', u'radius_mean', u'texture_mean', u'perimeter_mean',\n",
      "       u'area_mean', u'smoothness_mean', u'compactness_mean',\n",
      "       u'concavity_mean', u'concave points_mean', u'symmetry_mean',\n",
      "       u'fractal_dimension_mean', u'radius_se', u'texture_se', u'perimeter_se',\n",
      "       u'area_se', u'smoothness_se', u'compactness_se', u'concavity_se',\n",
      "       u'concave points_se', u'symmetry_se', u'fractal_dimension_se',\n",
      "       u'radius_worst', u'texture_worst', u'perimeter_worst', u'area_worst',\n",
      "       u'smoothness_worst', u'compactness_worst', u'concavity_worst',\n",
      "       u'concave points_worst', u'symmetry_worst', u'fractal_dimension_worst',\n",
      "       u'Unnamed: 32'],\n",
      "      dtype='object')\n",
      "\n",
      "--------Dimension of data---------\n",
      "(569, 33)\n",
      "\n",
      "----------Types of Tumor----------\n",
      "diagnosis\n",
      "B    357\n",
      "M    212\n",
      "dtype: int64\n"
     ]
    }
   ],
   "source": [
    "data = pd.read_csv(\"data/data.csv\")\n",
    "\n",
    "print \"----------All The Columns---------\"\n",
    "print data.columns\n",
    "print \"\\n--------Dimension of data---------\"\n",
    "print data.shape\n",
    "print \"\\n----------Types of Tumor----------\"\n",
    "print data.groupby('diagnosis').size()"
   ]
  },
  {
   "cell_type": "code",
   "execution_count": 3,
   "metadata": {
    "collapsed": false
   },
   "outputs": [],
   "source": [
    "#dropping the ID because that doesn't help decide whether a tumor is malignant or benign\n",
    "data.drop('id',axis = 1, inplace = True)"
   ]
  },
  {
   "cell_type": "code",
   "execution_count": 4,
   "metadata": {
    "collapsed": true
   },
   "outputs": [],
   "source": [
    "array = data.values\n",
    "\n",
    "# All the data minus the diagnosis\n",
    "X = array[:,1:-2]\n",
    "\n",
    "# Diagnosis\n",
    "Y = array[:,0]\n",
    "\n",
    "#making 20 percent our test data\n",
    "test_size = .2\n",
    "seed = 7\n",
    "\n",
    "X_train, X_test, Y_train, Y_test = cross_validation.train_test_split(\\\n",
    "                                    X,Y,test_size = test_size,random_state = seed)"
   ]
  },
  {
   "cell_type": "code",
   "execution_count": 5,
   "metadata": {
    "collapsed": true
   },
   "outputs": [],
   "source": [
    "# 20 fold cross validation for accuracy\n",
    "n_folds = 20\n",
    "n_instances = len(X_train)\n",
    "scoring = 'accuracy'"
   ]
  },
  {
   "cell_type": "code",
   "execution_count": 6,
   "metadata": {
    "collapsed": true
   },
   "outputs": [],
   "source": [
    "models = []\n",
    "\n",
    "#append tuples so we can distinguish by name later\n",
    "models.append(('LR', LogisticRegression()))\n",
    "models.append(('KNN', KNeighborsClassifier()))\n",
    "models.append(('CART', DecisionTreeClassifier()))\n",
    "models.append(('NB', GaussianNB()))"
   ]
  },
  {
   "cell_type": "code",
   "execution_count": 7,
   "metadata": {
    "collapsed": false
   },
   "outputs": [
    {
     "name": "stdout",
     "output_type": "stream",
     "text": [
      "LR: 0.947134 +- 0.059090\n",
      "KNN: 0.934190 +- 0.055028\n",
      "CART: 0.931917 +- 0.054759\n",
      "NB: 0.936067 +- 0.051857\n"
     ]
    }
   ],
   "source": [
    "results = []\n",
    "names = []\n",
    "\n",
    "for name, model in models:\n",
    "    kfold = cross_validation.KFold(n = n_instances, n_folds = n_folds, random_state = seed)\n",
    "    cv_results = cross_validation.cross_val_score(model, X_train, Y_train, cv = kfold, scoring = scoring)\n",
    "    results.append(cv_results)\n",
    "    names.append(name)\n",
    "    model_accuracy = \"%s: %f +- %f\" % (name,cv_results.mean(),cv_results.std())\n",
    "    print model_accuracy"
   ]
  },
  {
   "cell_type": "code",
   "execution_count": null,
   "metadata": {
    "collapsed": true
   },
   "outputs": [],
   "source": [
    "\"\"\"\n",
    "\n",
    "Logistic Regression is the most accurate.\n",
    "\n",
    "\n",
    "\"\"\""
   ]
  },
  {
   "cell_type": "code",
   "execution_count": 9,
   "metadata": {
    "collapsed": false
   },
   "outputs": [
    {
     "name": "stdout",
     "output_type": "stream",
     "text": [
      "Accuracy:  0.947368421053\n",
      "\n",
      "--------------------------------------------------------\n",
      "Confusion Matrix\n",
      "[[74  0]\n",
      " [ 6 34]]\n",
      "\n",
      "--------------------------------------------------------\n",
      "Classification Report\n",
      "             precision    recall  f1-score   support\n",
      "\n",
      "          B     0.9250    1.0000    0.9610        74\n",
      "          M     1.0000    0.8500    0.9189        40\n",
      "\n",
      "avg / total     0.9513    0.9474    0.9463       114\n",
      "\n",
      "\n"
     ]
    }
   ],
   "source": [
    "LR = LogisticRegression()\n",
    "LR.fit(X_train,Y_train)\n",
    "predictions = LR.predict(X_test)\n",
    "\n",
    "print \"Accuracy: \", accuracy_score(Y_test, predictions)\n",
    "print \"\\n--------------------------------------------------------\"\n",
    "print \"Confusion Matrix\"\n",
    "print confusion_matrix(Y_test, predictions)\n",
    "print \"\\n--------------------------------------------------------\"\n",
    "print \"Classification Report\"\n",
    "print classification_report(Y_test, predictions, digits = 4)\n",
    "\n",
    "\"\"\"\n",
    "\"\"\"\n",
    "print"
   ]
  },
  {
   "cell_type": "code",
   "execution_count": null,
   "metadata": {
    "collapsed": true
   },
   "outputs": [],
   "source": [
    "\"\"\"\n",
    "Telling us that our test is 94.63% accurate.\n",
    "\n",
    "The confusion matrix tells us that our model had 6 errors in saying it was benign when it was malignant.\n",
    "It made no error in saying there was a benign tumor when it was malignant. (Which is great)\n",
    "\"\"\""
   ]
  }
 ],
 "metadata": {
  "kernelspec": {
   "display_name": "Python 2",
   "language": "python",
   "name": "python2"
  },
  "language_info": {
   "codemirror_mode": {
    "name": "ipython",
    "version": 2
   },
   "file_extension": ".py",
   "mimetype": "text/x-python",
   "name": "python",
   "nbconvert_exporter": "python",
   "pygments_lexer": "ipython2",
   "version": "2.7.12"
  }
 },
 "nbformat": 4,
 "nbformat_minor": 1
}
