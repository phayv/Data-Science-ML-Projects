{
 "cells": [
  {
   "cell_type": "code",
   "execution_count": 14,
   "metadata": {
    "collapsed": false
   },
   "outputs": [],
   "source": [
    "library(dplyr)\n",
    "library(ggplot2)\n",
    "library(plotly)\n",
    "\n",
    "library(data.table)\n",
    "library(formattable)"
   ]
  },
  {
   "cell_type": "code",
   "execution_count": 15,
   "metadata": {
    "collapsed": false
   },
   "outputs": [
    {
     "name": "stdout",
     "output_type": "stream",
     "text": [
      "'data.frame':\t5043 obs. of  28 variables:\n",
      " $ color                    : chr  \"Color\" \"Color\" \"Color\" \"Color\" ...\n",
      " $ director_name            : chr  \"James Cameron\" \"Gore Verbinski\" \"Sam Mendes\" \"Christopher Nolan\" ...\n",
      " $ num_critic_for_reviews   : int  723 302 602 813 NA 462 392 324 635 375 ...\n",
      " $ duration                 : int  178 169 148 164 NA 132 156 100 141 153 ...\n",
      " $ director_facebook_likes  : int  0 563 0 22000 131 475 0 15 0 282 ...\n",
      " $ actor_3_facebook_likes   : int  855 1000 161 23000 NA 530 4000 284 19000 10000 ...\n",
      " $ actor_2_name             : chr  \"Joel David Moore\" \"Orlando Bloom\" \"Rory Kinnear\" \"Christian Bale\" ...\n",
      " $ actor_1_facebook_likes   : int  1000 40000 11000 27000 131 640 24000 799 26000 25000 ...\n",
      " $ gross                    : int  760505847 309404152 200074175 448130642 NA 73058679 336530303 200807262 458991599 301956980 ...\n",
      " $ genres                   : chr  \"Action|Adventure|Fantasy|Sci-Fi\" \"Action|Adventure|Fantasy\" \"Action|Adventure|Thriller\" \"Action|Thriller\" ...\n",
      " $ actor_1_name             : chr  \"CCH Pounder\" \"Johnny Depp\" \"Christoph Waltz\" \"Tom Hardy\" ...\n",
      " $ movie_title              : chr  \"AvatarÂ \" \"Pirates of the Caribbean: At World's EndÂ \" \"SpectreÂ \" \"The Dark Knight RisesÂ \" ...\n",
      " $ num_voted_users          : int  886204 471220 275868 1144337 8 212204 383056 294810 462669 321795 ...\n",
      " $ cast_total_facebook_likes: int  4834 48350 11700 106759 143 1873 46055 2036 92000 58753 ...\n",
      " $ actor_3_name             : chr  \"Wes Studi\" \"Jack Davenport\" \"Stephanie Sigman\" \"Joseph Gordon-Levitt\" ...\n",
      " $ facenumber_in_poster     : int  0 0 1 0 0 1 0 1 4 3 ...\n",
      " $ plot_keywords            : chr  \"avatar|future|marine|native|paraplegic\" \"goddess|marriage ceremony|marriage proposal|pirate|singapore\" \"bomb|espionage|sequel|spy|terrorist\" \"deception|imprisonment|lawlessness|police officer|terrorist plot\" ...\n",
      " $ movie_imdb_link          : chr  \"http://www.imdb.com/title/tt0499549/?ref_=fn_tt_tt_1\" \"http://www.imdb.com/title/tt0449088/?ref_=fn_tt_tt_1\" \"http://www.imdb.com/title/tt2379713/?ref_=fn_tt_tt_1\" \"http://www.imdb.com/title/tt1345836/?ref_=fn_tt_tt_1\" ...\n",
      " $ num_user_for_reviews     : int  3054 1238 994 2701 NA 738 1902 387 1117 973 ...\n",
      " $ language                 : chr  \"English\" \"English\" \"English\" \"English\" ...\n",
      " $ country                  : chr  \"USA\" \"USA\" \"UK\" \"USA\" ...\n",
      " $ content_rating           : chr  \"PG-13\" \"PG-13\" \"PG-13\" \"PG-13\" ...\n",
      " $ budget                   : num  2.37e+08 3.00e+08 2.45e+08 2.50e+08 NA ...\n",
      " $ title_year               : int  2009 2007 2015 2012 NA 2012 2007 2010 2015 2009 ...\n",
      " $ actor_2_facebook_likes   : int  936 5000 393 23000 12 632 11000 553 21000 11000 ...\n",
      " $ imdb_score               : num  7.9 7.1 6.8 8.5 7.1 6.6 6.2 7.8 7.5 7.5 ...\n",
      " $ aspect_ratio             : num  1.78 2.35 2.35 2.35 NA 2.35 2.35 1.85 2.35 2.35 ...\n",
      " $ movie_facebook_likes     : int  33000 0 85000 164000 0 24000 0 29000 118000 10000 ...\n"
     ]
    },
    {
     "data": {
      "text/html": [
       "<ol class=list-inline>\n",
       "\t<li>5043</li>\n",
       "\t<li>28</li>\n",
       "</ol>\n"
      ],
      "text/latex": [
       "\\begin{enumerate*}\n",
       "\\item 5043\n",
       "\\item 28\n",
       "\\end{enumerate*}\n"
      ],
      "text/markdown": [
       "1. 5043\n",
       "2. 28\n",
       "\n",
       "\n"
      ],
      "text/plain": [
       "[1] 5043   28"
      ]
     },
     "metadata": {},
     "output_type": "display_data"
    }
   ],
   "source": [
    "movie <- read.csv('data/movie_metadata.csv',header=T,stringsAsFactors = F)\n",
    "str(movie)\n",
    "dim(movie)"
   ]
  },
  {
   "cell_type": "code",
   "execution_count": 17,
   "metadata": {
    "collapsed": false
   },
   "outputs": [
    {
     "ename": "ERROR",
     "evalue": "Error in plotly(temp, x = title_year, y = n, name = \"Number of Movies by Year\"): unused arguments (x = title_year, y = n, name = \"Number of Movies by Year\")\n",
     "output_type": "error",
     "traceback": [
      "Error in plotly(temp, x = title_year, y = n, name = \"Number of Movies by Year\"): unused arguments (x = title_year, y = n, name = \"Number of Movies by Year\")\nTraceback:\n",
      "1. plotly(temp, x = title_year, y = n, name = \"Number of Movies by Year\")"
     ]
    }
   ],
   "source": [
    "temp <- movie %>% select(movie_title,title_year)\n",
    "temp <- temp %>% group_by(title_year) %>% summarise(n=n())\n",
    "temp <- na.omit(temp)\n",
    "p <- plotly(temp, x = title_year, y = n, name = \"Number of Movies by Year\")\n",
    "p %>%\n",
    "  add_trace(y = fitted(loess(n ~ as.numeric(title_year))), x = title_year) %>%\n",
    "  layout(title = \"Year and Movies\",\n",
    "         showlegend = FALSE) %>%\n",
    "  dplyr::filter(n == max(n)) %>%\n",
    "  layout(annotations = list(x = title_year, y = n, text = \"Peak\", showarrow = T))"
   ]
  },
  {
   "cell_type": "code",
   "execution_count": 18,
   "metadata": {
    "collapsed": false
   },
   "outputs": [
    {
     "ename": "ERROR",
     "evalue": "Error in plot_ly(temp, x = title_year, y = score, name = \"Avg Score by Year\"): object 'title_year' not found\n",
     "output_type": "error",
     "traceback": [
      "Error in plot_ly(temp, x = title_year, y = score, name = \"Avg Score by Year\"): object 'title_year' not found\nTraceback:\n",
      "1. plot_ly(temp, x = title_year, y = score, name = \"Avg Score by Year\")"
     ]
    }
   ],
   "source": [
    "temp <- movie %>% select(imdb_score,title_year)\n",
    "temp <- temp %>% group_by(title_year)%>% summarise(score=mean(imdb_score))\n",
    "temp <- na.omit(temp)\n",
    "p <- plot_ly(temp, x = title_year, y = score, name = \"Avg Score by Year\")\n",
    "p %>%\n",
    "  add_trace(y = fitted(loess(score ~ as.numeric(title_year))), x = title_year) %>%\n",
    "  layout(title = \"Year and Score\",\n",
    "         showlegend = FALSE) %>%\n",
    "  dplyr::filter(score == max(score)) %>%\n",
    "  layout(annotations = list(x = title_year, y = score, text = \"Peak\", showarrow = T))"
   ]
  },
  {
   "cell_type": "code",
   "execution_count": null,
   "metadata": {
    "collapsed": true
   },
   "outputs": [],
   "source": []
  }
 ],
 "metadata": {
  "kernelspec": {
   "display_name": "R",
   "language": "R",
   "name": "ir"
  },
  "language_info": {
   "codemirror_mode": "r",
   "file_extension": ".r",
   "mimetype": "text/x-r-source",
   "name": "R",
   "pygments_lexer": "r",
   "version": "3.3.1"
  }
 },
 "nbformat": 4,
 "nbformat_minor": 0
}
