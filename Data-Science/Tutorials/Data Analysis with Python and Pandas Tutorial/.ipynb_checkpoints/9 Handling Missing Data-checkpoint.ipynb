{
 "cells": [
  {
   "cell_type": "code",
   "execution_count": 1,
   "metadata": {
    "collapsed": true
   },
   "outputs": [],
   "source": [
    "import pandas as pd\n",
    "import numpy as np\n",
    "import matplotlib.pyplot as plt\n",
    "import quandl\n",
    "\n",
    "import pickle\n",
    "\n",
    "from matplotlib import style\n",
    "style.use('ggplot')"
   ]
  },
  {
   "cell_type": "markdown",
   "metadata": {},
   "source": [
    "## Several things you could do:\n",
    "- Ignore it - Just leave it there\n",
    "- Delete it - Remove all cases. Remove from data entirely. This means forfeiting the entire row of data.\n",
    "- Fill forward or backwards - This means taking the prior or following value and just filling it in.\n",
    "- Replace it with something static - For example, replacing all NaN data with -9999."
   ]
  },
  {
   "cell_type": "markdown",
   "metadata": {},
   "source": [
    "### Delete It"
   ]
  },
  {
   "cell_type": "code",
   "execution_count": 3,
   "metadata": {
    "collapsed": false
   },
   "outputs": [],
   "source": [
    "HPI_data = pd.read_pickle('data/new_file3.pickle')"
   ]
  },
  {
   "cell_type": "code",
   "execution_count": 9,
   "metadata": {
    "collapsed": false
   },
   "outputs": [
    {
     "name": "stderr",
     "output_type": "stream",
     "text": [
      "C:\\Users\\phay\\Anaconda2\\lib\\site-packages\\ipykernel\\__main__.py:4: FutureWarning: how in .resample() is deprecated\n",
      "the new syntax is .resample(...).mean()\n"
     ]
    },
    {
     "name": "stdout",
     "output_type": "stream",
     "text": [
      "             ValueCA    CA1yr\n",
      "Date                         \n",
      "1975-01-31  0.000000      NaN\n",
      "1975-02-28  0.846192      NaN\n",
      "1975-03-31  1.581956      NaN\n",
      "1975-04-30  2.183669      NaN\n",
      "1975-05-31  2.786248      NaN\n",
      "1975-06-30  3.444136      NaN\n",
      "1975-07-31  4.024416      NaN\n",
      "1975-08-31  4.384871      NaN\n",
      "1975-09-30  4.436568      NaN\n",
      "1975-10-31  4.351232      NaN\n",
      "1975-11-30  4.481393      NaN\n",
      "1975-12-31  4.917757  3.11987\n",
      "1976-01-31  5.559395      NaN\n"
     ]
    }
   ],
   "source": [
    "plt.figure()\n",
    "ax1 = plt.subplot2grid((1,1),(0,0))\n",
    "\n",
    "HPI_data['CA1yr'] = HPI_data['ValueCA'].resample('A',how = 'mean')\n",
    "print HPI_data[['ValueCA','CA1yr']].head(13)\n",
    "\n",
    "HPI_data[['ValueCA','CA1yr']].plot(ax=ax1,label = 'default: monthly')\n",
    "\n",
    "plt.legend(loc = 'upper left')\n",
    "plt.show()"
   ]
  },
  {
   "cell_type": "code",
   "execution_count": 16,
   "metadata": {
    "collapsed": false
   },
   "outputs": [
    {
     "name": "stderr",
     "output_type": "stream",
     "text": [
      "C:\\Users\\phay\\Anaconda2\\lib\\site-packages\\ipykernel\\__main__.py:5: FutureWarning: how in .resample() is deprecated\n",
      "the new syntax is .resample(...).mean()\n"
     ]
    },
    {
     "name": "stdout",
     "output_type": "stream",
     "text": [
      "             ValueCA  CA1yr\n",
      "Date                       \n",
      "1975-01-31  0.000000    NaN\n",
      "1975-02-28  0.846192    NaN\n",
      "1975-03-31  1.581956    NaN\n",
      "1975-04-30  2.183669    NaN\n",
      "1975-05-31  2.786248    NaN\n",
      "             ValueCA  CA1yr\n",
      "Date                       \n",
      "1975-01-31  0.000000    NaN\n",
      "1975-02-28  0.846192    NaN\n",
      "1975-03-31  1.581956    NaN\n",
      "1975-04-30  2.183669    NaN\n",
      "1975-05-31  2.786248    NaN\n"
     ]
    }
   ],
   "source": [
    "plt.figure()\n",
    "ax1 = plt.subplot2grid((1,1),(0,0))\n",
    "\n",
    "HPI_data = pd.read_pickle('data/new_file3.pickle')\n",
    "HPI_data['CA1yr'] = HPI_data['ValueCA'].resample('A',how = 'mean')\n",
    "\n",
    "print HPI_data[['ValueCA','CA1yr']].head()\n",
    "#how = all, drops all NaN for a row with entire NaN (default any)\n",
    "HPI_data.dropna(how = 'all', inplace = True)\n",
    "print HPI_data[['ValueCA','CA1yr']].head()\n",
    "\n",
    "HPI_data[['ValueCA','CA1yr']].plot(ax=ax1)\n",
    "\n",
    "plt.legend(loc = 'upper left')\n",
    "plt.show()"
   ]
  },
  {
   "cell_type": "code",
   "execution_count": null,
   "metadata": {
    "collapsed": true
   },
   "outputs": [],
   "source": [
    "plt.figure()\n",
    "ax1 = plt.subplot2grid((1,1),(0,0))\n",
    "\n",
    "HPI_data = pd.read_pickle('data/new_file3.pickle')\n",
    "HPI_data['CA1yr'] = HPI_data['ValueCA'].resample('A',how = 'mean')\n",
    "\n",
    "print HPI_data[['ValueCA','CA1yr']].head()\n",
    "#how = all, drops all NaN for a row with entire NaN\n",
    "HPI_data.dropna(how = 'all', inplace = True)\n",
    "print HPI_data[['ValueCA','CA1yr']].head()\n",
    "\n",
    "HPI_data[['ValueCA','CA1yr']].plot(ax=ax1)\n",
    "\n",
    "plt.legend(loc = 'upper left')\n",
    "plt.show()"
   ]
  },
  {
   "cell_type": "markdown",
   "metadata": {},
   "source": [
    "### Fill It"
   ]
  },
  {
   "cell_type": "code",
   "execution_count": 21,
   "metadata": {
    "collapsed": false
   },
   "outputs": [
    {
     "name": "stderr",
     "output_type": "stream",
     "text": [
      "C:\\Users\\phay\\Anaconda2\\lib\\site-packages\\ipykernel\\__main__.py:6: FutureWarning: how in .resample() is deprecated\n",
      "the new syntax is .resample(...).mean()\n"
     ]
    },
    {
     "name": "stdout",
     "output_type": "stream",
     "text": [
      "             ValueCA  CA1yr\n",
      "Date                       \n",
      "1975-01-31  0.000000    NaN\n",
      "1975-02-28  0.846192    NaN\n",
      "1975-03-31  1.581956    NaN\n",
      "1975-04-30  2.183669    NaN\n",
      "1975-05-31  2.786248    NaN\n",
      "             ValueCA  CA1yr\n",
      "Date                       \n",
      "1975-01-31  0.000000    NaN\n",
      "1975-02-28  0.846192    NaN\n",
      "1975-03-31  1.581956    NaN\n",
      "1975-04-30  2.183669    NaN\n",
      "1975-05-31  2.786248    NaN\n"
     ]
    }
   ],
   "source": [
    "# forward filling\n",
    "plt.figure()\n",
    "ax1 = plt.subplot2grid((1,1),(0,0))\n",
    "\n",
    "HPI_data = pd.read_pickle('data/new_file3.pickle')\n",
    "HPI_data['CA1yr'] = HPI_data['ValueCA'].resample('A',how = 'mean')\n",
    "\n",
    "print HPI_data[['ValueCA','CA1yr']].head()\n",
    "HPI_data.fillna(method ='ffill', inplace = True)\n",
    "print HPI_data[['ValueCA','CA1yr']].head()\n",
    "\n",
    "HPI_data[['ValueCA','CA1yr']].plot(ax=ax1)\n",
    "\n",
    "plt.legend(loc = 'upper left')\n",
    "plt.show()"
   ]
  },
  {
   "cell_type": "code",
   "execution_count": 19,
   "metadata": {
    "collapsed": false
   },
   "outputs": [
    {
     "name": "stderr",
     "output_type": "stream",
     "text": [
      "C:\\Users\\phay\\Anaconda2\\lib\\site-packages\\ipykernel\\__main__.py:5: FutureWarning: how in .resample() is deprecated\n",
      "the new syntax is .resample(...).mean()\n"
     ]
    },
    {
     "name": "stdout",
     "output_type": "stream",
     "text": [
      "             ValueCA  CA1yr\n",
      "Date                       \n",
      "1975-01-31  0.000000    NaN\n",
      "1975-02-28  0.846192    NaN\n",
      "1975-03-31  1.581956    NaN\n",
      "1975-04-30  2.183669    NaN\n",
      "1975-05-31  2.786248    NaN\n",
      "             ValueCA    CA1yr\n",
      "Date                         \n",
      "1975-01-31  0.000000  3.11987\n",
      "1975-02-28  0.846192  3.11987\n",
      "1975-03-31  1.581956  3.11987\n",
      "1975-04-30  2.183669  3.11987\n",
      "1975-05-31  2.786248  3.11987\n"
     ]
    }
   ],
   "source": [
    "# backward filling\n",
    "plt.figure()\n",
    "ax1 = plt.subplot2grid((1,1),(0,0))\n",
    "\n",
    "HPI_data = pd.read_pickle('data/new_file3.pickle')\n",
    "HPI_data['CA1yr'] = HPI_data['ValueCA'].resample('A',how = 'mean')\n",
    "\n",
    "print HPI_data[['ValueCA','CA1yr']].head()\n",
    "HPI_data.fillna(method ='bfill', inplace = True)\n",
    "print HPI_data[['ValueCA','CA1yr']].head()\n",
    "\n",
    "HPI_data[['ValueCA','CA1yr']].plot(ax=ax1)\n",
    "\n",
    "plt.legend(loc = 'upper left')\n",
    "plt.show()"
   ]
  },
  {
   "cell_type": "code",
   "execution_count": 20,
   "metadata": {
    "collapsed": false
   },
   "outputs": [
    {
     "name": "stderr",
     "output_type": "stream",
     "text": [
      "C:\\Users\\phay\\Anaconda2\\lib\\site-packages\\ipykernel\\__main__.py:6: FutureWarning: how in .resample() is deprecated\n",
      "the new syntax is .resample(...).mean()\n"
     ]
    },
    {
     "name": "stdout",
     "output_type": "stream",
     "text": [
      "             ValueCA  CA1yr\n",
      "Date                       \n",
      "1975-01-31  0.000000    NaN\n",
      "1975-02-28  0.846192    NaN\n",
      "1975-03-31  1.581956    NaN\n",
      "1975-04-30  2.183669    NaN\n",
      "1975-05-31  2.786248    NaN\n",
      "             ValueCA    CA1yr\n",
      "Date                         \n",
      "1975-01-31  0.000000 -99999.0\n",
      "1975-02-28  0.846192 -99999.0\n",
      "1975-03-31  1.581956 -99999.0\n",
      "1975-04-30  2.183669 -99999.0\n",
      "1975-05-31  2.786248 -99999.0\n"
     ]
    }
   ],
   "source": [
    "# value filling\n",
    "plt.figure()\n",
    "ax1 = plt.subplot2grid((1,1),(0,0))\n",
    "\n",
    "HPI_data = pd.read_pickle('data/new_file3.pickle')\n",
    "HPI_data['CA1yr'] = HPI_data['ValueCA'].resample('A',how = 'mean')\n",
    "\n",
    "print HPI_data[['ValueCA','CA1yr']].head()\n",
    "HPI_data.fillna(value = -99999, inplace = True)\n",
    "print HPI_data[['ValueCA','CA1yr']].head()\n",
    "\n",
    "HPI_data[['ValueCA','CA1yr']].plot(ax=ax1)\n",
    "\n",
    "plt.legend(loc = 'upper left')\n",
    "plt.show()"
   ]
  },
  {
   "cell_type": "code",
   "execution_count": 22,
   "metadata": {
    "collapsed": false
   },
   "outputs": [
    {
     "name": "stderr",
     "output_type": "stream",
     "text": [
      "C:\\Users\\phay\\Anaconda2\\lib\\site-packages\\ipykernel\\__main__.py:6: FutureWarning: how in .resample() is deprecated\n",
      "the new syntax is .resample(...).mean()\n"
     ]
    },
    {
     "name": "stdout",
     "output_type": "stream",
     "text": [
      "             ValueCA  CA1yr\n",
      "Date                       \n",
      "1975-01-31  0.000000    NaN\n",
      "1975-02-28  0.846192    NaN\n",
      "1975-03-31  1.581956    NaN\n",
      "1975-04-30  2.183669    NaN\n",
      "1975-05-31  2.786248    NaN\n",
      "             ValueCA    CA1yr\n",
      "Date                         \n",
      "1975-01-31  0.000000 -99999.0\n",
      "1975-02-28  0.846192 -99999.0\n",
      "1975-03-31  1.581956 -99999.0\n",
      "1975-04-30  2.183669 -99999.0\n",
      "1975-05-31  2.786248 -99999.0\n"
     ]
    }
   ],
   "source": [
    "# limit\n",
    "plt.figure()\n",
    "ax1 = plt.subplot2grid((1,1),(0,0))\n",
    "\n",
    "HPI_data = pd.read_pickle('data/new_file3.pickle')\n",
    "HPI_data['CA1yr'] = HPI_data['ValueCA'].resample('A',how = 'mean')\n",
    "\n",
    "print HPI_data[['ValueCA','CA1yr']].head()\n",
    "# only fill up to a certain limit\n",
    "HPI_data.fillna(value = -99999, limit = 100, inplace = True)\n",
    "print HPI_data[['ValueCA','CA1yr']].head()\n",
    "\n",
    "HPI_data[['ValueCA','CA1yr']].plot(ax=ax1)\n",
    "\n",
    "plt.legend(loc = 'upper left')\n",
    "plt.show()"
   ]
  },
  {
   "cell_type": "code",
   "execution_count": 26,
   "metadata": {
    "collapsed": false
   },
   "outputs": [
    {
     "name": "stderr",
     "output_type": "stream",
     "text": [
      "C:\\Users\\phay\\Anaconda2\\lib\\site-packages\\ipykernel\\__main__.py:6: FutureWarning: how in .resample() is deprecated\n",
      "the new syntax is .resample(...).mean()\n"
     ]
    },
    {
     "name": "stdout",
     "output_type": "stream",
     "text": [
      "             ValueCA  CA1yr\n",
      "Date                       \n",
      "1975-01-31  0.000000    NaN\n",
      "1975-02-28  0.846192    NaN\n",
      "1975-03-31  1.581956    NaN\n",
      "1975-04-30  2.183669    NaN\n",
      "1975-05-31  2.786248    NaN\n",
      "460\n",
      "             ValueCA    CA1yr\n",
      "Date                         \n",
      "1975-01-31  0.000000 -99999.0\n",
      "1975-02-28  0.846192 -99999.0\n",
      "1975-03-31  1.581956 -99999.0\n",
      "1975-04-30  2.183669 -99999.0\n",
      "1975-05-31  2.786248 -99999.0\n",
      "360\n"
     ]
    }
   ],
   "source": [
    "# limit\n",
    "plt.figure()\n",
    "ax1 = plt.subplot2grid((1,1),(0,0))\n",
    "\n",
    "HPI_data = pd.read_pickle('data/new_file3.pickle')\n",
    "HPI_data['CA1yr'] = HPI_data['ValueCA'].resample('A',how = 'mean')\n",
    "\n",
    "print HPI_data[['ValueCA','CA1yr']].head()\n",
    "# only fill up to a certain limit\n",
    "print HPI_data.isnull().values.sum()\n",
    "HPI_data.fillna(value = -99999, limit = 100, inplace = True)\n",
    "print HPI_data[['ValueCA','CA1yr']].head()\n",
    "print HPI_data.isnull().values.sum()\n",
    "\n",
    "HPI_data[['ValueCA','CA1yr']].plot(ax=ax1)\n",
    "\n",
    "plt.legend(loc = 'upper left')\n",
    "plt.show()"
   ]
  }
 ],
 "metadata": {
  "kernelspec": {
   "display_name": "Python [Root]",
   "language": "python",
   "name": "Python [Root]"
  },
  "language_info": {
   "codemirror_mode": {
    "name": "ipython",
    "version": 2
   },
   "file_extension": ".py",
   "mimetype": "text/x-python",
   "name": "python",
   "nbconvert_exporter": "python",
   "pygments_lexer": "ipython2",
   "version": "2.7.12"
  }
 },
 "nbformat": 4,
 "nbformat_minor": 0
}
