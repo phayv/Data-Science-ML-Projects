{
 "cells": [
  {
   "cell_type": "code",
   "execution_count": 39,
   "metadata": {
    "collapsed": false
   },
   "outputs": [],
   "source": [
    "import pandas as pd\n",
    "import numpy as np\n",
    "import matplotlib.pyplot as plt\n",
    "\n",
    "import quandl"
   ]
  },
  {
   "cell_type": "code",
   "execution_count": 40,
   "metadata": {
    "collapsed": true
   },
   "outputs": [],
   "source": [
    "api_key = 'oaoRfxFc9iKgnqsudsMa'"
   ]
  },
  {
   "cell_type": "code",
   "execution_count": 41,
   "metadata": {
    "collapsed": false
   },
   "outputs": [],
   "source": [
    "df = quandl.get(\"FMAC/HPI_TX\", authtoken=api_key)"
   ]
  },
  {
   "cell_type": "code",
   "execution_count": 42,
   "metadata": {
    "collapsed": false
   },
   "outputs": [
    {
     "data": {
      "text/plain": [
       "0    AL\n",
       "1    AK\n",
       "2    AZ\n",
       "3    AR\n",
       "4    CA\n",
       "Name: 0, dtype: object"
      ]
     },
     "execution_count": 42,
     "metadata": {},
     "output_type": "execute_result"
    }
   ],
   "source": [
    "fifty_states = pd.read_excel('data/fifty-states.xlsx',header=None)[0]\n",
    "fifty_states.head()"
   ]
  },
  {
   "cell_type": "code",
   "execution_count": 43,
   "metadata": {
    "collapsed": true
   },
   "outputs": [],
   "source": [
    "list_of_FMAC_states = ['FMAC/HPI_'+str(abvstate) for abvstate in fifty_states]"
   ]
  },
  {
   "cell_type": "code",
   "execution_count": 44,
   "metadata": {
    "collapsed": false
   },
   "outputs": [
    {
     "data": {
      "text/plain": [
       "['FMAC/HPI_AL',\n",
       " 'FMAC/HPI_AK',\n",
       " 'FMAC/HPI_AZ',\n",
       " 'FMAC/HPI_AR',\n",
       " 'FMAC/HPI_CA',\n",
       " 'FMAC/HPI_CO',\n",
       " 'FMAC/HPI_CT',\n",
       " 'FMAC/HPI_DE',\n",
       " 'FMAC/HPI_FL',\n",
       " 'FMAC/HPI_GA',\n",
       " 'FMAC/HPI_HI',\n",
       " 'FMAC/HPI_ID',\n",
       " 'FMAC/HPI_IL',\n",
       " 'FMAC/HPI_IN',\n",
       " 'FMAC/HPI_IA',\n",
       " 'FMAC/HPI_KS',\n",
       " 'FMAC/HPI_KY',\n",
       " 'FMAC/HPI_LA',\n",
       " 'FMAC/HPI_ME',\n",
       " 'FMAC/HPI_MD',\n",
       " 'FMAC/HPI_MA',\n",
       " 'FMAC/HPI_MI',\n",
       " 'FMAC/HPI_MN',\n",
       " 'FMAC/HPI_MS',\n",
       " 'FMAC/HPI_MO',\n",
       " 'FMAC/HPI_MT',\n",
       " 'FMAC/HPI_NE',\n",
       " 'FMAC/HPI_NV',\n",
       " 'FMAC/HPI_NH',\n",
       " 'FMAC/HPI_NJ',\n",
       " 'FMAC/HPI_NM',\n",
       " 'FMAC/HPI_NY',\n",
       " 'FMAC/HPI_NC',\n",
       " 'FMAC/HPI_ND',\n",
       " 'FMAC/HPI_OH',\n",
       " 'FMAC/HPI_OK',\n",
       " 'FMAC/HPI_OR',\n",
       " 'FMAC/HPI_PA',\n",
       " 'FMAC/HPI_RI',\n",
       " 'FMAC/HPI_SC',\n",
       " 'FMAC/HPI_SD',\n",
       " 'FMAC/HPI_TN',\n",
       " 'FMAC/HPI_TX',\n",
       " 'FMAC/HPI_UT',\n",
       " 'FMAC/HPI_VT',\n",
       " 'FMAC/HPI_VA',\n",
       " 'FMAC/HPI_WA',\n",
       " 'FMAC/HPI_WV',\n",
       " 'FMAC/HPI_WI',\n",
       " 'FMAC/HPI_WY']"
      ]
     },
     "execution_count": 44,
     "metadata": {},
     "output_type": "execute_result"
    }
   ],
   "source": [
    "list_of_FMAC_states"
   ]
  }
 ],
 "metadata": {
  "kernelspec": {
   "display_name": "Python [Root]",
   "language": "python",
   "name": "Python [Root]"
  },
  "language_info": {
   "codemirror_mode": {
    "name": "ipython",
    "version": 2
   },
   "file_extension": ".py",
   "mimetype": "text/x-python",
   "name": "python",
   "nbconvert_exporter": "python",
   "pygments_lexer": "ipython2",
   "version": "2.7.12"
  }
 },
 "nbformat": 4,
 "nbformat_minor": 0
}
