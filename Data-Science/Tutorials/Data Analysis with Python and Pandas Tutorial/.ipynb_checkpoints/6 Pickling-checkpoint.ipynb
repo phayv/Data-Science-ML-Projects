{
 "cells": [
  {
   "cell_type": "code",
   "execution_count": 34,
   "metadata": {
    "collapsed": true
   },
   "outputs": [],
   "source": [
    "import pandas as pd\n",
    "import numpy as np\n",
    "import matplotlib.pyplot as plt\n",
    "import quandl\n",
    "\n",
    "import pickle"
   ]
  },
  {
   "cell_type": "code",
   "execution_count": 35,
   "metadata": {
    "collapsed": true
   },
   "outputs": [],
   "source": [
    "api_key = 'oaoRfxFc9iKgnqsudsMa'"
   ]
  },
  {
   "cell_type": "code",
   "execution_count": 36,
   "metadata": {
    "collapsed": false
   },
   "outputs": [],
   "source": [
    "def state_list():\n",
    "    fifty_states = pd.read_excel('data/fifty-states.xlsx',header=None)[0]"
   ]
  },
  {
   "cell_type": "code",
   "execution_count": 37,
   "metadata": {
    "collapsed": false
   },
   "outputs": [],
   "source": [
    "main_df = pd.DataFrame()\n",
    "\n",
    "for states in fifty_states:\n",
    "    query = 'FMAC/HPI_'+str(states)\n",
    "    df = quandl.get(query, authtoken = api_key)\n",
    "    \n",
    "    if main_df.empty:\n",
    "        main_df = df\n",
    "    else:\n",
    "        #indexed by date, so join is the best because they all have the same dates\n",
    "        main_df = main_df.join(df,lsuffix=states)\n",
    "    \n",
    "main_df.head()"
   ]
  },
  {
   "cell_type": "markdown",
   "metadata": {},
   "source": [
    "### That took around 30 seconds, we should pickle to call it easily (pseudo cache, you can also write to csv)"
   ]
  },
  {
   "cell_type": "code",
   "execution_count": 38,
   "metadata": {
    "collapsed": true
   },
   "outputs": [],
   "source": [
    "import pickle"
   ]
  },
  {
   "cell_type": "code",
   "execution_count": null,
   "metadata": {
    "collapsed": true
   },
   "outputs": [],
   "source": [
    "def grab_initial_state_data():\n",
    "    states_list = state_list()\n",
    "    main_df = pd.DataFrame()\n",
    "    \n",
    "    for states in states_list:\n",
    "        query = 'FMAC/HPI_'+str(states)\n",
    "        df = quandl.get(query, authtoken = api_key)\n",
    "    \n",
    "        if main_df.empty:\n",
    "            main_df = df\n",
    "        else:\n",
    "            #indexed by date, so join is the best because they all have the same dates\n",
    "            main_df = main_df.join(df,lsuffix=states)\n",
    "    \n",
    "    # makes a new file or open existing\n",
    "    pickle_out = open('new_file.pickle','wb')\n",
    "    # putting the dataframe in\n",
    "    pickle.dump(main_df,pickle_out)\n",
    "    # closing it because we opened it\n",
    "    pick_out.close()"
   ]
  },
  {
   "cell_type": "code",
   "execution_count": null,
   "metadata": {
    "collapsed": true
   },
   "outputs": [],
   "source": [
    "grab_initial_state_data()"
   ]
  },
  {
   "cell_type": "code",
   "execution_count": null,
   "metadata": {
    "collapsed": true
   },
   "outputs": [],
   "source": []
  },
  {
   "cell_type": "code",
   "execution_count": null,
   "metadata": {
    "collapsed": true
   },
   "outputs": [],
   "source": []
  },
  {
   "cell_type": "code",
   "execution_count": null,
   "metadata": {
    "collapsed": true
   },
   "outputs": [],
   "source": []
  },
  {
   "cell_type": "code",
   "execution_count": null,
   "metadata": {
    "collapsed": true
   },
   "outputs": [],
   "source": []
  },
  {
   "cell_type": "code",
   "execution_count": null,
   "metadata": {
    "collapsed": true
   },
   "outputs": [],
   "source": []
  },
  {
   "cell_type": "code",
   "execution_count": null,
   "metadata": {
    "collapsed": true
   },
   "outputs": [],
   "source": []
  },
  {
   "cell_type": "code",
   "execution_count": null,
   "metadata": {
    "collapsed": true
   },
   "outputs": [],
   "source": []
  },
  {
   "cell_type": "code",
   "execution_count": null,
   "metadata": {
    "collapsed": true
   },
   "outputs": [],
   "source": []
  }
 ],
 "metadata": {
  "kernelspec": {
   "display_name": "Python [Root]",
   "language": "python",
   "name": "Python [Root]"
  },
  "language_info": {
   "codemirror_mode": {
    "name": "ipython",
    "version": 2
   },
   "file_extension": ".py",
   "mimetype": "text/x-python",
   "name": "python",
   "nbconvert_exporter": "python",
   "pygments_lexer": "ipython2",
   "version": "2.7.12"
  }
 },
 "nbformat": 4,
 "nbformat_minor": 0
}
