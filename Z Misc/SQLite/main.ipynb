{
 "cells": [
  {
   "cell_type": "code",
   "execution_count": 1,
   "metadata": {
    "collapsed": true
   },
   "outputs": [],
   "source": [
    "import sqlite3"
   ]
  },
  {
   "cell_type": "code",
   "execution_count": 2,
   "metadata": {
    "collapsed": true
   },
   "outputs": [],
   "source": [
    "db = sqlite3.connect('database/patient.db')"
   ]
  },
  {
   "cell_type": "code",
   "execution_count": 3,
   "metadata": {
    "collapsed": false
   },
   "outputs": [
    {
     "name": "stderr",
     "output_type": "stream",
     "text": [
      "ERROR:root:An unexpected error occurred while tokenizing input\n",
      "The following traceback may be corrupted or invalid\n",
      "The error message is: ('EOF in multi-line string', (1, 105))\n",
      "\n"
     ]
    },
    {
     "ename": "OperationalError",
     "evalue": "table patient already exists",
     "output_type": "error",
     "traceback": [
      "\u001b[0;31m---------------------------------------------------------------------------\u001b[0m",
      "\u001b[0;31mOperationalError\u001b[0m                          Traceback (most recent call last)",
      "\u001b[0;32m<ipython-input-3-bd2009d8823b>\u001b[0m in \u001b[0;36m<module>\u001b[0;34m()\u001b[0m\n\u001b[1;32m      4\u001b[0m \u001b[0;31m#create table\u001b[0m\u001b[0;34m\u001b[0m\u001b[0;34m\u001b[0m\u001b[0m\n\u001b[1;32m      5\u001b[0m curs.execute('''CREATE TABLE patient(id INTEGER PRIMARY KEY, diagnosis TEXT, area_mean DOUBLE, \n\u001b[0;32m----> 6\u001b[0;31m                                      radius_mean DOUBLE, smoothness_mean DOUBLE, compactness_mean DOUBLE)''')\n\u001b[0m",
      "\u001b[0;31mOperationalError\u001b[0m: table patient already exists"
     ]
    }
   ],
   "source": [
    "# Pass SQL statements\n",
    "curs = db.cursor()\n",
    "\n",
    "#create table\n",
    "curs.execute('''CREATE TABLE patient(id INTEGER PRIMARY KEY, diagnosis TEXT, area_mean DOUBLE, \n",
    "                                     radius_mean DOUBLE, smoothness_mean DOUBLE, compactness_mean DOUBLE)''')"
   ]
  },
  {
   "cell_type": "code",
   "execution_count": 4,
   "metadata": {
    "collapsed": true
   },
   "outputs": [],
   "source": [
    "db.commit()"
   ]
  },
  {
   "cell_type": "code",
   "execution_count": 5,
   "metadata": {
    "collapsed": true
   },
   "outputs": [],
   "source": [
    "# making data\n",
    "patient_id1 = 842302\n",
    "diagnosis1 = 'M'\n",
    "area_mean1 = 1001\n",
    "radius_mean1 = 17.99\n",
    "smoothness_mean1 = 0.1184\n",
    "compactness_mean1 = 0.2776\n",
    "\n",
    "patient_id2 = 842517\n",
    "diagnosis2 = 'M'\n",
    "area_mean2 = 1326\n",
    "radius_mean2 = 20.57\n",
    "smoothness_mean2 = 0.08474\n",
    "compactness_mean2 = 0.07864\n",
    "\n",
    "patient_id3 = 84300903\n",
    "diagnosis3 = 'M'\n",
    "area_mean3 = 1203\n",
    "radius_mean3 = 19.69\n",
    "smoothness_mean3 = 0.1096\n",
    "compactness_mean3 = 0.1599"
   ]
  },
  {
   "cell_type": "code",
   "execution_count": 6,
   "metadata": {
    "collapsed": false
   },
   "outputs": [
    {
     "data": {
      "text/plain": [
       "<sqlite3.Cursor at 0x7fad7d713810>"
      ]
     },
     "execution_count": 6,
     "metadata": {},
     "output_type": "execute_result"
    }
   ],
   "source": [
    "patients = [(patient_id1, diagnosis1, area_mean1, radius_mean1, smoothness_mean1, compactness_mean1),\\\n",
    "            (patient_id2, diagnosis2, area_mean2, radius_mean2, smoothness_mean2, compactness_mean2),\\\n",
    "            (patient_id3, diagnosis3, area_mean3, radius_mean3, smoothness_mean3, compactness_mean3)]\n",
    "\n",
    "curs.executemany('''INSERT INTO patient(id,diagnosis,area_mean,radius_mean,smoothness_mean,\n",
    "                    compactness_mean) VALUES (?,?,?,?,?,?)''',patients)"
   ]
  },
  {
   "cell_type": "code",
   "execution_count": 8,
   "metadata": {
    "collapsed": false
   },
   "outputs": [
    {
     "data": {
      "text/plain": [
       "[(842302, u'M', 1001.0, 17.99, 0.1184, 0.2776),\n",
       " (842517, u'M', 1326.0, 20.57, 0.08474, 0.07864),\n",
       " (84300903, u'M', 1203.0, 19.69, 0.1096, 0.1599)]"
      ]
     },
     "execution_count": 8,
     "metadata": {},
     "output_type": "execute_result"
    }
   ],
   "source": [
    "curs.execute('SELECT * FROM patient')\n",
    "curs.fetchall()"
   ]
  },
  {
   "cell_type": "code",
   "execution_count": 18,
   "metadata": {
    "collapsed": false
   },
   "outputs": [
    {
     "data": {
      "text/plain": [
       "[(842517, 1326.0, 20.57), (84300903, 1203.0, 19.69)]"
      ]
     },
     "execution_count": 18,
     "metadata": {},
     "output_type": "execute_result"
    }
   ],
   "source": [
    "curs.execute('''SELECT id,area_mean,radius_mean \n",
    "                FROM patient \n",
    "                WHERE radius_mean > 19\n",
    "                ORDER BY id''')\n",
    "curs.fetchall()"
   ]
  },
  {
   "cell_type": "code",
   "execution_count": 19,
   "metadata": {
    "collapsed": false
   },
   "outputs": [
    {
     "data": {
      "text/plain": [
       "[(842302, 1001.0, 17.99), (84300903, 1203.0, 19.69)]"
      ]
     },
     "execution_count": 19,
     "metadata": {},
     "output_type": "execute_result"
    }
   ],
   "source": [
    "curs.execute('''SELECT id,area_mean,radius_mean \n",
    "                FROM patient \n",
    "                WHERE radius_mean BETWEEN 17 AND 20\n",
    "                ORDER BY id''')\n",
    "curs.fetchall()"
   ]
  },
  {
   "cell_type": "code",
   "execution_count": null,
   "metadata": {
    "collapsed": true
   },
   "outputs": [],
   "source": []
  },
  {
   "cell_type": "code",
   "execution_count": null,
   "metadata": {
    "collapsed": true
   },
   "outputs": [],
   "source": []
  },
  {
   "cell_type": "code",
   "execution_count": null,
   "metadata": {
    "collapsed": true
   },
   "outputs": [],
   "source": []
  }
 ],
 "metadata": {
  "kernelspec": {
   "display_name": "Python 2",
   "language": "python",
   "name": "python2"
  },
  "language_info": {
   "codemirror_mode": {
    "name": "ipython",
    "version": 2
   },
   "file_extension": ".py",
   "mimetype": "text/x-python",
   "name": "python",
   "nbconvert_exporter": "python",
   "pygments_lexer": "ipython2",
   "version": "2.7.12"
  }
 },
 "nbformat": 4,
 "nbformat_minor": 1
}
