{
 "cells": [
  {
   "cell_type": "code",
   "execution_count": 1,
   "metadata": {
    "collapsed": true
   },
   "outputs": [],
   "source": [
    "import pandas as pd\n",
    "import numpy as np\n",
    "import matplotlib.pyplot as plt\n",
    "import quandl\n",
    "\n",
    "import pickle\n",
    "\n",
    "from matplotlib import style\n",
    "style.use('ggplot')"
   ]
  },
  {
   "cell_type": "markdown",
   "metadata": {},
   "source": [
    "### Rolling Statistics:\n",
    "There are a lot: mean, std, and etc...\n",
    "- rolling_apply: make your own function"
   ]
  },
  {
   "cell_type": "code",
   "execution_count": 25,
   "metadata": {
    "collapsed": false
   },
   "outputs": [
    {
     "name": "stderr",
     "output_type": "stream",
     "text": [
      "C:\\Users\\phay\\Anaconda2\\lib\\site-packages\\ipykernel\\__main__.py:8: FutureWarning: pd.rolling_mean is deprecated for Series and will be removed in a future version, replace with \n",
      "\tSeries.rolling(window=12,center=False).mean()\n"
     ]
    },
    {
     "name": "stdout",
     "output_type": "stream",
     "text": [
      "             ValueCA    CA12MA\n",
      "Date                          \n",
      "1975-01-31  0.000000       NaN\n",
      "1975-02-28  0.846192       NaN\n",
      "1975-03-31  1.581956       NaN\n",
      "1975-04-30  2.183669       NaN\n",
      "1975-05-31  2.786248       NaN\n",
      "1975-06-30  3.444136       NaN\n",
      "1975-07-31  4.024416       NaN\n",
      "1975-08-31  4.384871       NaN\n",
      "1975-09-30  4.436568       NaN\n",
      "1975-10-31  4.351232       NaN\n",
      "1975-11-30  4.481393       NaN\n",
      "1975-12-31  4.917757  3.119870\n",
      "1976-01-31  5.559395  3.583153\n"
     ]
    }
   ],
   "source": [
    "# mean\n",
    "plt.figure()\n",
    "ax1 = plt.subplot2grid((1,1),(0,0))\n",
    "\n",
    "HPI_data = pd.read_pickle('data/new_file3.pickle')\n",
    "\n",
    "#rolling\n",
    "HPI_data['CA12MA'] = pd.rolling_mean(HPI_data['ValueCA'],12)\n",
    "\n",
    "# notice it starts later\n",
    "print HPI_data[['ValueCA','CA12MA']].head(13)\n",
    "\n",
    "#HPI_data.dropna(inplace = True)\n",
    "\n",
    "HPI_data[['ValueCA','CA12MA']].plot(ax=ax1,label = 'default: monthly')\n",
    "\n",
    "plt.legend(loc = 'upper left')\n",
    "plt.show()"
   ]
  },
  {
   "cell_type": "code",
   "execution_count": 26,
   "metadata": {
    "collapsed": false
   },
   "outputs": [
    {
     "name": "stderr",
     "output_type": "stream",
     "text": [
      "C:\\Users\\phay\\Anaconda2\\lib\\site-packages\\ipykernel\\__main__.py:9: FutureWarning: pd.rolling_mean is deprecated for Series and will be removed in a future version, replace with \n",
      "\tSeries.rolling(window=12,center=False).mean()\n",
      "C:\\Users\\phay\\Anaconda2\\lib\\site-packages\\ipykernel\\__main__.py:11: FutureWarning: pd.rolling_std is deprecated for Series and will be removed in a future version, replace with \n",
      "\tSeries.rolling(window=12,center=False).std()\n"
     ]
    },
    {
     "name": "stdout",
     "output_type": "stream",
     "text": [
      "             ValueCA    CA12MA\n",
      "Date                          \n",
      "1975-01-31  0.000000       NaN\n",
      "1975-02-28  0.846192       NaN\n",
      "1975-03-31  1.581956       NaN\n",
      "1975-04-30  2.183669       NaN\n",
      "1975-05-31  2.786248       NaN\n",
      "1975-06-30  3.444136       NaN\n",
      "1975-07-31  4.024416       NaN\n",
      "1975-08-31  4.384871       NaN\n",
      "1975-09-30  4.436568       NaN\n",
      "1975-10-31  4.351232       NaN\n",
      "1975-11-30  4.481393       NaN\n",
      "1975-12-31  4.917757  3.119870\n",
      "1976-01-31  5.559395  3.583153\n"
     ]
    }
   ],
   "source": [
    "# std\n",
    "plt.figure()\n",
    "ax1 = plt.subplot2grid((2,1),(0,0))\n",
    "ax2 = plt.subplot2grid((2,1),(1,0),sharex=ax1)\n",
    "\n",
    "HPI_data = pd.read_pickle('data/new_file3.pickle')\n",
    "\n",
    "#rolling \n",
    "HPI_data['CA12MA']  = pd.rolling_mean(HPI_data['ValueCA'],12)\n",
    "# NEW: .rolling(window=12,center=False).std()\n",
    "HPI_data['CA12STD'] = pd.rolling_std(HPI_data['ValueCA'],12)\n",
    "\n",
    "# notice it starts later\n",
    "print HPI_data[['ValueCA','CA12MA']].head(13)\n",
    "\n",
    "HPI_data[['ValueCA','CA12MA']].plot(ax=ax1,label = 'default: monthly')\n",
    "HPI_data['CA12STD'].plot(ax=ax2,label = 'Std')\n",
    "\n",
    "plt.legend(loc = 'upper left')\n",
    "plt.show()"
   ]
  },
  {
   "cell_type": "code",
   "execution_count": 27,
   "metadata": {
    "collapsed": false
   },
   "outputs": [
    {
     "name": "stderr",
     "output_type": "stream",
     "text": [
      "C:\\Users\\phay\\Anaconda2\\lib\\site-packages\\ipykernel\\__main__.py:9: FutureWarning: pd.rolling_corr is deprecated for Series and will be removed in a future version, replace with \n",
      "\tSeries.rolling(window=12).corr(other=<Series>)\n"
     ]
    }
   ],
   "source": [
    "# corr\n",
    "plt.figure()\n",
    "ax1 = plt.subplot2grid((2,1),(0,0))\n",
    "ax2 = plt.subplot2grid((2,1),(1,0),sharex=ax1)\n",
    "\n",
    "HPI_data = pd.read_pickle('data/new_file3.pickle')\n",
    "\n",
    "#rolling\n",
    "CA_NY_12corr  = pd.rolling_corr(HPI_data['ValueCA'],HPI_data['ValueNY'],12)\n",
    "\n",
    "HPI_data[['ValueCA','ValueNY']].plot(ax=ax1)\n",
    "\n",
    "CA_NY_12corr.plot(ax=ax2,label = 'CORR')\n",
    "\n",
    "plt.legend(loc = 'upper left')\n",
    "plt.show()"
   ]
  }
 ],
 "metadata": {
  "kernelspec": {
   "display_name": "Python [Root]",
   "language": "python",
   "name": "Python [Root]"
  },
  "language_info": {
   "codemirror_mode": {
    "name": "ipython",
    "version": 2
   },
   "file_extension": ".py",
   "mimetype": "text/x-python",
   "name": "python",
   "nbconvert_exporter": "python",
   "pygments_lexer": "ipython2",
   "version": "2.7.12"
  }
 },
 "nbformat": 4,
 "nbformat_minor": 0
}
