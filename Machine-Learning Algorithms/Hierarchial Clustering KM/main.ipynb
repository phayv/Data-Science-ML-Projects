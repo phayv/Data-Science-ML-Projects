{
 "cells": [
  {
   "cell_type": "code",
   "execution_count": 2,
   "metadata": {
    "collapsed": true
   },
   "outputs": [],
   "source": [
    "import numpy as np\n",
    "from sklearn.cluster import MeanShift, KMeans\n",
    "from sklearn import preprocessing, cross_validation\n",
    "import pandas as pd\n",
    "import matplotlib.pyplot as plt\n",
    "\n",
    "%matplotlib inline"
   ]
  },
  {
   "cell_type": "code",
   "execution_count": 4,
   "metadata": {
    "collapsed": false
   },
   "outputs": [],
   "source": [
    "df = pd.read_excel('data/titanic.xls')\n",
    "\n",
    "original_df = pd.DataFrame.copy(df)\n",
    "df.drop(['body','name'], 1, inplace=True)\n",
    "df.fillna(0,inplace=True)"
   ]
  },
  {
   "cell_type": "code",
   "execution_count": 5,
   "metadata": {
    "collapsed": true
   },
   "outputs": [],
   "source": [
    "def handle_non_numerical_data(df):\n",
    "    \n",
    "    # handling non-numerical data: must convert.\n",
    "    columns = df.columns.values\n",
    "\n",
    "    for column in columns:\n",
    "        text_digit_vals = {}\n",
    "        def convert_to_int(val):\n",
    "            return text_digit_vals[val]\n",
    "\n",
    "        #print(column,df[column].dtype)\n",
    "        if df[column].dtype != np.int64 and df[column].dtype != np.float64:\n",
    "            \n",
    "            column_contents = df[column].values.tolist()\n",
    "            #finding just the uniques\n",
    "            unique_elements = set(column_contents)\n",
    "            # great, found them. \n",
    "            x = 0\n",
    "            for unique in unique_elements:\n",
    "                if unique not in text_digit_vals:\n",
    "                    # creating dict that contains new\n",
    "                    # id per unique string\n",
    "                    text_digit_vals[unique] = x\n",
    "                    x+=1\n",
    "            # now we map the new \"id\" vlaue\n",
    "            # to replace the string. \n",
    "            df[column] = list(map(convert_to_int,df[column]))\n",
    "\n",
    "    return df"
   ]
  },
  {
   "cell_type": "code",
   "execution_count": 6,
   "metadata": {
    "collapsed": false
   },
   "outputs": [
    {
     "data": {
      "text/plain": [
       "MeanShift(bandwidth=None, bin_seeding=False, cluster_all=True, min_bin_freq=1,\n",
       "     n_jobs=1, seeds=None)"
      ]
     },
     "execution_count": 6,
     "metadata": {},
     "output_type": "execute_result"
    }
   ],
   "source": [
    "df = handle_non_numerical_data(df)\n",
    "df.drop(['ticket','home.dest'], 1, inplace=True)\n",
    "\n",
    "X = np.array(df.drop(['survived'], 1).astype(float))\n",
    "X = preprocessing.scale(X)\n",
    "y = np.array(df['survived'])\n",
    "\n",
    "clf = MeanShift()\n",
    "clf.fit(X)"
   ]
  },
  {
   "cell_type": "code",
   "execution_count": 9,
   "metadata": {
    "collapsed": false
   },
   "outputs": [
    {
     "name": "stderr",
     "output_type": "stream",
     "text": [
      "C:\\Users\\phay\\Anaconda2\\lib\\site-packages\\pandas\\core\\indexing.py:132: SettingWithCopyWarning: \n",
      "A value is trying to be set on a copy of a slice from a DataFrame\n",
      "\n",
      "See the caveats in the documentation: http://pandas.pydata.org/pandas-docs/stable/indexing.html#indexing-view-versus-copy\n",
      "  self._setitem_with_indexer(indexer, value)\n"
     ]
    }
   ],
   "source": [
    "labels = clf.labels_\n",
    "cluster_centers = clf.cluster_centers_\n",
    "original_df['cluster_group']=np.nan\n",
    "for i in range(len(X)):\n",
    "    original_df['cluster_group'].iloc[i] = labels[i]"
   ]
  },
  {
   "cell_type": "code",
   "execution_count": 10,
   "metadata": {
    "collapsed": false
   },
   "outputs": [
    {
     "name": "stdout",
     "output_type": "stream",
     "text": [
      "{0: 0, 1: 0, 2: 1, 3: 0}\n"
     ]
    }
   ],
   "source": [
    "n_clusters_ = len(np.unique(labels))\n",
    "survival_rates = {}\n",
    "for i in range(n_clusters_):\n",
    "    temp_df = original_df[ (original_df['cluster_group']==float(i)) ]\n",
    "    #print(temp_df.head())\n",
    "\n",
    "    survival_cluster = temp_df[  (temp_df['survived'] == 1) ]\n",
    "\n",
    "    survival_rate = len(survival_cluster) / len(temp_df)\n",
    "    #print(i,survival_rate)\n",
    "    survival_rates[i] = survival_rate\n",
    "    \n",
    "print(survival_rates)"
   ]
  },
  {
   "cell_type": "code",
   "execution_count": 12,
   "metadata": {
    "collapsed": false
   },
   "outputs": [
    {
     "name": "stdout",
     "output_type": "stream",
     "text": [
      "     pclass  survived                                               name  \\\n",
      "1         1         1                     Allison, Master. Hudson Trevor   \n",
      "2         1         0                       Allison, Miss. Helen Loraine   \n",
      "3         1         0               Allison, Mr. Hudson Joshua Creighton   \n",
      "4         1         0    Allison, Mrs. Hudson J C (Bessie Waldo Daniels)   \n",
      "10        1         0                             Astor, Col. John Jacob   \n",
      "11        1         1  Astor, Mrs. John Jacob (Madeleine Talmadge Force)   \n",
      "16        1         0                           Baxter, Mr. Quigg Edmond   \n",
      "17        1         1    Baxter, Mrs. James (Helene DeLaudeniere Chaput)   \n",
      "23        1         1                              Bidois, Miss. Rosalie   \n",
      "24        1         1                                  Bird, Miss. Ellen   \n",
      "35        1         1                           Bowen, Miss. Grace Scott   \n",
      "54        1         1                Carter, Master. William Thornton II   \n",
      "55        1         1                          Carter, Miss. Lucile Polk   \n",
      "56        1         1                         Carter, Mr. William Ernest   \n",
      "57        1         1          Carter, Mrs. William Ernest (Lucile Polk)   \n",
      "66        1         1                        Chaudanson, Miss. Victorine   \n",
      "78        1         1  Compton, Mrs. Alexander Taylor (Mary Eliza Ing...   \n",
      "97        1         1  Douglas, Mrs. Frederick Charles (Mary Helene B...   \n",
      "103       1         1                      Endres, Miss. Caroline Louise   \n",
      "111       1         1                     Fortune, Miss. Alice Elizabeth   \n",
      "112       1         1                         Fortune, Miss. Ethel Flora   \n",
      "113       1         1                         Fortune, Miss. Mabel Helen   \n",
      "114       1         0                     Fortune, Mr. Charles Alexander   \n",
      "115       1         0                                  Fortune, Mr. Mark   \n",
      "116       1         1                Fortune, Mrs. Mark (Mary McDougald)   \n",
      "123       1         1                   Frolicher-Stehli, Mr. Maxmillian   \n",
      "124       1         1  Frolicher-Stehli, Mrs. Maxmillian (Margaretha ...   \n",
      "129       1         1                               Geiger, Miss. Amalie   \n",
      "138       1         0                          Graham, Mr. George Edward   \n",
      "139       1         1      Graham, Mrs. William Thompson (Edith Junkins)   \n",
      "173       1         0                                 Keeping, Mr. Edwin   \n",
      "193       1         1                  Madill, Miss. Georgette Alexandra   \n",
      "215       1         0                         Newell, Mr. Arthur Webster   \n",
      "238       1         1  Robert, Mrs. Edward Scott (Elisabeth Walton Mc...   \n",
      "249       1         1                        Ryerson, Master. John Borie   \n",
      "250       1         1                         Ryerson, Miss. Emily Borie   \n",
      "251       1         1              Ryerson, Miss. Susan Parker \"Suzette\"   \n",
      "252       1         0                         Ryerson, Mr. Arthur Larned   \n",
      "253       1         1    Ryerson, Mrs. Arthur Larned (Emily Maria Borie)   \n",
      "276       1         0                      Spencer, Mr. William Augustus   \n",
      "285       1         0                                 Straus, Mr. Isidor   \n",
      "286       1         0             Straus, Mrs. Isidor (Rosalie Ida Blun)   \n",
      "296       1         1  Thayer, Mrs. John Borland (Marian Longstreth M...   \n",
      "309       1         1                           Wick, Miss. Mary Natalie   \n",
      "312       1         0                         Widener, Mr. George Dunton   \n",
      "313       1         0                          Widener, Mr. Harry Elkins   \n",
      "314       1         1       Widener, Mrs. George Dunton (Eleanor Elkins)   \n",
      "\n",
      "        sex      age  sibsp  parch    ticket      fare            cabin  \\\n",
      "1      male   0.9167      1      2    113781  151.5500          C22 C26   \n",
      "2    female   2.0000      1      2    113781  151.5500          C22 C26   \n",
      "3      male  30.0000      1      2    113781  151.5500          C22 C26   \n",
      "4    female  25.0000      1      2    113781  151.5500          C22 C26   \n",
      "10     male  47.0000      1      0  PC 17757  227.5250          C62 C64   \n",
      "11   female  18.0000      1      0  PC 17757  227.5250          C62 C64   \n",
      "16     male  24.0000      0      1  PC 17558  247.5208          B58 B60   \n",
      "17   female  50.0000      0      1  PC 17558  247.5208          B58 B60   \n",
      "23   female  42.0000      0      0  PC 17757  227.5250              NaN   \n",
      "24   female  29.0000      0      0  PC 17483  221.7792              C97   \n",
      "35   female  45.0000      0      0  PC 17608  262.3750              NaN   \n",
      "54     male  11.0000      1      2    113760  120.0000          B96 B98   \n",
      "55   female  14.0000      1      2    113760  120.0000          B96 B98   \n",
      "56     male  36.0000      1      2    113760  120.0000          B96 B98   \n",
      "57   female  36.0000      1      2    113760  120.0000          B96 B98   \n",
      "66   female  36.0000      0      0  PC 17608  262.3750              B61   \n",
      "78   female  64.0000      0      2  PC 17756   83.1583              E45   \n",
      "97   female  27.0000      1      1  PC 17558  247.5208          B58 B60   \n",
      "103  female  38.0000      0      0  PC 17757  227.5250              C45   \n",
      "111  female  24.0000      3      2     19950  263.0000      C23 C25 C27   \n",
      "112  female  28.0000      3      2     19950  263.0000      C23 C25 C27   \n",
      "113  female  23.0000      3      2     19950  263.0000      C23 C25 C27   \n",
      "114    male  19.0000      3      2     19950  263.0000      C23 C25 C27   \n",
      "115    male  64.0000      1      4     19950  263.0000      C23 C25 C27   \n",
      "116  female  60.0000      1      4     19950  263.0000      C23 C25 C27   \n",
      "123    male  60.0000      1      1     13567   79.2000              B41   \n",
      "124  female  48.0000      1      1     13567   79.2000              B41   \n",
      "129  female  35.0000      0      0    113503  211.5000             C130   \n",
      "138    male  38.0000      0      1  PC 17582  153.4625              C91   \n",
      "139  female  58.0000      0      1  PC 17582  153.4625             C125   \n",
      "173    male  32.5000      0      0    113503  211.5000             C132   \n",
      "193  female  15.0000      0      1     24160  211.3375               B5   \n",
      "215    male  58.0000      0      2     35273  113.2750              D48   \n",
      "238  female  43.0000      0      1     24160  211.3375               B3   \n",
      "249    male  13.0000      2      2  PC 17608  262.3750  B57 B59 B63 B66   \n",
      "250  female  18.0000      2      2  PC 17608  262.3750  B57 B59 B63 B66   \n",
      "251  female  21.0000      2      2  PC 17608  262.3750  B57 B59 B63 B66   \n",
      "252    male  61.0000      1      3  PC 17608  262.3750  B57 B59 B63 B66   \n",
      "253  female  48.0000      1      3  PC 17608  262.3750  B57 B59 B63 B66   \n",
      "276    male  57.0000      1      0  PC 17569  146.5208              B78   \n",
      "285    male  67.0000      1      0  PC 17483  221.7792          C55 C57   \n",
      "286  female  63.0000      1      0  PC 17483  221.7792          C55 C57   \n",
      "296  female  39.0000      1      1     17421  110.8833              C68   \n",
      "309  female  31.0000      0      2     36928  164.8667               C7   \n",
      "312    male  50.0000      1      1    113503  211.5000              C80   \n",
      "313    male  27.0000      0      2    113503  211.5000              C82   \n",
      "314  female  50.0000      1      1    113503  211.5000              C80   \n",
      "\n",
      "    embarked boat   body                        home.dest  cluster_group  \n",
      "1          S   11    NaN  Montreal, PQ / Chesterville, ON            1.0  \n",
      "2          S  NaN    NaN  Montreal, PQ / Chesterville, ON            1.0  \n",
      "3          S  NaN  135.0  Montreal, PQ / Chesterville, ON            1.0  \n",
      "4          S  NaN    NaN  Montreal, PQ / Chesterville, ON            1.0  \n",
      "10         C  NaN  124.0                     New York, NY            1.0  \n",
      "11         C    4    NaN                     New York, NY            1.0  \n",
      "16         C  NaN    NaN                     Montreal, PQ            1.0  \n",
      "17         C    6    NaN                     Montreal, PQ            1.0  \n",
      "23         C    4    NaN                              NaN            1.0  \n",
      "24         S    8    NaN                              NaN            1.0  \n",
      "35         C    4    NaN                  Cooperstown, NY            1.0  \n",
      "54         S    4    NaN                    Bryn Mawr, PA            1.0  \n",
      "55         S    4    NaN                    Bryn Mawr, PA            1.0  \n",
      "56         S    C    NaN                    Bryn Mawr, PA            1.0  \n",
      "57         S    4    NaN                    Bryn Mawr, PA            1.0  \n",
      "66         C    4    NaN                              NaN            1.0  \n",
      "78         C   14    NaN                     Lakewood, NJ            1.0  \n",
      "97         C    6    NaN                     Montreal, PQ            1.0  \n",
      "103        C    4    NaN                     New York, NY            1.0  \n",
      "111        S   10    NaN                     Winnipeg, MB            1.0  \n",
      "112        S   10    NaN                     Winnipeg, MB            1.0  \n",
      "113        S   10    NaN                     Winnipeg, MB            1.0  \n",
      "114        S  NaN    NaN                     Winnipeg, MB            1.0  \n",
      "115        S  NaN    NaN                     Winnipeg, MB            1.0  \n",
      "116        S   10    NaN                     Winnipeg, MB            1.0  \n",
      "123        C    5    NaN              Zurich, Switzerland            1.0  \n",
      "124        C    5    NaN              Zurich, Switzerland            1.0  \n",
      "129        C    4    NaN                              NaN            1.0  \n",
      "138        S  NaN  147.0                     Winnipeg, MB            1.0  \n",
      "139        S    3    NaN                    Greenwich, CT            1.0  \n",
      "173        C  NaN   45.0                              NaN            1.0  \n",
      "193        S    2    NaN                     St Louis, MO            1.0  \n",
      "215        C  NaN  122.0                    Lexington, MA            1.0  \n",
      "238        S    2    NaN                     St Louis, MO            1.0  \n",
      "249        C    4    NaN  Haverford, PA / Cooperstown, NY            1.0  \n",
      "250        C    4    NaN  Haverford, PA / Cooperstown, NY            1.0  \n",
      "251        C    4    NaN  Haverford, PA / Cooperstown, NY            1.0  \n",
      "252        C  NaN    NaN  Haverford, PA / Cooperstown, NY            1.0  \n",
      "253        C    4    NaN  Haverford, PA / Cooperstown, NY            1.0  \n",
      "276        C  NaN    NaN                    Paris, France            1.0  \n",
      "285        S  NaN   96.0                     New York, NY            1.0  \n",
      "286        S  NaN    NaN                     New York, NY            1.0  \n",
      "296        C    4    NaN                    Haverford, PA            1.0  \n",
      "309        S    8    NaN                   Youngstown, OH            1.0  \n",
      "312        C  NaN    NaN                  Elkins Park, PA            1.0  \n",
      "313        C  NaN    NaN                  Elkins Park, PA            1.0  \n",
      "314        C    4    NaN                  Elkins Park, PA            1.0  \n"
     ]
    }
   ],
   "source": [
    "print(original_df[ (original_df['cluster_group']==1) ])"
   ]
  },
  {
   "cell_type": "code",
   "execution_count": 11,
   "metadata": {
    "collapsed": false
   },
   "outputs": [
    {
     "name": "stdout",
     "output_type": "stream",
     "text": [
      "            pclass     survived         age        sibsp        parch  \\\n",
      "count  1248.000000  1248.000000  987.000000  1248.000000  1248.000000   \n",
      "mean      2.342147     0.371795   29.429838     0.483974     0.302885   \n",
      "std       0.813333     0.483478   14.201267     1.049565     0.655315   \n",
      "min       1.000000     0.000000    0.166700     0.000000     0.000000   \n",
      "25%       2.000000     0.000000         NaN     0.000000     0.000000   \n",
      "50%       3.000000     0.000000         NaN     0.000000     0.000000   \n",
      "75%       3.000000     1.000000         NaN     1.000000     0.000000   \n",
      "max       3.000000     1.000000   80.000000     8.000000     4.000000   \n",
      "\n",
      "              fare        body  cluster_group  \n",
      "count  1247.000000  113.000000         1248.0  \n",
      "mean     25.413876  162.123894            0.0  \n",
      "std      28.856902   98.916644            0.0  \n",
      "min       0.000000    1.000000            0.0  \n",
      "25%            NaN         NaN            0.0  \n",
      "50%            NaN         NaN            0.0  \n",
      "75%            NaN         NaN            0.0  \n",
      "max     227.525000  328.000000            0.0  \n",
      "       pclass  survived        age  sibsp    parch      fare  body  \\\n",
      "count     4.0       4.0   4.000000    4.0  4.00000    4.0000   0.0   \n",
      "mean      1.0       1.0  41.000000    0.0  0.50000  512.3292   NaN   \n",
      "std       0.0       0.0  11.343133    0.0  0.57735    0.0000   NaN   \n",
      "min       1.0       1.0  35.000000    0.0  0.00000  512.3292   NaN   \n",
      "25%       1.0       1.0  35.000000    0.0  0.00000  512.3292   NaN   \n",
      "50%       1.0       1.0  35.500000    0.0  0.50000  512.3292   NaN   \n",
      "75%       1.0       1.0  41.500000    0.0  1.00000  512.3292   NaN   \n",
      "max       1.0       1.0  58.000000    0.0  1.00000  512.3292   NaN   \n",
      "\n",
      "       cluster_group  \n",
      "count            4.0  \n",
      "mean             2.0  \n",
      "std              0.0  \n",
      "min              2.0  \n",
      "25%              2.0  \n",
      "50%              2.0  \n",
      "75%              2.0  \n",
      "max              2.0  \n"
     ]
    },
    {
     "name": "stderr",
     "output_type": "stream",
     "text": [
      "C:\\Users\\phay\\Anaconda2\\lib\\site-packages\\numpy\\lib\\function_base.py:3834: RuntimeWarning: Invalid value encountered in percentile\n",
      "  RuntimeWarning)\n"
     ]
    }
   ],
   "source": [
    "print(original_df[ (original_df['cluster_group']==0) ].describe())\n",
    "print(original_df[ (original_df['cluster_group']==2) ].describe())"
   ]
  }
 ],
 "metadata": {
  "kernelspec": {
   "display_name": "Python [Root]",
   "language": "python",
   "name": "Python [Root]"
  },
  "language_info": {
   "codemirror_mode": {
    "name": "ipython",
    "version": 2
   },
   "file_extension": ".py",
   "mimetype": "text/x-python",
   "name": "python",
   "nbconvert_exporter": "python",
   "pygments_lexer": "ipython2",
   "version": "2.7.12"
  }
 },
 "nbformat": 4,
 "nbformat_minor": 0
}
