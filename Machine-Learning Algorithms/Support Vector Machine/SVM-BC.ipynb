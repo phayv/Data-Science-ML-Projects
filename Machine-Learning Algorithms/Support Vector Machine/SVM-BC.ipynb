{
 "cells": [
  {
   "cell_type": "code",
   "execution_count": 3,
   "metadata": {
    "collapsed": false
   },
   "outputs": [],
   "source": [
    "import pandas as pd\n",
    "import numpy as np\n",
    "import matplotlib.pyplot as plt\n",
    "\n",
    "from sklearn import preprocessing, cross_validation, neighbors, svm"
   ]
  },
  {
   "cell_type": "code",
   "execution_count": 16,
   "metadata": {
    "collapsed": false
   },
   "outputs": [],
   "source": [
    "df = pd.read_csv('data/WBC.csv',header=0)\n",
    "# make outliers (also the distance would be crazy hard)\n",
    "df.replace('?',-99999, inplace = True)\n",
    "\n",
    "# not dropping the ID column has a huge impact again (you could just not include it too)\n",
    "df.drop('ID',axis = 1,inplace= True)"
   ]
  },
  {
   "cell_type": "code",
   "execution_count": 17,
   "metadata": {
    "collapsed": false
   },
   "outputs": [
    {
     "name": "stdout",
     "output_type": "stream",
     "text": [
      "0.964285714286\n"
     ]
    }
   ],
   "source": [
    "X = np.array(df.drop('class',axis = 1))\n",
    "y = np.array(df['class'])\n",
    "\n",
    "X_train, X_test, y_train, y_test = cross_validation.train_test_split(X, y, test_size = .2)\n",
    "\n",
    "SVM = svm.SVC()\n",
    "SVM.fit(X_train,y_train)\n",
    "accuracy = SVM.score(X_test,y_test)\n",
    "\n",
    "print accuracy"
   ]
  },
  {
   "cell_type": "markdown",
   "metadata": {},
   "source": [
    "### New Data"
   ]
  },
  {
   "cell_type": "code",
   "execution_count": 18,
   "metadata": {
    "collapsed": false
   },
   "outputs": [
    {
     "name": "stdout",
     "output_type": "stream",
     "text": [
      "0.964285714286 :  [2 2]\n"
     ]
    }
   ],
   "source": [
    "list_of_examples = np.array([[4,2,1,1,1,2,3,2,1],[4,2,1,2,2,2,3,2,1]])\n",
    "prediction = SVM.predict(list_of_examples.reshape(len(list_of_examples),-1))\n",
    "\n",
    "print accuracy,': ',prediction"
   ]
  },
  {
   "cell_type": "code",
   "execution_count": 19,
   "metadata": {
    "collapsed": false
   },
   "outputs": [
    {
     "name": "stdout",
     "output_type": "stream",
     "text": [
      "0.964285714286 :  [2 4]\n"
     ]
    }
   ],
   "source": [
    "list_of_examples = np.array([[4,2,1,1,1,2,3,2,1],[9,10,10,8,8,9,10,8,1]])\n",
    "prediction = SVM.predict(list_of_examples.reshape(len(list_of_examples),-1))\n",
    "\n",
    "print accuracy,': ',prediction"
   ]
  }
 ],
 "metadata": {
  "anaconda-cloud": {},
  "kernelspec": {
   "display_name": "Python [Root]",
   "language": "python",
   "name": "Python [Root]"
  },
  "language_info": {
   "codemirror_mode": {
    "name": "ipython",
    "version": 2
   },
   "file_extension": ".py",
   "mimetype": "text/x-python",
   "name": "python",
   "nbconvert_exporter": "python",
   "pygments_lexer": "ipython2",
   "version": "2.7.12"
  }
 },
 "nbformat": 4,
 "nbformat_minor": 0
}
