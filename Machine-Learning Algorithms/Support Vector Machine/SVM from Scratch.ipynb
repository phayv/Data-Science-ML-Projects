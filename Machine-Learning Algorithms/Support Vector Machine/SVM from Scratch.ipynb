{
 "cells": [
  {
   "cell_type": "code",
   "execution_count": 4,
   "metadata": {
    "collapsed": true
   },
   "outputs": [],
   "source": [
    "import pandas as pd\n",
    "import numpy as np\n",
    "import matplotlib.pyplot as plt\n",
    "from matplotlib import style\n",
    "style.use('ggplot')\n"
   ]
  },
  {
   "cell_type": "code",
   "execution_count": null,
   "metadata": {
    "collapsed": true
   },
   "outputs": [],
   "source": [
    "class Support_Vector_Machine:\n",
    "    def __init__(self, visualization = True):\n",
    "        self.visualizatino = visualization\n",
    "        self.colors = {1:'g', -1: 'b'}\n",
    "        if self.visualization:\n",
    "            self.fig = plt.figure()\n",
    "            self.ax = self.fig.add_subplot(1,1,1)\n",
    "    \n",
    "    def fit(self,data):\n",
    "        self.data = data\n",
    "        \n",
    "        opt_dict = {}\n",
    "        transforms = [[ 1, 1],\n",
    "                      [-1, 1],\n",
    "                      [ 1,-1],\n",
    "                      [-1,-1]]\n",
    "        all_data = []\n",
    "        for y_i for self.data:\n",
    "            for featureset in self.data[y_i]:\n",
    "                for feature in featureset:\n",
    "                    all_data.append(feature)\n",
    "                    \n",
    "        self.max_feature_value = max(all_data)\n",
    "        self.min_feature_value = min(all_data)\n",
    "        all_data = None\n",
    "        \n",
    "        step_sizes = [self.max_feature_values*0.1,\n",
    "                      self.max_feature_values*0.01\n",
    "                      self.max_feature_values*0.001]\n",
    "        \n",
    "        b_range_multiple = 5\n",
    "        b_multiple = 5\n",
    "        \n",
    "        #cutting corners\n",
    "        latest_optimum = self.max_feature_value*10\n",
    "        \n",
    "        for step in step_sizes:\n",
    "            w = np.array([latest_optimum,latest_optimum])\n",
    "            # convex\n",
    "            optimized = False\n",
    "            while not optimized:\n",
    "                for b in np.arange(-1*(self.max_feature_value * b_range_multiple), \n",
    "                                    self.max_feature_value * b_range_multiple,\n",
    "                                    step = b_multiple): # step?\n",
    "                    for transformation in transforms:\n",
    "                        w_t = w*transformation\n",
    "                        found_option = True\n",
    "                        # SMO attempts to fix this a bit\n",
    "                        for i in self.data:\n",
    "                            for x_i in self.data[i]:\n",
    "                                y_i = i\n",
    "                                if not y_i*(np.dot(w_t,x_i) + b) >= 1:\n",
    "                                    found_option = False\n",
    "                                    # break\n",
    "                        if found_option:\n",
    "                            opt_dict[np.linalg.norm(w_t)] = [w_t,b]\n",
    "                if w[0] < 0:\n",
    "                    optimized = True\n",
    "                    print 'Optimized a step'\n",
    "                else:\n",
    "                    # w - [step,step], even though step is a scalar\n",
    "                    w = w - step\n",
    "            \n",
    "            norms = sorted([n for n in opt_dict])\n",
    "            opt_choice = opt_dict[norms[0]]\n",
    "            \n",
    "            self.w = opt_choice[0]\n",
    "            self.b = opt_choice[1]\n",
    "            latest_optimum = opt_choice[0][0] + step*2\n",
    "    \n",
    "    def prediction(self,features):\n",
    "        # sign( x_i . w + b)\n",
    "        classification = np.sign( np.dot(np.array(features),self.w) + self.b )\n",
    "        return classification"
   ]
  },
  {
   "cell_type": "code",
   "execution_count": 3,
   "metadata": {
    "collapsed": false
   },
   "outputs": [],
   "source": [
    "data_dict = {-1: np.array([[1,7],\n",
    "                          [2,8],\n",
    "                          [3,8]]),\n",
    "              1: np.array([[5,1],\n",
    "                          [6,-1],\n",
    "                          [7,3]])}"
   ]
  },
  {
   "cell_type": "code",
   "execution_count": null,
   "metadata": {
    "collapsed": true
   },
   "outputs": [],
   "source": []
  }
 ],
 "metadata": {
  "kernelspec": {
   "display_name": "Python [Root]",
   "language": "python",
   "name": "Python [Root]"
  },
  "language_info": {
   "codemirror_mode": {
    "name": "ipython",
    "version": 2
   },
   "file_extension": ".py",
   "mimetype": "text/x-python",
   "name": "python",
   "nbconvert_exporter": "python",
   "pygments_lexer": "ipython2",
   "version": "2.7.12"
  }
 },
 "nbformat": 4,
 "nbformat_minor": 0
}
