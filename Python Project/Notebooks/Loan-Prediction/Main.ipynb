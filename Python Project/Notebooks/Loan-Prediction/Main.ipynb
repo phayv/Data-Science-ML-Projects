{
 "cells": [
  {
   "cell_type": "markdown",
   "metadata": {
    "collapsed": false
   },
   "source": [
    "# Data Manipulation"
   ]
  },
  {
   "cell_type": "code",
   "execution_count": 25,
   "metadata": {
    "collapsed": true
   },
   "outputs": [],
   "source": [
    "# Import Libraries For Data Munging\n",
    "\n",
    "import pandas as pd\n",
    "import numpy as np\n",
    "import matplotlib.pyplot as plt\n",
    "\n",
    "from scipy.stats import mode"
   ]
  },
  {
   "cell_type": "code",
   "execution_count": 26,
   "metadata": {
    "collapsed": true
   },
   "outputs": [],
   "source": [
    "# Read the csv file into a dataframe\n",
    "data = pd.read_csv(\"Data/train.csv\")"
   ]
  },
  {
   "cell_type": "code",
   "execution_count": 27,
   "metadata": {
    "collapsed": false,
    "scrolled": true
   },
   "outputs": [
    {
     "data": {
      "text/html": [
       "<div>\n",
       "<table border=\"1\" class=\"dataframe\">\n",
       "  <thead>\n",
       "    <tr style=\"text-align: right;\">\n",
       "      <th></th>\n",
       "      <th>Loan_ID</th>\n",
       "      <th>Gender</th>\n",
       "      <th>Married</th>\n",
       "      <th>Dependents</th>\n",
       "      <th>Education</th>\n",
       "      <th>Self_Employed</th>\n",
       "      <th>ApplicantIncome</th>\n",
       "      <th>CoapplicantIncome</th>\n",
       "      <th>LoanAmount</th>\n",
       "      <th>Loan_Amount_Term</th>\n",
       "      <th>Credit_History</th>\n",
       "      <th>Property_Area</th>\n",
       "      <th>Loan_Status</th>\n",
       "    </tr>\n",
       "  </thead>\n",
       "  <tbody>\n",
       "    <tr>\n",
       "      <th>0</th>\n",
       "      <td>LP001002</td>\n",
       "      <td>Male</td>\n",
       "      <td>No</td>\n",
       "      <td>0</td>\n",
       "      <td>Graduate</td>\n",
       "      <td>No</td>\n",
       "      <td>5849</td>\n",
       "      <td>0.0</td>\n",
       "      <td>NaN</td>\n",
       "      <td>360.0</td>\n",
       "      <td>1.0</td>\n",
       "      <td>Urban</td>\n",
       "      <td>Y</td>\n",
       "    </tr>\n",
       "    <tr>\n",
       "      <th>1</th>\n",
       "      <td>LP001003</td>\n",
       "      <td>Male</td>\n",
       "      <td>Yes</td>\n",
       "      <td>1</td>\n",
       "      <td>Graduate</td>\n",
       "      <td>No</td>\n",
       "      <td>4583</td>\n",
       "      <td>1508.0</td>\n",
       "      <td>128.0</td>\n",
       "      <td>360.0</td>\n",
       "      <td>1.0</td>\n",
       "      <td>Rural</td>\n",
       "      <td>N</td>\n",
       "    </tr>\n",
       "    <tr>\n",
       "      <th>2</th>\n",
       "      <td>LP001005</td>\n",
       "      <td>Male</td>\n",
       "      <td>Yes</td>\n",
       "      <td>0</td>\n",
       "      <td>Graduate</td>\n",
       "      <td>Yes</td>\n",
       "      <td>3000</td>\n",
       "      <td>0.0</td>\n",
       "      <td>66.0</td>\n",
       "      <td>360.0</td>\n",
       "      <td>1.0</td>\n",
       "      <td>Urban</td>\n",
       "      <td>Y</td>\n",
       "    </tr>\n",
       "    <tr>\n",
       "      <th>3</th>\n",
       "      <td>LP001006</td>\n",
       "      <td>Male</td>\n",
       "      <td>Yes</td>\n",
       "      <td>0</td>\n",
       "      <td>Not Graduate</td>\n",
       "      <td>No</td>\n",
       "      <td>2583</td>\n",
       "      <td>2358.0</td>\n",
       "      <td>120.0</td>\n",
       "      <td>360.0</td>\n",
       "      <td>1.0</td>\n",
       "      <td>Urban</td>\n",
       "      <td>Y</td>\n",
       "    </tr>\n",
       "    <tr>\n",
       "      <th>4</th>\n",
       "      <td>LP001008</td>\n",
       "      <td>Male</td>\n",
       "      <td>No</td>\n",
       "      <td>0</td>\n",
       "      <td>Graduate</td>\n",
       "      <td>No</td>\n",
       "      <td>6000</td>\n",
       "      <td>0.0</td>\n",
       "      <td>141.0</td>\n",
       "      <td>360.0</td>\n",
       "      <td>1.0</td>\n",
       "      <td>Urban</td>\n",
       "      <td>Y</td>\n",
       "    </tr>\n",
       "  </tbody>\n",
       "</table>\n",
       "</div>"
      ],
      "text/plain": [
       "    Loan_ID Gender Married Dependents     Education Self_Employed  \\\n",
       "0  LP001002   Male      No          0      Graduate            No   \n",
       "1  LP001003   Male     Yes          1      Graduate            No   \n",
       "2  LP001005   Male     Yes          0      Graduate           Yes   \n",
       "3  LP001006   Male     Yes          0  Not Graduate            No   \n",
       "4  LP001008   Male      No          0      Graduate            No   \n",
       "\n",
       "   ApplicantIncome  CoapplicantIncome  LoanAmount  Loan_Amount_Term  \\\n",
       "0             5849                0.0         NaN             360.0   \n",
       "1             4583             1508.0       128.0             360.0   \n",
       "2             3000                0.0        66.0             360.0   \n",
       "3             2583             2358.0       120.0             360.0   \n",
       "4             6000                0.0       141.0             360.0   \n",
       "\n",
       "   Credit_History Property_Area Loan_Status  \n",
       "0             1.0         Urban           Y  \n",
       "1             1.0         Rural           N  \n",
       "2             1.0         Urban           Y  \n",
       "3             1.0         Urban           Y  \n",
       "4             1.0         Urban           Y  "
      ]
     },
     "execution_count": 27,
     "metadata": {},
     "output_type": "execute_result"
    }
   ],
   "source": [
    "# Preview data\n",
    "data.head()"
   ]
  },
  {
   "cell_type": "code",
   "execution_count": 28,
   "metadata": {
    "collapsed": false
   },
   "outputs": [
    {
     "name": "stdout",
     "output_type": "stream",
     "text": [
      "Info about our dataframe\n",
      "<class 'pandas.core.frame.DataFrame'>\n",
      "RangeIndex: 614 entries, 0 to 613\n",
      "Data columns (total 13 columns):\n",
      "Loan_ID              614 non-null object\n",
      "Gender               601 non-null object\n",
      "Married              611 non-null object\n",
      "Dependents           599 non-null object\n",
      "Education            614 non-null object\n",
      "Self_Employed        582 non-null object\n",
      "ApplicantIncome      614 non-null int64\n",
      "CoapplicantIncome    614 non-null float64\n",
      "LoanAmount           592 non-null float64\n",
      "Loan_Amount_Term     600 non-null float64\n",
      "Credit_History       564 non-null float64\n",
      "Property_Area        614 non-null object\n",
      "Loan_Status          614 non-null object\n",
      "dtypes: float64(4), int64(1), object(8)\n",
      "memory usage: 62.4+ KB\n",
      "-------------------------------------------------------\n",
      "Loan_ID               0\n",
      "Gender               13\n",
      "Married               3\n",
      "Dependents           15\n",
      "Education             0\n",
      "Self_Employed        32\n",
      "ApplicantIncome       0\n",
      "CoapplicantIncome     0\n",
      "LoanAmount           22\n",
      "Loan_Amount_Term     14\n",
      "Credit_History       50\n",
      "Property_Area         0\n",
      "Loan_Status           0\n",
      "dtype: int64 \n",
      "\n",
      "Total Number of Rows: 614\n"
     ]
    }
   ],
   "source": [
    "# Check for missing values\n",
    "print \"Info about our dataframe\"\n",
    "data.info()\n",
    "print \"-------------------------------------------------------\"\n",
    "print data.apply(lambda x: x.isnull().sum() ,axis = 0), \"\\n\"\n",
    "\n",
    "# This seems like a unique idenitifier so we should count how many values there are to the dataset.\n",
    "print \"Total Number of Rows:\", sum(data['Loan_ID'].value_counts())"
   ]
  },
  {
   "cell_type": "code",
   "execution_count": 29,
   "metadata": {
    "collapsed": false
   },
   "outputs": [],
   "source": [
    "\"\"\"\n",
    "There might be columns we don't need. Deleting them would help clean the data.\n",
    "\n",
    "Asuming one doesn't get rejected from a loan based on an arbitrary numbering system, self-employment, and dependents.\n",
    "It really just comes down to the money you can pay back with for Self Employed class I believe.\n",
    "\"\"\"\n",
    "data = data.drop(['Loan_ID','Self_Employed','Dependents'],axis = 1)"
   ]
  },
  {
   "cell_type": "code",
   "execution_count": 30,
   "metadata": {
    "collapsed": false
   },
   "outputs": [
    {
     "name": "stdout",
     "output_type": "stream",
     "text": [
      "\n"
     ]
    }
   ],
   "source": [
    "\"\"\"\n",
    "lets just look at the rest of the data and make observations.\n",
    "\n",
    "Things that could be used to get the following missing information\n",
    "1. Married: Mode of Married\n",
    "1. Gender: (ApplicantIncome + CopplicantIncome)\n",
    "3. LoanAmount: Loan_Status (Indicator)\n",
    "               Property_Area, (ApplicantIncome + CopplicantIncome)\n",
    "3. Loan_Amount_Term: LoanAmount\n",
    "\n",
    "There could be more, but they might be insignificant to determining.\n",
    "\n",
    "\"\"\"\n",
    "print"
   ]
  },
  {
   "cell_type": "code",
   "execution_count": 31,
   "metadata": {
    "collapsed": false
   },
   "outputs": [
    {
     "name": "stdout",
     "output_type": "stream",
     "text": [
      "Number of Null Values in Married:  3\n",
      "-----Since it's just 3 missing values, it wouldn't affect the data too much if we replaced by the mode.-----\n",
      "Married\n",
      "Yes    401\n",
      "No     213\n",
      "Name: Married, dtype: int64\n",
      "Number of Null Values in Married:  0\n"
     ]
    }
   ],
   "source": [
    "\"\"\"\n",
    "1. Married\n",
    "\"\"\"\n",
    "print \"Number of Null Values in Married: \", data['Married'].isnull().sum()\n",
    "print \"-----Since it's just 3 missing values, it wouldn't affect the data too much if we replaced by the mode.-----\"\n",
    "print \"Married\"\n",
    "data['Married'].fillna(data['Married'].mode()[0], inplace = True)\n",
    "print data['Married'].value_counts()\n",
    "print \"Number of Null Values in Married: \", data['Married'].isnull().sum()"
   ]
  },
  {
   "cell_type": "code",
   "execution_count": 32,
   "metadata": {
    "collapsed": false
   },
   "outputs": [
    {
     "name": "stdout",
     "output_type": "stream",
     "text": [
      "Number of Male and Female Applicants\n",
      "Male      489\n",
      "Female    112\n",
      "Name: Gender, dtype: int64\n",
      "---------------------------------------\n",
      "Average Combined Income:\n",
      "Males: 7189.39 +- 6448.47\n",
      "Females: 5751.48 +- 4879.45\n",
      "\n",
      "---It seemed the data has extreme values. Lets log the data for a perhaps better distribution.\n",
      "\n"
     ]
    }
   ],
   "source": [
    "\"\"\"\n",
    "2. Gender\n",
    "\"\"\"\n",
    "\n",
    "# NOTE: since it's only 13 missing values we could easily input the mode as well. This is because there are much more males.\n",
    "# data['Gender'].fillna(data['Gender'].mode()[0], inplace = True)\n",
    "\n",
    "\"\"\"\n",
    "ALTERNATIVES:\n",
    "\n",
    "NOTE: since it's only 13 missing values we could easily input the mode as well. This is because there are much more males.\n",
    "data['Gender'].fillna(data['Gender'].mode()[0], inplace = True)\n",
    "\n",
    "This might make you pursue determining gender this way alongside income, but I didn't think it was significant:\n",
    "print data.loc[(data['Education'] == 'Not Graduate') & (data['Married'] == 'Yes'),:]['Gender'].value_counts()\n",
    "print data.loc[(data['Education'] == 'Not Graduate') & (data['Married'] ==  'No'),:]['Gender'].value_counts()\n",
    "print data.loc[(data['Education'] ==     'Graduate') & (data['Married'] == 'Yes'),:]['Gender'].value_counts()\n",
    "print data.loc[(data['Education'] ==     'Graduate') & (data['Married'] ==  'No'),:]['Gender'].value_counts()\n",
    "\"\"\"\n",
    "\n",
    "print \"Number of Male and Female Applicants\\n\", data['Gender'].value_counts()\n",
    "\n",
    "# For more accurate income: combine the incomes of spouses as well because they will pay back the loan together. \n",
    "data['CombinedIncome'] = data['ApplicantIncome'] + data['CoapplicantIncome']\n",
    "\n",
    "temp_pt  = data.pivot_table(values = 'CombinedIncome', index = 'Gender')\n",
    "temp_std = data.pivot_table(values = 'CombinedIncome', index = 'Gender', aggfunc = np.std)\n",
    "\n",
    "print \"---------------------------------------\"\n",
    "print \"Average Combined Income:\\nMales: {:5.2f} +- {:5.2f}\\nFemales: {:5.2f} +- {:5.2f}\"\\\n",
    ".format(temp_pt[1],temp_std[1],temp_pt[0],temp_std[0])\n",
    "\n",
    "data.boxplot(column = 'CombinedIncome', by = 'Gender')\n",
    "\n",
    "plt.show()\n",
    "print \"\\n---It seemed the data has extreme values. Lets log the data for a perhaps better distribution.\\n\""
   ]
  },
  {
   "cell_type": "code",
   "execution_count": 33,
   "metadata": {
    "collapsed": false,
    "scrolled": true
   },
   "outputs": [
    {
     "name": "stdout",
     "output_type": "stream",
     "text": [
      "This was a great idea since our data seems more tamed. This shows the data without the NaN values.\n",
      "Mean Log(Combined Income):\n",
      "Male: 8.704 +- 0.528  \n",
      "Female: 8.477 +- 0.540\n",
      "-------------------------------------------------------------------------------------\n"
     ]
    },
    {
     "name": "stderr",
     "output_type": "stream",
     "text": [
      "C:\\Users\\phay\\Anaconda2\\lib\\site-packages\\ipykernel\\__main__.py:37: SettingWithCopyWarning: \n",
      "A value is trying to be set on a copy of a slice from a DataFrame\n",
      "\n",
      "See the caveats in the documentation: http://pandas.pydata.org/pandas-docs/stable/indexing.html#indexing-view-versus-copy\n",
      "C:\\Users\\phay\\Anaconda2\\lib\\site-packages\\ipykernel\\__main__.py:30: SettingWithCopyWarning: \n",
      "A value is trying to be set on a copy of a slice from a DataFrame\n",
      "\n",
      "See the caveats in the documentation: http://pandas.pydata.org/pandas-docs/stable/indexing.html#indexing-view-versus-copy\n"
     ]
    },
    {
     "name": "stdout",
     "output_type": "stream",
     "text": [
      "Checking that we filled every missing Gender value:\n",
      "Gender                 0\n",
      "Married                0\n",
      "Education              0\n",
      "ApplicantIncome        0\n",
      "CoapplicantIncome      0\n",
      "LoanAmount            22\n",
      "Loan_Amount_Term      14\n",
      "Credit_History        50\n",
      "Property_Area          0\n",
      "Loan_Status            0\n",
      "CombinedIncome         0\n",
      "CombinedIncome_log     0\n",
      "dtype: int64\n"
     ]
    },
    {
     "name": "stderr",
     "output_type": "stream",
     "text": [
      "C:\\Users\\phay\\Anaconda2\\lib\\site-packages\\ipykernel\\__main__.py:39: SettingWithCopyWarning: \n",
      "A value is trying to be set on a copy of a slice from a DataFrame\n",
      "\n",
      "See the caveats in the documentation: http://pandas.pydata.org/pandas-docs/stable/indexing.html#indexing-view-versus-copy\n"
     ]
    }
   ],
   "source": [
    "\"\"\"\n",
    "2.5 Gender CONT:\n",
    "Dealing with the missing values for the gender column.\n",
    "\"\"\"\n",
    "# Logging our data\n",
    "data['CombinedIncome_log'] = np.log(data['CombinedIncome'])\n",
    "temp_mean = data.pivot_table(values = 'CombinedIncome_log', index = 'Gender')\n",
    "temp_std  = data.pivot_table(values = 'CombinedIncome_log', index = 'Gender', aggfunc = np.std)\n",
    "\n",
    "print \"This was a great idea since our data seems more tamed. This shows the data without the NaN values.\"\n",
    "data['CombinedIncome_log'].hist(bins = 20, figsize = (14,3))\n",
    "plt.show()\n",
    "\n",
    "print \"Mean Log(Combined Income):\\nMale: {:1.3f} +- {:1.3f}  \\nFemale: {:1.3f} +- {:1.3f}\" \\\n",
    ".format(temp_mean[1],temp_std[1],temp_mean[0],temp_std[0])\n",
    "print \"-------------------------------------------------------------------------------------\"\n",
    "\n",
    "\n",
    "#----------------------------------------------------------------------------------------------\n",
    "\"\"\"\n",
    "This is a loop that takes the NaN values of the dataframe's Gender category and replaces it with a sex corresponding to the\n",
    "CombinedIncome of the applicant.\n",
    "\"\"\" \n",
    "for i,rows in data.loc[data['Gender'].isnull(),:].iterrows():\n",
    "    # Less than the male minimum = female (AKA LHS)\n",
    "    if data.loc[i,'CombinedIncome_log'] < (temp_mean[1] - temp_std[1]): \n",
    "        data['Gender'][i] = 'Female'\n",
    "        \n",
    "    # Greater than the female maximum = male (AKA RHS)\n",
    "    if data.loc[i,'CombinedIncome_log'] > (temp_mean[0] + temp_std[0]):\n",
    "        data['Gender'][i] = 'Male'\n",
    "        \n",
    "    # Less than the female maximum and greater than the male minimum. (AKA the intersection)\n",
    "    if (data.loc[i,'CombinedIncome_log'] < temp_mean[0] + temp_std[0]) & \\\n",
    "       (data.loc[i,'CombinedIncome_log'] > temp_mean[1] - temp_std[1]):        \n",
    "        # 1 for male, 0 for female\n",
    "        test = np.random.randint(2)\n",
    "        if test == 1:\n",
    "            data['Gender'][i] = 'Male'\n",
    "        else:\n",
    "            data['Gender'][i] = 'Female'\n",
    "#----------------------------------------------------------------------------------------------\n",
    "\n",
    "print \"Checking that we filled every missing Gender value:\"\n",
    "print data.apply(lambda x: x.isnull().sum() ,axis = 0)"
   ]
  },
  {
   "cell_type": "code",
   "execution_count": 34,
   "metadata": {
    "collapsed": false,
    "scrolled": true
   },
   "outputs": [
    {
     "name": "stdout",
     "output_type": "stream",
     "text": [
      "----Seems like the data is extreme again. Lets Log our data again. \n",
      "\n"
     ]
    },
    {
     "name": "stderr",
     "output_type": "stream",
     "text": [
      "C:\\Users\\phay\\Anaconda2\\lib\\site-packages\\ipykernel\\__main__.py:21: SettingWithCopyWarning: \n",
      "A value is trying to be set on a copy of a slice from a DataFrame\n",
      "\n",
      "See the caveats in the documentation: http://pandas.pydata.org/pandas-docs/stable/indexing.html#indexing-view-versus-copy\n",
      "C:\\Users\\phay\\Anaconda2\\lib\\site-packages\\ipykernel\\__main__.py:27: SettingWithCopyWarning: \n",
      "A value is trying to be set on a copy of a slice from a DataFrame\n",
      "\n",
      "See the caveats in the documentation: http://pandas.pydata.org/pandas-docs/stable/indexing.html#indexing-view-versus-copy\n"
     ]
    },
    {
     "name": "stdout",
     "output_type": "stream",
     "text": [
      "Checking we filled out the LogLoan and LoanAmount values\n",
      "Gender                 0\n",
      "Married                0\n",
      "Education              0\n",
      "ApplicantIncome        0\n",
      "CoapplicantIncome      0\n",
      "LoanAmount             0\n",
      "Loan_Amount_Term      14\n",
      "Credit_History        50\n",
      "Property_Area          0\n",
      "Loan_Status            0\n",
      "CombinedIncome         0\n",
      "CombinedIncome_log     0\n",
      "LogLoan                0\n",
      "dtype: int64\n"
     ]
    }
   ],
   "source": [
    "\"\"\"\n",
    "3. LoanAmount\n",
    "\"\"\"\n",
    "data['LoanAmount'].hist(bins = 20)\n",
    "plt.show()\n",
    "\n",
    "print \"----Seems like the data is extreme again. Lets Log our data again. \\n\"\n",
    "# A lot better\n",
    "data['LogLoan'] = np.log(data['LoanAmount'])\n",
    "data['LogLoan'].hist(bins = 20)\n",
    "plt.show()\n",
    "\n",
    "temp_mean = data.pivot_table(values = 'LogLoan', index = ['Married','Loan_Status','Gender','Property_Area','Education'])\n",
    "\n",
    "#-----------------------------------------------------------------------------------------------\n",
    "\"\"\"\n",
    "This for loop replaces all the LogLoan    data that is null.\n",
    "\"\"\"\n",
    "for i,row in data.loc[(data['LogLoan'].isnull()),:].iterrows():\n",
    "    ind = tuple([row['Married'],row['Loan_Status'],row['Gender'],row['Property_Area'],row['Education']])\n",
    "    data['LogLoan'][i] = temp_mean.loc[ind]\n",
    "\n",
    "\"\"\"\n",
    "This for loop replaces all the LoanAmount data that is null.\n",
    "\"\"\"\n",
    "for i,row in data.loc[(data['LoanAmount'].isnull()),:].iterrows():\n",
    "    data['LoanAmount'][i] = np.exp(data['LogLoan'][i])\n",
    "\n",
    "# ----------------------------------------------------------------------------------------------\n",
    "\n",
    "print \"Checking we filled out the LogLoan and LoanAmount values\"\n",
    "print data.apply(lambda x: x.isnull().sum() ,axis = 0)"
   ]
  },
  {
   "cell_type": "code",
   "execution_count": 35,
   "metadata": {
    "collapsed": false
   },
   "outputs": [
    {
     "name": "stdout",
     "output_type": "stream",
     "text": [
      "--- By the looks of it, it seems pretty insignificant. Lets replace the rest of the data loan amount terms anyways.\n",
      "\n"
     ]
    },
    {
     "name": "stderr",
     "output_type": "stream",
     "text": [
      "C:\\Users\\phay\\Anaconda2\\lib\\site-packages\\ipykernel\\__main__.py:25: SettingWithCopyWarning: \n",
      "A value is trying to be set on a copy of a slice from a DataFrame\n",
      "\n",
      "See the caveats in the documentation: http://pandas.pydata.org/pandas-docs/stable/indexing.html#indexing-view-versus-copy\n"
     ]
    },
    {
     "name": "stdout",
     "output_type": "stream",
     "text": [
      "Checking we filled out the LogLoan and LoanAmount values\n",
      "Gender                 0\n",
      "Married                0\n",
      "Education              0\n",
      "ApplicantIncome        0\n",
      "CoapplicantIncome      0\n",
      "LoanAmount             0\n",
      "Loan_Amount_Term       0\n",
      "Credit_History        50\n",
      "Property_Area          0\n",
      "Loan_Status            0\n",
      "CombinedIncome         0\n",
      "CombinedIncome_log     0\n",
      "LogLoan                0\n",
      "dtype: int64\n"
     ]
    }
   ],
   "source": [
    "\"\"\"\n",
    "4. Loan_Amount_Term\n",
    "\"\"\"\n",
    "data.boxplot(column = 'LogLoan', by = 'Loan_Amount_Term')\n",
    "plt.show()\n",
    "print \"--- By the looks of it, it seems pretty insignificant. Lets replace the rest of the data loan amount terms anyways.\\n\"\n",
    "\n",
    "#-----------------------------------------------------------------------------------------------\n",
    "\"\"\"\n",
    "This for loop replaces all the Loan_Amount_Term data that is null from indexes:\n",
    "['Married','Gender','Loan_Status','Property_Area','LogLoan']\n",
    "\n",
    "This also averages the Loan_Amount_Term, then rounds to the nearest possible term type:\n",
    "[360, 180, 480, 300, 240, 240, 120, 60, 60, 12]\n",
    "\n",
    "\"\"\"\n",
    "# List of all different Loan_Amount_Terms available\n",
    "term_types = map(int,list(data['Loan_Amount_Term'].value_counts().index))\n",
    "\n",
    "# Replacement of null values in Loan_Amount_Term\n",
    "temp = data.pivot_table(values = \"Loan_Amount_Term\", \\\n",
    "                        index = ['Married','Gender','Loan_Status','Property_Area','LogLoan','Education'])\n",
    "\n",
    "for i,row in data.loc[data['Loan_Amount_Term'].isnull(),:].iterrows():\n",
    "    ind = tuple([row['Married'],row['Gender'],row['Loan_Status'],row['Property_Area'],row['LogLoan'],row['Education']])\n",
    "    data['Loan_Amount_Term'][i] = min(term_types, key = lambda x: abs(x - temp[ind]))  \n",
    "\n",
    "#-----------------------------------------------------------------------------------------------\n",
    "print \"Checking we filled out the LogLoan and LoanAmount values\"\n",
    "print data.apply(lambda x: x.isnull().sum() ,axis = 0)"
   ]
  },
  {
   "cell_type": "code",
   "execution_count": 36,
   "metadata": {
    "collapsed": false
   },
   "outputs": [
    {
     "name": "stderr",
     "output_type": "stream",
     "text": [
      "C:\\Users\\phay\\Anaconda2\\lib\\site-packages\\ipykernel\\__main__.py:8: SettingWithCopyWarning: \n",
      "A value is trying to be set on a copy of a slice from a DataFrame\n",
      "\n",
      "See the caveats in the documentation: http://pandas.pydata.org/pandas-docs/stable/indexing.html#indexing-view-versus-copy\n"
     ]
    },
    {
     "name": "stdout",
     "output_type": "stream",
     "text": [
      "Gender                0\n",
      "Married               0\n",
      "Education             0\n",
      "ApplicantIncome       0\n",
      "CoapplicantIncome     0\n",
      "LoanAmount            0\n",
      "Loan_Amount_Term      0\n",
      "Credit_History        0\n",
      "Property_Area         0\n",
      "Loan_Status           0\n",
      "CombinedIncome        0\n",
      "CombinedIncome_log    0\n",
      "LogLoan               0\n",
      "dtype: int64\n"
     ]
    }
   ],
   "source": [
    "\"\"\"\n",
    "5. Credit_History\n",
    "\"\"\"\n",
    "temp = data.pivot_table(values = 'Credit_History', \\\n",
    "                        index = ['Married','Gender','Loan_Status','Property_Area','LogLoan','Education'])\n",
    "\n",
    "for i,row in data.loc[data['Credit_History'].isnull(),:].iterrows():\n",
    "    ind = tuple([row['Married'],row['Gender'],row['Loan_Status'],row['Property_Area'],row['LogLoan'],row['Education']])\n",
    "    data['Credit_History'][i] = min([1,0], key = lambda x: abs(x - temp[ind]))  \n",
    "\n",
    "print data.apply(lambda x: x.isnull().sum() ,axis = 0)"
   ]
  },
  {
   "cell_type": "code",
   "execution_count": 37,
   "metadata": {
    "collapsed": false
   },
   "outputs": [
    {
     "data": {
      "text/plain": [
       "'\\nData Collection/Cleaning/Munging Finished\\n'"
      ]
     },
     "execution_count": 37,
     "metadata": {},
     "output_type": "execute_result"
    }
   ],
   "source": [
    "\"\"\"\n",
    "Data Collection/Cleaning/Munging Finished\n",
    "\"\"\""
   ]
  },
  {
   "cell_type": "code",
   "execution_count": 38,
   "metadata": {
    "collapsed": false
   },
   "outputs": [
    {
     "name": "stdout",
     "output_type": "stream",
     "text": [
      "Graduate, Male, Married, Has a Credit History, and lives in a Suburban place seems to peak with little amount N for loan status. The ratio between Y and N for those values are higher than the rest of the table and so its the most likely. I would show the ratio, but some values are 0. That would make the ratio undefined.\n"
     ]
    }
   ],
   "source": [
    "\"\"\"\n",
    "Here's a visual as to what seems to be a good chance at a loan.\n",
    "\"\"\"\n",
    "\n",
    "fig, axis1 = plt.subplots(figsize = (15,5))\n",
    "temp_plot = pd.crosstab([data['Education'],data['Married'],data['Gender'],data['Credit_History'],data['Property_Area']], \\\n",
    "                         data['Loan_Status'])\n",
    "temp_plot.plot(kind = 'bar', ax = axis1)\n",
    "plt.show()\n",
    "\n",
    "print \"Graduate, Male, Married, Has a Credit History, and lives in a Suburban place seems to peak with little amount N for \\\n",
    "loan status. The ratio between Y and N for those values are higher than the rest of the table and so its the most likely. \\\n",
    "I would show the ratio, but some values are 0. That would make the ratio undefined.\""
   ]
  },
  {
   "cell_type": "code",
   "execution_count": 39,
   "metadata": {
    "collapsed": false
   },
   "outputs": [
    {
     "name": "stdout",
     "output_type": "stream",
     "text": [
      "\n"
     ]
    }
   ],
   "source": [
    "# Preprocess the data to be represented in numeric (for correlation and machine learning)\n",
    "from sklearn.preprocessing import LabelEncoder\n",
    "\n",
    "var_list = ['Married','Gender','Loan_Status','Property_Area','Education']\n",
    "LE = LabelEncoder()\n",
    "\n",
    "for var in var_list:\n",
    "    data[var] = LE.fit_transform(data[var])\n",
    "    \n",
    "\"\"\"\n",
    "Married:\n",
    "0 - No\n",
    "1 - Yes\n",
    "\n",
    "Gender:\n",
    "0 - Female\n",
    "1 - Male\n",
    "\n",
    "Education:\n",
    "0 - Graduate\n",
    "1 - Not Graduate\n",
    "\n",
    "Loan_Status:\n",
    "0 - N\n",
    "1 - Y\n",
    "\n",
    "Property_Area:\n",
    "0 - Rural\n",
    "1 - Semiurban\n",
    "2 - Urban\n",
    "\n",
    "\"\"\"\n",
    "print "
   ]
  },
  {
   "cell_type": "code",
   "execution_count": 40,
   "metadata": {
    "collapsed": false
   },
   "outputs": [
    {
     "data": {
      "text/plain": [
       "Gender              0.021248\n",
       "Married             0.091478\n",
       "Education          -0.085884\n",
       "Loan_Amount_Term   -0.022549\n",
       "Credit_History      0.540556\n",
       "Property_Area       0.032112\n",
       "Loan_Status         1.000000\n",
       "Name: Loan_Status, dtype: float64"
      ]
     },
     "execution_count": 40,
     "metadata": {},
     "output_type": "execute_result"
    }
   ],
   "source": [
    "#compute correlations (obviously credit_history has the highest.)\n",
    "data2 = data.drop(['ApplicantIncome','LoanAmount','CoapplicantIncome','CombinedIncome','CombinedIncome_log','LogLoan'],axis = 1)\n",
    "data2.corr()['Loan_Status']"
   ]
  },
  {
   "cell_type": "markdown",
   "metadata": {},
   "source": [
    " "
   ]
  },
  {
   "cell_type": "markdown",
   "metadata": {
    "collapsed": true
   },
   "source": [
    " # Using Machine Learning Techniques for Predictive Model\n"
   ]
  },
  {
   "cell_type": "code",
   "execution_count": 41,
   "metadata": {
    "collapsed": true
   },
   "outputs": [],
   "source": [
    "# machine learning\n",
    "from sklearn.linear_model import LogisticRegression\n",
    "from sklearn.ensemble import RandomForestClassifier\n",
    "from sklearn.cross_validation import KFold\n",
    "from sklearn.tree import DecisionTreeClassifier, export_graphviz\n",
    "\n",
    "from sklearn import metrics"
   ]
  },
  {
   "cell_type": "code",
   "execution_count": 42,
   "metadata": {
    "collapsed": true
   },
   "outputs": [],
   "source": [
    "def classifying_model(model,data,predictors,outcome):\n",
    "    # Fitting model\n",
    "    model.fit(data[predictors],data[outcome])\n",
    "    # Make predictions on the training set we have\n",
    "    predictions = model.predict(data[predictors])\n",
    "    # Want to know accuracy\n",
    "    accuracy = metrics.accuracy_score(predictions,data[outcome])\n",
    "    print \"Accuracy: %s\" % \"{0:.3f}\".format(accuracy)\n",
    "    \n",
    "    \n",
    "    kf = KFold(data.shape[0], n_folds = 5)\n",
    "    error = []\n",
    "    for train,test in kf:\n",
    "        # Filtering training set\n",
    "        train_predictors = (data[predictors].iloc[train,:])\n",
    "        # The target we're using to train the algorithm\n",
    "        train_target = data[outcome].iloc[train]\n",
    "        # Training the algorithm using the predictors and target\n",
    "        model.fit(train_predictors, train_target)\n",
    "        # Record Errors\n",
    "        error.append(model.score(data[predictors].iloc[test,:],data[outcome].iloc[test]))\n",
    "    \n",
    "    print \"Cross-Validation Score: %s\" % \"{0:.3f}\".format(np.mean(error))\n",
    "    # Fit it again so we can refer it outside the function\n",
    "    model.fit(data[predictors],data[outcome])"
   ]
  },
  {
   "cell_type": "code",
   "execution_count": 43,
   "metadata": {
    "collapsed": false
   },
   "outputs": [
    {
     "name": "stdout",
     "output_type": "stream",
     "text": [
      "Credit_History:\n",
      "Accuracy: 0.809\n",
      "Cross-Validation Score: 0.809\n",
      "\n",
      "Gender:\n",
      "Accuracy: 0.687\n",
      "Cross-Validation Score: 0.687\n",
      "\n",
      "Education:\n",
      "Accuracy: 0.687\n",
      "Cross-Validation Score: 0.687\n",
      "\n",
      "Property Area:\n",
      "Accuracy: 0.687\n",
      "Cross-Validation Score: 0.687\n",
      "\n",
      "Property Area, Education, Gender:\n",
      "Accuracy: 0.687\n",
      "Cross-Validation Score: 0.687\n",
      "\n",
      "Property Area, Education, Gender, Credit History:\n",
      "Accuracy: 0.809\n",
      "Cross-Validation Score: 0.809\n",
      "\n",
      "\n",
      "--- You expect the more data we feed the higher the accuracy. However, it isn't affected by less important variables like Property Area, Education, Gender. Credit History seems to be the biggest determining factor.\n"
     ]
    }
   ],
   "source": [
    "\"\"\"\n",
    "Logistic Regression\n",
    "\"\"\" \n",
    "#-------------------------------------------------------------------------------------\n",
    "# We want to know if a person would be approved/rejected for a loan based on credit history\n",
    "outcome_var = 'Loan_Status'\n",
    "# The model we want to use\n",
    "model = LogisticRegression()\n",
    "# The variable we want to predict with\n",
    "predictor_var = ['Credit_History']\n",
    "\n",
    "print \"Credit_History:\"\n",
    "classifying_model(model,data,predictor_var,outcome_var)\n",
    "\n",
    "#-------------------------------------------------------------------------------------\n",
    "# We want to know if a person would be approved/rejected for a loan based on Gender\n",
    "predictor_var = ['Gender']\n",
    "\n",
    "print \"\\nGender:\"\n",
    "classifying_model(model,data,predictor_var,outcome_var)\n",
    "#------------------------------------------------------\n",
    "# We want to know if a person would be approved/rejected for a loan based on Education\n",
    "predictor_var = ['Education']\n",
    "\n",
    "print \"\\nEducation:\"\n",
    "classifying_model(model,data,predictor_var,outcome_var)\n",
    "#------------------------------------------------------\n",
    "# We want to know if a person would be approved/rejected for a loan based on Property Area\n",
    "predictor_var = ['Property_Area']\n",
    "\n",
    "print \"\\nProperty Area:\"\n",
    "classifying_model(model,data,predictor_var,outcome_var)\n",
    "#------------------------------------------------------\n",
    "#Putting together several predictor variables\n",
    "predictor_var = ['Property_Area','Education','Gender']\n",
    "print \"\\nProperty Area, Education, Gender:\"\n",
    "classifying_model(model,data,predictor_var,outcome_var)\n",
    "\n",
    "predictor_var = ['Property_Area','Education','Gender','Credit_History']\n",
    "print \"\\nProperty Area, Education, Gender, Credit History:\"\n",
    "classifying_model(model,data,predictor_var,outcome_var)\n",
    "\n",
    "#-------------------------------------------------------------------------------------\n",
    "\n",
    "print \"\\n\\n--- You expect the more data we feed the higher the accuracy. However, it isn't affected by less important \\\n",
    "variables like Property Area, Education, Gender. \\\n",
    "Credit History seems to be the biggest determining factor.\""
   ]
  },
  {
   "cell_type": "code",
   "execution_count": 20,
   "metadata": {
    "collapsed": false
   },
   "outputs": [
    {
     "name": "stdout",
     "output_type": "stream",
     "text": [
      "Accuracy: 0.809\n",
      "Cross-Validation Score: 0.809\n",
      "\n",
      "Credit History, LogLoan\n",
      "Accuracy: 0.881\n",
      "Cross-Validation Score: 0.697\n",
      "\n",
      "Credit History, LogLoan, Loan Amount Term\n",
      "Accuracy: 0.902\n",
      "Cross-Validation Score: 0.690\n",
      "\n",
      "Credit History, LogLoan, Loan Amount Term, Married, Gender, Education\n",
      "Accuracy: 0.961\n",
      "Cross-Validation Score: 0.694\n",
      "\n",
      "---As expected the accuracy went up as we added more predictor variables, but Cross-Validation Score went down. This is usually due to the model overfitting the data. This is better than Logistic though.\n"
     ]
    }
   ],
   "source": [
    "\"\"\"\n",
    "Decision Tree\n",
    "\"\"\"\n",
    "outcome_var = 'Loan_Status'\n",
    "model = DecisionTreeClassifier()\n",
    "#-------------------------------------------------------------------------------------\n",
    "# Should give us a similar result to logistic regression\n",
    "predictor_var = ['Credit_History']\n",
    "classifying_model(model,data,predictor_var,outcome_var)\n",
    "\n",
    "print \"\\nCredit History, LogLoan\"\n",
    "predictor_var = ['Credit_History','LogLoan']\n",
    "classifying_model(model,data,predictor_var,outcome_var)\n",
    "\n",
    "print \"\\nCredit History, LogLoan, Loan Amount Term\"\n",
    "predictor_var = ['Credit_History','Loan_Amount_Term','LogLoan']\n",
    "classifying_model(model,data,predictor_var,outcome_var)\n",
    "\n",
    "print \"\\nCredit History, LogLoan, Loan Amount Term, Married, Gender, Education\"\n",
    "predictor_var = ['Credit_History','Married','Gender','LogLoan','Education','Loan_Amount_Term']\n",
    "classifying_model(model,data,predictor_var,outcome_var)\n",
    "\n",
    "print \"\\n---As expected the accuracy went up as we added more predictor variables, but Cross-Validation Score went down. \\\n",
    "This is usually due to the model overfitting the data. \\\n",
    "This is better than Logistic though.\""
   ]
  },
  {
   "cell_type": "code",
   "execution_count": 21,
   "metadata": {
    "collapsed": false
   },
   "outputs": [
    {
     "name": "stdout",
     "output_type": "stream",
     "text": [
      "Accuracy: 0.809\n",
      "Cross-Validation Score: 0.809\n",
      "\n",
      "Credit History, LogLoan\n",
      "Accuracy: 0.881\n",
      "Cross-Validation Score: 0.739\n",
      "\n",
      "Credit History, LogLoan, Loan Amount Term\n",
      "Accuracy: 0.902\n",
      "Cross-Validation Score: 0.725\n",
      "\n",
      "Credit History, LogLoan, Loan Amount Term, Married, Gender, Education\n",
      "Accuracy: 1.000\n",
      "Cross-Validation Score: 0.783\n",
      "\n",
      "---We reaches 100% accuracy but similarly, we overfitted the data. Lets select the more important variables to use.\n"
     ]
    }
   ],
   "source": [
    "\"\"\"\n",
    "Random Forest\n",
    "\"\"\"\n",
    "outcome_var = 'Loan_Status'\n",
    "model = RandomForestClassifier(n_estimators = 100)\n",
    "#-------------------------------------------------------------------------------------\n",
    "# Should give us a similar result to logistic regression\n",
    "predictor_var = ['Credit_History']\n",
    "classifying_model(model,data,predictor_var,outcome_var)\n",
    "\n",
    "print \"\\nCredit History, LogLoan\"\n",
    "predictor_var = ['Credit_History','LogLoan']\n",
    "classifying_model(model,data,predictor_var,outcome_var)\n",
    "\n",
    "print \"\\nCredit History, LogLoan, Loan Amount Term\"\n",
    "predictor_var = ['Credit_History','Loan_Amount_Term','LogLoan']\n",
    "classifying_model(model,data,predictor_var,outcome_var)\n",
    "\n",
    "print \"\\nCredit History, LogLoan, Loan Amount Term, Married, Gender, Education\"\n",
    "predictor_var = ['Credit_History','Married','Gender','LogLoan','Education','Loan_Amount_Term','CombinedIncome_log']\n",
    "classifying_model(model,data,predictor_var,outcome_var)\n",
    "\n",
    "print \"\\n---We reaches 100% accuracy but similarly, we overfitted the data. Lets select the more important variables to use.\""
   ]
  },
  {
   "cell_type": "code",
   "execution_count": 22,
   "metadata": {
    "collapsed": false
   },
   "outputs": [
    {
     "name": "stdout",
     "output_type": "stream",
     "text": [
      "Gender                0.014331\n",
      "Education             0.019415\n",
      "Married               0.021081\n",
      "Loan_Amount_Term      0.047338\n",
      "Credit_History        0.273906\n",
      "LogLoan               0.286799\n",
      "CombinedIncome_log    0.337130\n",
      "dtype: float64\n",
      "\n",
      "Lets take the first 3 best ones: Credit History, CombinedIncome_log, LogLoan\n",
      "Accuracy: 1.000\n",
      "Cross-Validation Score: 0.775\n",
      "\n",
      "Change Random Forest Parameters to get a better Cross-Validation score\n",
      "Accuracy: 0.824\n",
      "Cross-Validation Score: 0.798\n"
     ]
    }
   ],
   "source": [
    "\"\"\"\n",
    "Random Forest CONT\n",
    "\"\"\"\n",
    "important_vars = pd.Series(model.feature_importances_, index = predictor_var).sort_values()\n",
    "print important_vars\n",
    "\n",
    "print \"\\nLets take the first 3 best ones: Credit History, CombinedIncome_log, LogLoan\"\n",
    "predictor_var = ['Credit_History','CombinedIncome_log','LogLoan']\n",
    "classifying_model(model,data,predictor_var,outcome_var)\n",
    "\n",
    "print \"\\nChange Random Forest Parameters to get a better Cross-Validation score\"\n",
    "model = RandomForestClassifier(n_estimators = 25, min_samples_split = 25, max_depth = 7, max_features = 1)\n",
    "predictor_var = ['Credit_History','CombinedIncome_log','LogLoan']\n",
    "classifying_model(model,data,predictor_var,outcome_var)"
   ]
  },
  {
   "cell_type": "code",
   "execution_count": 23,
   "metadata": {
    "collapsed": false
   },
   "outputs": [
    {
     "data": {
      "text/plain": [
       "'\\nNotice: Cross-Validation score went up and so our model is definitely more general with those parameters. \\nYou can always feature engineer to better suit the model as well.\\n'"
      ]
     },
     "execution_count": 23,
     "metadata": {},
     "output_type": "execute_result"
    }
   ],
   "source": [
    "\"\"\"\n",
    "Notice: Cross-Validation score went up and so our model is definitely more general with those parameters. \n",
    "You can always feature engineer to better suit the model as well.\n",
    "\"\"\""
   ]
  },
  {
   "cell_type": "code",
   "execution_count": 24,
   "metadata": {
    "collapsed": false
   },
   "outputs": [
    {
     "data": {
      "text/plain": [
       "' (left out to let you figure your own hackathon project out haha.)\\nConclusion: \\n\\n\\nHow to better the model:\\n\\n\\n'"
      ]
     },
     "execution_count": 24,
     "metadata": {},
     "output_type": "execute_result"
    }
   ],
   "source": [
    "\"\"\" (left out to let you figure your own hackathon project out haha.)\n",
    "Conclusion: \n",
    "\n",
    "\n",
    "How to better the model:\n",
    "\n",
    "\n",
    "\"\"\""
   ]
  }
 ],
 "metadata": {
  "anaconda-cloud": {},
  "kernelspec": {
   "display_name": "Python [Root]",
   "language": "python",
   "name": "Python [Root]"
  },
  "language_info": {
   "codemirror_mode": {
    "name": "ipython",
    "version": 2
   },
   "file_extension": ".py",
   "mimetype": "text/x-python",
   "name": "python",
   "nbconvert_exporter": "python",
   "pygments_lexer": "ipython2",
   "version": "2.7.12"
  }
 },
 "nbformat": 4,
 "nbformat_minor": 1
}
