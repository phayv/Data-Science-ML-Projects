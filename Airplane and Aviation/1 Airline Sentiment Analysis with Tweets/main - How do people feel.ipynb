{
 "cells": [
  {
   "cell_type": "markdown",
   "metadata": {},
   "source": [
    "# Data Analysis"
   ]
  },
  {
   "cell_type": "code",
   "execution_count": 116,
   "metadata": {
    "collapsed": false
   },
   "outputs": [],
   "source": [
    "# Libraries we will need\n",
    "library(ggplot2)\n",
    "library(gridExtra)\n",
    "library(dplyr)\n",
    "library(tm) # Text Mining Package: also has NLP and SLAM\n",
    "library(SnowballC)\n",
    "library(wordcloud)"
   ]
  },
  {
   "cell_type": "code",
   "execution_count": 117,
   "metadata": {
    "collapsed": false
   },
   "outputs": [
    {
     "name": "stdout",
     "output_type": "stream",
     "text": [
      "Number of Entries:  14640"
     ]
    }
   ],
   "source": [
    "# Inputting Data\n",
    "data = read.csv('data/Tweets.csv')\n",
    "cat('Number of Entries: ',dim(data)[1])"
   ]
  },
  {
   "cell_type": "code",
   "execution_count": 118,
   "metadata": {
    "collapsed": false
   },
   "outputs": [
    {
     "name": "stdout",
     "output_type": "stream",
     "text": [
      "'data.frame':\t14640 obs. of  15 variables:\n",
      " $ tweet_id                    : num  5.7e+17 5.7e+17 5.7e+17 5.7e+17 5.7e+17 ...\n",
      " $ airline_sentiment           : Factor w/ 3 levels \"negative\",\"neutral\",..: 2 3 2 1 1 1 3 2 3 3 ...\n",
      " $ airline_sentiment_confidence: num  1 0.349 0.684 1 1 ...\n",
      " $ negativereason              : Factor w/ 11 levels \"\",\"Bad Flight\",..: 1 1 1 2 3 3 1 1 1 1 ...\n",
      " $ negativereason_confidence   : num  NA 0 NA 0.703 1 ...\n",
      " $ airline                     : Factor w/ 6 levels \"American\",\"Delta\",..: 6 6 6 6 6 6 6 6 6 6 ...\n",
      " $ airline_sentiment_gold      : Factor w/ 4 levels \"\",\"negative\",..: 1 1 1 1 1 1 1 1 1 1 ...\n",
      " $ name                        : Factor w/ 7701 levels \"___the___\",\"__betrayal\",..: 1073 3477 7666 3477 3477 3477 1392 5658 1874 7665 ...\n",
      " $ negativereason_gold         : Factor w/ 14 levels \"\",\"Bad Flight\",..: 1 1 1 1 1 1 1 1 1 1 ...\n",
      " $ retweet_count               : int  0 0 0 0 0 0 0 0 0 0 ...\n",
      " $ text                        : Factor w/ 14427 levels \"\\\"LOL you guys are so on it\\\" - me, had this been 4 months ago...â@JetBlue: Our fleet's on fleek. http://t.co/LYcARlTFHlâ\",..: 14005 13912 13790 13844 13648 13926 14038 13917 14004 13846 ...\n",
      " $ tweet_coord                 : Factor w/ 833 levels \"\",\"[-33.87144962, 151.20821275]\",..: 1 1 1 1 1 1 1 1 1 1 ...\n",
      " $ tweet_created               : Factor w/ 14247 levels \"2015-02-16 23:36:05 -0800\",..: 14212 14170 14169 14168 14166 14165 14164 14160 14158 14106 ...\n",
      " $ tweet_location              : Factor w/ 3082 levels \"\",\"'Greatness has no limits'\",..: 1 1 1465 1 1 1 2407 1529 2389 1529 ...\n",
      " $ user_timezone               : Factor w/ 86 levels \"\",\"Abu Dhabi\",..: 32 64 29 64 64 64 64 64 64 32 ...\n"
     ]
    }
   ],
   "source": [
    "# Lets look at the info\n",
    "str(data)"
   ]
  },
  {
   "cell_type": "markdown",
   "metadata": {},
   "source": [
    "# Tweets per Airline"
   ]
  },
  {
   "cell_type": "code",
   "execution_count": 119,
   "metadata": {
    "collapsed": false
   },
   "outputs": [
    {
     "data": {
      "text/plain": [
       "\n",
       "      American          Delta      Southwest         United     US Airways \n",
       "    0.18845628     0.15177596     0.16530055     0.26106557     0.19897541 \n",
       "Virgin America \n",
       "    0.03442623 "
      ]
     },
     "metadata": {},
     "output_type": "display_data"
    }
   ],
   "source": [
    "prop.table(table(data$airline))"
   ]
  },
  {
   "cell_type": "code",
   "execution_count": 120,
   "metadata": {
    "collapsed": false
   },
   "outputs": [
    {
     "data": {
      "text/html": [
       "<table>\n",
       "<thead><tr><th scope=col>airline</th><th scope=col>Frequency</th></tr></thead>\n",
       "<tbody>\n",
       "\t<tr><td>American      </td><td>0.18845628    </td></tr>\n",
       "\t<tr><td>Delta         </td><td>0.15177596    </td></tr>\n",
       "\t<tr><td>Southwest     </td><td>0.16530055    </td></tr>\n",
       "\t<tr><td>United        </td><td>0.26106557    </td></tr>\n",
       "\t<tr><td>US Airways    </td><td>0.19897541    </td></tr>\n",
       "\t<tr><td>Virgin America</td><td>0.03442623    </td></tr>\n",
       "</tbody>\n",
       "</table>\n"
      ],
      "text/latex": [
       "\\begin{tabular}{r|ll}\n",
       " airline & Frequency\\\\\n",
       "\\hline\n",
       "\t American       & 0.18845628    \\\\\n",
       "\t Delta          & 0.15177596    \\\\\n",
       "\t Southwest      & 0.16530055    \\\\\n",
       "\t United         & 0.26106557    \\\\\n",
       "\t US Airways     & 0.19897541    \\\\\n",
       "\t Virgin America & 0.03442623    \\\\\n",
       "\\end{tabular}\n"
      ],
      "text/plain": [
       "  airline        Frequency \n",
       "1 American       0.18845628\n",
       "2 Delta          0.15177596\n",
       "3 Southwest      0.16530055\n",
       "4 United         0.26106557\n",
       "5 US Airways     0.19897541\n",
       "6 Virgin America 0.03442623"
      ]
     },
     "metadata": {},
     "output_type": "display_data"
    }
   ],
   "source": [
    "# Data to plot\n",
    "tweet_per_airline = as.data.frame(prop.table(table(data$airline)))\n",
    "colnames(tweet_per_airline) = c('airline', 'Frequency')\n",
    "tweet_per_airline"
   ]
  },
  {
   "cell_type": "code",
   "execution_count": 121,
   "metadata": {
    "collapsed": false
   },
   "outputs": [
    {
     "data": {},
     "metadata": {},
     "output_type": "display_data"
    },
    {
     "data": {
      "image/png": "[encoded data removed]",
      "text/plain": [
       "plot without title"
      ]
     },
     "metadata": {},
     "output_type": "display_data"
    }
   ],
   "source": [
    "# Bar Data\n",
    "ggbar = ggplot(tweet_per_airline, aes(x = airline, \n",
    "                              y = Frequency, \n",
    "                              fill = airline))\n",
    "\n",
    "# Bar Plot\n",
    "(ggbar + \n",
    "geom_bar(stat = 'identity') + \n",
    "scale_fill_brewer() + \n",
    "ggtitle('Percentage of Tweets per Airline') +\n",
    "guides(fill = FALSE) + \n",
    "theme(plot.title = element_text(size = 14, face = 'bold', vjust = 1)))"
   ]
  },
  {
   "cell_type": "markdown",
   "metadata": {},
   "source": [
    "## Conclusion\n",
    "Most of the tweets are directed toward United, US Airways and American. Southwest and Delta are not too far behind, so lets look at the Proportions between Good, Bad and Neutral before looking into seperate Airlines."
   ]
  },
  {
   "cell_type": "markdown",
   "metadata": {},
   "source": [
    "# Proportion Between Good, Bad, and Neutral"
   ]
  },
  {
   "cell_type": "code",
   "execution_count": 122,
   "metadata": {
    "collapsed": false
   },
   "outputs": [
    {
     "data": {
      "text/plain": [
       "\n",
       " negative   neutral  positive \n",
       "0.6269126 0.2116803 0.1614071 "
      ]
     },
     "metadata": {},
     "output_type": "display_data"
    }
   ],
   "source": [
    "# make a table out of the sentiment from data\n",
    "prop.table(table(data$airline_sentiment))"
   ]
  },
  {
   "cell_type": "code",
   "execution_count": 123,
   "metadata": {
    "collapsed": false
   },
   "outputs": [
    {
     "data": {
      "image/png": "[encoded data removed]",
      "text/plain": [
       "plot without title"
      ]
     },
     "metadata": {},
     "output_type": "display_data"
    }
   ],
   "source": [
    "# Data to plot\n",
    "sent_data = as.data.frame(prop.table(table(data$airline_sentiment)))\n",
    "colnames(sent_data) = c('Sentiment', 'Frequency')\n",
    "\n",
    "# Make figure (Note: Not Really Necessary)\n",
    "blank_figure = theme_minimal() + \n",
    "               theme(axis.title.x = element_blank(),\n",
    "                     axis.title.y = element_blank(),\n",
    "                     panel.border = element_blank(),\n",
    "                     axis.ticks = element_blank(),\n",
    "                     plot.title = element_text(size = 14, face = 'bold'))\n",
    "\n",
    "# Make the bar and pie\n",
    "ggbar = ggplot(sent_data, aes(x = Sentiment, y = Frequency, fill = Sentiment))\n",
    "ggpie = ggplot(sent_data, aes(x = ''       , y = Frequency, fill = Sentiment))\n",
    "\n",
    "# Plot Bar Graph\n",
    "plot1 = ggbar + \n",
    "        geom_bar(stat = 'identity') + \n",
    "        ggtitle('Sentiment Frequency of All Tweets') +\n",
    "        theme(plot.title   = element_text(size = 14, face = 'bold'),\n",
    "              axis.title.y = element_text(vjust = 2),\n",
    "              axis.title.x = element_text(vjust = -1))\n",
    "\n",
    "# Plot Pie Chart\n",
    "plot2 = ggpie + \n",
    "        geom_bar(stat = 'identity') + \n",
    "        coord_polar(\"y\", start = 0) + \n",
    "        blank_figure +\n",
    "        theme(axis.title.x = element_blank()) + \n",
    "        geom_text(aes(y = Frequency/3 + c(0, cumsum(Frequency)[-length(Frequency)]),\n",
    "                      label = round(Frequency, 2)), \n",
    "                      size = 4) + \n",
    "        ggtitle('Overall Sentiment')\n",
    "\n",
    "grid.arrange(plot1, plot2, ncol = 1, nrow = 2)"
   ]
  },
  {
   "cell_type": "markdown",
   "metadata": {},
   "source": [
    "## Conclusion:\n",
    "This might seem bad, but this is only for the people who had something to say.  \n",
    "If you are like me, I usually have an okay experience when I fly. This doesn't lead me to comment or tweet about it. Therefore, I'd say there are a lot more Neutrals than what is shown. If this represented everyone who flew, I'd say neutral and negative would switch proportions. \n",
    "\n",
    "This is from 14640 tweets only. This doesn't represent the large amount of people who fly. However, despite there being more neutrals who don't say anything, it is something for airlines to take into consideration because this is what is shown to the public. "
   ]
  },
  {
   "cell_type": "markdown",
   "metadata": {
    "collapsed": true
   },
   "source": [
    "# Sentiment Grouped by Airlines"
   ]
  },
  {
   "cell_type": "code",
   "execution_count": 124,
   "metadata": {
    "collapsed": false
   },
   "outputs": [
    {
     "data": {
      "text/plain": [
       "          \n",
       "             American      Delta  Southwest     United US Airways\n",
       "  negative 0.13387978 0.06523224 0.08101093 0.17984973 0.15457650\n",
       "  neutral  0.03162568 0.04938525 0.04535519 0.04760929 0.02602459\n",
       "  positive 0.02295082 0.03715847 0.03893443 0.03360656 0.01837432\n",
       "          \n",
       "           Virgin America\n",
       "  negative     0.01236339\n",
       "  neutral      0.01168033\n",
       "  positive     0.01038251"
      ]
     },
     "metadata": {},
     "output_type": "display_data"
    }
   ],
   "source": [
    "prop.table(table(data$airline_sentiment, data$airline))"
   ]
  },
  {
   "cell_type": "code",
   "execution_count": 125,
   "metadata": {
    "collapsed": false
   },
   "outputs": [
    {
     "data": {
      "image/png": "[encoded data removed]",
      "text/plain": [
       "plot without title"
      ]
     },
     "metadata": {},
     "output_type": "display_data"
    }
   ],
   "source": [
    "# Data to Plot\n",
    "airline_sentiment = as.data.frame(prop.table(table(data$airline_sentiment, data$airline)))\n",
    "colnames(airline_sentiment) = c('Sentiment', 'Airline', 'Percentage_Tweets')\n",
    "\n",
    "# Bar Data\n",
    "ggbar = ggplot(airline_sentiment, \n",
    "              aes(x = Airline, \n",
    "                  y = Percentage_Tweets, \n",
    "                  fill = Sentiment)) + \n",
    "                  ggtitle('Proportion of Tweets per Airline') +\n",
    "                  theme(plot.title = element_text(size = 14, face = 'bold', vjust = 1), \n",
    "                        axis.title.x = element_text(vjust = -1))\n",
    "\n",
    "# Bar Plots\n",
    "plot1 = gbar + geom_bar(stat = 'identity')\n",
    "plot2 = gbar + geom_bar(stat = 'identity', position = 'fill')\n",
    "\n",
    "grid.arrange(plot1, plot2, ncol = 1, nrow = 2)"
   ]
  },
  {
   "cell_type": "markdown",
   "metadata": {
    "collapsed": true
   },
   "source": [
    "## Conclusion:\n",
    "The first plot is using the proportion of tweets for each of the respective airlines and their fill of Sentiment.  \n",
    "The second plot is a lot more useful for each individual airline. United, US Airways, and American seem to be getting the most tweets (seen from plot 1) and it also seems they get the most negative response (seen from plot 2).\n",
    "\n",
    "Again this could be for reasons like they have more people fly with them, and the more people the more likelihood of bad reviews. Maybe there is something the majority of customers don't like about the flights. Whatever it is, we will investigate this further by seeing what It is about these airlines that made customers give bad reviews."
   ]
  },
  {
   "cell_type": "markdown",
   "metadata": {
    "collapsed": true
   },
   "source": [
    "# Sentiment Investigations"
   ]
  },
  {
   "cell_type": "code",
   "execution_count": 126,
   "metadata": {
    "collapsed": false
   },
   "outputs": [
    {
     "data": {
      "text/html": [
       "<table>\n",
       "<thead><tr><th></th><th scope=col>Reason</th><th scope=col>Frequency</th></tr></thead>\n",
       "<tbody>\n",
       "\t<tr><th scope=row>2</th><td>Bad Flight                 </td><td>0.039617486                </td></tr>\n",
       "\t<tr><th scope=row>3</th><td>Can't Tell                 </td><td>0.081284153                </td></tr>\n",
       "\t<tr><th scope=row>4</th><td>Cancelled Flight           </td><td>0.057855191                </td></tr>\n",
       "\t<tr><th scope=row>5</th><td>Customer Service Issue     </td><td>0.198770492                </td></tr>\n",
       "\t<tr><th scope=row>6</th><td>Damaged Luggage            </td><td>0.005054645                </td></tr>\n",
       "\t<tr><th scope=row>7</th><td>Flight Attendant Complaints</td><td>0.032855191                </td></tr>\n",
       "\t<tr><th scope=row>8</th><td>Flight Booking Problems    </td><td>0.036133880                </td></tr>\n",
       "\t<tr><th scope=row>9</th><td>Late Flight                </td><td>0.113729508                </td></tr>\n",
       "\t<tr><th scope=row>10</th><td>longlines                  </td><td>0.012158470                </td></tr>\n",
       "\t<tr><th scope=row>11</th><td>Lost Luggage               </td><td>0.049453552                </td></tr>\n",
       "</tbody>\n",
       "</table>\n"
      ],
      "text/latex": [
       "\\begin{tabular}{r|ll}\n",
       "  & Reason & Frequency\\\\\n",
       "\\hline\n",
       "\t2 & Bad Flight                  & 0.039617486                \\\\\n",
       "\t3 & Can't Tell                  & 0.081284153                \\\\\n",
       "\t4 & Cancelled Flight            & 0.057855191                \\\\\n",
       "\t5 & Customer Service Issue      & 0.198770492                \\\\\n",
       "\t6 & Damaged Luggage             & 0.005054645                \\\\\n",
       "\t7 & Flight Attendant Complaints & 0.032855191                \\\\\n",
       "\t8 & Flight Booking Problems     & 0.036133880                \\\\\n",
       "\t9 & Late Flight                 & 0.113729508                \\\\\n",
       "\t10 & longlines                   & 0.012158470                \\\\\n",
       "\t11 & Lost Luggage                & 0.049453552                \\\\\n",
       "\\end{tabular}\n"
      ],
      "text/plain": [
       "   Reason                      Frequency  \n",
       "2  Bad Flight                  0.039617486\n",
       "3  Can't Tell                  0.081284153\n",
       "4  Cancelled Flight            0.057855191\n",
       "5  Customer Service Issue      0.198770492\n",
       "6  Damaged Luggage             0.005054645\n",
       "7  Flight Attendant Complaints 0.032855191\n",
       "8  Flight Booking Problems     0.036133880\n",
       "9  Late Flight                 0.113729508\n",
       "10 longlines                   0.012158470\n",
       "11 Lost Luggage                0.049453552"
      ]
     },
     "metadata": {},
     "output_type": "display_data"
    }
   ],
   "source": [
    "# Data for Plot\n",
    "negative_reasons = as.data.frame(prop.table(table(data$negativereason)))\n",
    "colnames(negative_reasons) = c('Reason', 'Frequency')\n",
    "negative_reasons = negative_reasons[-1, ] # remove first raw as it has no reason specified\n",
    "negative_reasons"
   ]
  },
  {
   "cell_type": "code",
   "execution_count": 127,
   "metadata": {
    "collapsed": true
   },
   "outputs": [],
   "source": [
    "# Grouping\n",
    "American = subset(data, airline == 'American')\n",
    "USAirways = subset(data, airline == 'US Airways')\n",
    "Delta = subset(data, airline == 'Delta')\n",
    "Southwest = subset(data, airline = 'Southwest')\n",
    "Virgin = subset(data, airline = 'Southwest')\n",
    "United = subset(data, airline = 'United')"
   ]
  },
  {
   "cell_type": "code",
   "execution_count": 128,
   "metadata": {
    "collapsed": false,
    "scrolled": false
   },
   "outputs": [
    {
     "data": {
      "image/png": "[encoded data removed]",
      "text/plain": [
       "plot without title"
      ]
     },
     "metadata": {},
     "output_type": "display_data"
    },
    {
     "data": {
      "image/png": "[encoded data removed]",
      "text/plain": [
       "plot without title"
      ]
     },
     "metadata": {},
     "output_type": "display_data"
    },
    {
     "data": {
      "image/png": "[encoded data removed]",
      "text/plain": [
       "plot without title"
      ]
     },
     "metadata": {},
     "output_type": "display_data"
    }
   ],
   "source": [
    "g1 = ggplot(as.data.frame(prop.table(table(American$negativereason))), \n",
    "            aes(x = Var1, y = Freq)) +\n",
    "            geom_bar(stat = 'identity', fill = 'lightblue')\n",
    "g1 = g1 + ggtitle('American: Reasons for bad sentiment')\n",
    "g1 = g1 + theme(plot.title = element_text(size = 14, face = 'bold', vjust = 1), \n",
    "                axis.title.x = element_blank(),\n",
    "                axis.text.x  = element_text(angle = 90, size = 10, vjust = 1))\n",
    "\n",
    "g2 = ggplot(as.data.frame(prop.table(table(United$negativereason))), \n",
    "            aes(x = Var1, y = Freq)) +\n",
    "            geom_bar(stat = 'identity', fill = 'lightblue')\n",
    "g2 = g2 + ggtitle('United: Reasons for bad sentiment')\n",
    "g2 = g2 + theme(plot.title = element_text(size = 14, face = 'bold', vjust = 1), \n",
    "                axis.title.x = element_blank(),\n",
    "                axis.text.x = element_text(angle = 90, size = 10, vjust = 1))\n",
    "\n",
    "g3 = ggplot(as.data.frame(prop.table(table(USAirways$negativereason))), aes(x = Var1, y = Freq)) +\n",
    "geom_bar(stat = 'identity', fill = 'lightblue')\n",
    "g3 = g3 + ggtitle('US Airways: Reasons for bad sentiment')\n",
    "g3 = g3 + theme(plot.title = element_text(size = 14, face = 'bold', vjust = 1), axis.title.x = element_blank(),\n",
    "                axis.text.x = element_text(angle = 90, size = 10, vjust = 1))\n",
    "\n",
    "g4 = ggplot(as.data.frame(prop.table(table(Delta$negativereason))), aes(x = Var1, y = Freq)) +\n",
    "geom_bar(stat = 'identity', fill = 'lightblue')\n",
    "g4 = g4 + ggtitle('Delta: Reasons for bad sentiment')\n",
    "g4 = g4 + theme(plot.title = element_text(size = 14, face = 'bold', vjust = 1), axis.title.x = element_blank(),\n",
    "                axis.text.x = element_text(angle = 90, size = 10, vjust = 1))\n",
    "\n",
    "g5 = ggplot(as.data.frame(prop.table(table(Southwest$negativereason))), aes(x = Var1, y = Freq)) +\n",
    "geom_bar(stat = 'identity', fill = 'lightblue')\n",
    "g5 = g5 + ggtitle('Southwest: Reasons for bad sentiment')\n",
    "g5 = g5 + theme(plot.title = element_text(size = 14, face = 'bold', vjust = 1), axis.title.x = element_blank(),\n",
    "                axis.text.x = element_text(angle = 90, size = 10, vjust = 1))\n",
    "\n",
    "g6 = ggplot(as.data.frame(prop.table(table(Virgin$negativereason))), aes(x = Var1, y = Freq)) +\n",
    "geom_bar(stat = 'identity', fill = 'lightblue')\n",
    "g6 = g6 + ggtitle('Virgin: Reasons for bad sentiment')\n",
    "g6 = g6 + theme(plot.title = element_text(size = 14, face = 'bold', vjust = 1), axis.title.x = element_blank(),\n",
    "                axis.text.x = element_text(angle = 90, size = 10, vjust = 1))\n",
    "\n",
    "grid.arrange(g1, g2, ncol = 1, nrow = 2)\n",
    "grid.arrange(g3, g4, ncol = 1, nrow = 2)\n",
    "grid.arrange(g5, g6, ncol = 1, nrow = 2)"
   ]
  },
  {
   "cell_type": "code",
   "execution_count": 129,
   "metadata": {
    "collapsed": false
   },
   "outputs": [
    {
     "data": {},
     "metadata": {},
     "output_type": "display_data"
    },
    {
     "data": {
      "image/png": "[encoded data removed]",
      "text/plain": [
       "plot without title"
      ]
     },
     "metadata": {},
     "output_type": "display_data"
    }
   ],
   "source": [
    "# Graph all the sentiment together to let everyone know what they should work on\n",
    "gg = ggplot(negative_reasons, aes(x = Reason, y = Frequency)) +\n",
    "     geom_bar(stat = 'identity', fill = 'blue')\n",
    "gg = gg + ggtitle('Reasons for Negative Sentiment')\n",
    "gg = gg + \n",
    "    theme(plot.title = element_text(size = 14, \n",
    "                                    face = 'bold', \n",
    "                                    vjust = 1), \n",
    "          axis.title.x = element_text(vjust = -0.1),\n",
    "          axis.text.x  = element_text(angle = 90, \n",
    "                                      size = 10, \n",
    "                                      vjust = 1))\n",
    "gg"
   ]
  },
  {
   "cell_type": "markdown",
   "metadata": {},
   "source": [
    "## Conclusion:\n",
    "The empty on the far left indicate the number of neutral and good sentiments. \n",
    "\n",
    "All of the Airlines seem similar in most regards. However, we note that US Airways and American need better customer service since they both are worse than everyone else. Us airways being the worst since they have more late flights as well. \n",
    "\n",
    "One thing we know by looking at this is all airlines can work better on their customer service. It is bad and hopefully helpful to note that there are several cancelled flights and Lost Luggage across all airlines. \n",
    "\n",
    "Cancelled flights could be for a multitude of reasons: late flights and congestion in air traffic, matinence with plane, and more. I hear that airline glitches are the most common reason for such cancellations. I hope that security issues aren't the second most. \n",
    "\n",
    "Late and Cancelled flights can't be avoided too much, but it seems my next project should be on flight delays and cancellation."
   ]
  },
  {
   "cell_type": "markdown",
   "metadata": {},
   "source": [
    "# Search Down Bad Sentiment Reasons"
   ]
  },
  {
   "cell_type": "code",
   "execution_count": 130,
   "metadata": {
    "collapsed": true
   },
   "outputs": [],
   "source": [
    "# Fill NA cells containing \"\", or \" \" with NA\n",
    "data = as.data.frame(apply(data, 2, function(x) gsub(\"^$|^ $\", NA, x)))"
   ]
  },
  {
   "cell_type": "code",
   "execution_count": 131,
   "metadata": {
    "collapsed": false
   },
   "outputs": [
    {
     "data": {
      "text/html": [
       "<dl class=dl-horizontal>\n",
       "\t<dt>tweet_id</dt>\n",
       "\t\t<dd>0</dd>\n",
       "\t<dt>airline_sentiment</dt>\n",
       "\t\t<dd>0</dd>\n",
       "\t<dt>airline_sentiment_confidence</dt>\n",
       "\t\t<dd>0</dd>\n",
       "\t<dt>negativereason</dt>\n",
       "\t\t<dd>5462</dd>\n",
       "\t<dt>negativereason_confidence</dt>\n",
       "\t\t<dd>4118</dd>\n",
       "\t<dt>airline</dt>\n",
       "\t\t<dd>0</dd>\n",
       "\t<dt>airline_sentiment_gold</dt>\n",
       "\t\t<dd>14600</dd>\n",
       "\t<dt>name</dt>\n",
       "\t\t<dd>0</dd>\n",
       "\t<dt>negativereason_gold</dt>\n",
       "\t\t<dd>14608</dd>\n",
       "\t<dt>retweet_count</dt>\n",
       "\t\t<dd>0</dd>\n",
       "\t<dt>text</dt>\n",
       "\t\t<dd>0</dd>\n",
       "\t<dt>tweet_coord</dt>\n",
       "\t\t<dd>13621</dd>\n",
       "\t<dt>tweet_created</dt>\n",
       "\t\t<dd>0</dd>\n",
       "\t<dt>tweet_location</dt>\n",
       "\t\t<dd>4733</dd>\n",
       "\t<dt>user_timezone</dt>\n",
       "\t\t<dd>4820</dd>\n",
       "</dl>\n"
      ],
      "text/latex": [
       "\\begin{description*}\n",
       "\\item[tweet\\textbackslash{}\\_id] 0\n",
       "\\item[airline\\textbackslash{}\\_sentiment] 0\n",
       "\\item[airline\\textbackslash{}\\_sentiment\\textbackslash{}\\_confidence] 0\n",
       "\\item[negativereason] 5462\n",
       "\\item[negativereason\\textbackslash{}\\_confidence] 4118\n",
       "\\item[airline] 0\n",
       "\\item[airline\\textbackslash{}\\_sentiment\\textbackslash{}\\_gold] 14600\n",
       "\\item[name] 0\n",
       "\\item[negativereason\\textbackslash{}\\_gold] 14608\n",
       "\\item[retweet\\textbackslash{}\\_count] 0\n",
       "\\item[text] 0\n",
       "\\item[tweet\\textbackslash{}\\_coord] 13621\n",
       "\\item[tweet\\textbackslash{}\\_created] 0\n",
       "\\item[tweet\\textbackslash{}\\_location] 4733\n",
       "\\item[user\\textbackslash{}\\_timezone] 4820\n",
       "\\end{description*}\n"
      ],
      "text/markdown": [
       "tweet_id\n",
       ":   0airline_sentiment\n",
       ":   0airline_sentiment_confidence\n",
       ":   0negativereason\n",
       ":   5462negativereason_confidence\n",
       ":   4118airline\n",
       ":   0airline_sentiment_gold\n",
       ":   14600name\n",
       ":   0negativereason_gold\n",
       ":   14608retweet_count\n",
       ":   0text\n",
       ":   0tweet_coord\n",
       ":   13621tweet_created\n",
       ":   0tweet_location\n",
       ":   4733user_timezone\n",
       ":   4820\n",
       "\n"
      ],
      "text/plain": [
       "                    tweet_id            airline_sentiment \n",
       "                           0                            0 \n",
       "airline_sentiment_confidence               negativereason \n",
       "                           0                         5462 \n",
       "   negativereason_confidence                      airline \n",
       "                        4118                            0 \n",
       "      airline_sentiment_gold                         name \n",
       "                       14600                            0 \n",
       "         negativereason_gold                retweet_count \n",
       "                       14608                            0 \n",
       "                        text                  tweet_coord \n",
       "                           0                        13621 \n",
       "               tweet_created               tweet_location \n",
       "                           0                         4733 \n",
       "               user_timezone \n",
       "                        4820 "
      ]
     },
     "metadata": {},
     "output_type": "display_data"
    }
   ],
   "source": [
    "apply(data, 2, function(x) sum(is.na(x)))"
   ]
  },
  {
   "cell_type": "markdown",
   "metadata": {},
   "source": [
    "We have 5462 Neutral or Good Tweets for Airlines!"
   ]
  },
  {
   "cell_type": "code",
   "execution_count": 132,
   "metadata": {
    "collapsed": false
   },
   "outputs": [
    {
     "data": {
      "text/plain": [
       "\n",
       "    0     1     2     3     4     5     6     7     8     9    11    15    18 \n",
       "13873   640    66    22    17     5     3     3     1     1     1     1     1 \n",
       "   22    28    31    32    44 \n",
       "    2     1     1     1     1 "
      ]
     },
     "metadata": {},
     "output_type": "display_data"
    }
   ],
   "source": [
    "table(data$retweet_count)"
   ]
  },
  {
   "cell_type": "code",
   "execution_count": 133,
   "metadata": {
    "collapsed": false
   },
   "outputs": [
    {
     "name": "stdout",
     "output_type": "stream",
     "text": [
      "[1] \"Just in case you needed confirmation that \\\"on fleek\\\" is dead &amp; gone. RT @JetBlue: Our fleet's on fleek. http://t.co/G4O6yX7TMJ\"\n",
      "\n",
      "[1] \"@SouthwestAir beautiful day in Seattle! http://t.co/iqu0PPVq2S\"       \n",
      "[2] \"can you not? RT @JetBlue Our fleet's on fleek. http://t.co/413GiAL0yl\"\n",
      "\n",
      "[1] \"@USAirways with this livery back in the day. http://t.co/EEqWVAMmiy\"\n",
      "\n",
      "[1] \"STOP. USING.THIS.WORD. IF. YOU'RE. A. COMPANY. RT @JetBlue: Our fleet's on fleek. http://t.co/Fd2TNYcTrB\"\n",
      "\n",
      "[1] \"@USAirways of course never again tho . Thanks for tweetin ur concern but not Doin anythin to fix what happened. I'll choose wiser next time\"\n",
      "\n",
      "[1] \"@USAirways 5 hr flight delay and a delay when we land . Is that even real life ? Get me off this plane , I wanna go home ð ð ð  (3 heel clicks)\"\n",
      "\n"
     ]
    }
   ],
   "source": [
    "# For each of the amount of retweets (We will grab the last 5)\n",
    "for (i in tail(as.numeric(rownames(table(data$retweet_count))))){\n",
    "    # Print the message\n",
    "    print(as.character(subset(data, retweet_count == i)$text));\n",
    "    cat('\\n')\n",
    "}"
   ]
  },
  {
   "cell_type": "markdown",
   "metadata": {},
   "source": [
    "## Conclusion:\n",
    "The bad ones get retweeted more often. This is understandable since they are more noticed."
   ]
  },
  {
   "cell_type": "markdown",
   "metadata": {},
   "source": [
    "# Analyzing Text of The Tweets"
   ]
  },
  {
   "cell_type": "code",
   "execution_count": 134,
   "metadata": {
    "collapsed": false
   },
   "outputs": [
    {
     "data": {
      "text/html": [
       "<table>\n",
       "<thead><tr><th scope=col>airline_sentiment</th><th scope=col>negativereason</th><th scope=col>airline</th><th scope=col>text</th></tr></thead>\n",
       "<tbody>\n",
       "\t<tr><td>neutral                                                                                                                                 </td><td>NA                                                                                                                                      </td><td>Virgin America                                                                                                                          </td><td>@VirginAmerica What @dhepburn said.                                                                                                     </td></tr>\n",
       "\t<tr><td>positive                                                                                                                                </td><td>NA                                                                                                                                      </td><td>Virgin America                                                                                                                          </td><td>@VirginAmerica plus you've added commercials to the experience... tacky.                                                                </td></tr>\n",
       "\t<tr><td>neutral                                                                                                                                 </td><td>NA                                                                                                                                      </td><td>Virgin America                                                                                                                          </td><td>@VirginAmerica I didn't today... Must mean I need to take another trip!                                                                 </td></tr>\n",
       "\t<tr><td>negative                                                                                                                                                                            </td><td>Bad Flight                                                                                                                                                                          </td><td>Virgin America                                                                                                                                                                      </td><td><span style=white-space:pre-wrap>@VirginAmerica it's really aggressive to blast obnoxious \"entertainment\" in your guests' faces &amp;amp; they have little recourse          </span></td></tr>\n",
       "\t<tr><td>negative                                                                                                                                </td><td>Can't Tell                                                                                                                              </td><td>Virgin America                                                                                                                          </td><td>@VirginAmerica and it's a really big bad thing about it                                                                                 </td></tr>\n",
       "\t<tr><td>negative                                                                                                                                </td><td>Can't Tell                                                                                                                              </td><td>Virgin America                                                                                                                          </td><td>@VirginAmerica seriously would pay $30 a flight for seats that didn't have this playing.\n",
       "it's really the only bad thing about flying VA</td></tr>\n",
       "</tbody>\n",
       "</table>\n"
      ],
      "text/latex": [
       "\\begin{tabular}{r|llll}\n",
       " airline\\_sentiment & negativereason & airline & text\\\\\n",
       "\\hline\n",
       "\t neutral                                                                                                                                  & NA                                                                                                                                       & Virgin America                                                                                                                           & @VirginAmerica What @dhepburn said.                                                                                                     \\\\\n",
       "\t positive                                                                                                                                 & NA                                                                                                                                       & Virgin America                                                                                                                           & @VirginAmerica plus you've added commercials to the experience... tacky.                                                                \\\\\n",
       "\t neutral                                                                                                                                  & NA                                                                                                                                       & Virgin America                                                                                                                           & @VirginAmerica I didn't today... Must mean I need to take another trip!                                                                 \\\\\n",
       "\t negative                                                                                                                                   & Bad Flight                                                                                                                                 & Virgin America                                                                                                                             & @VirginAmerica it's really aggressive to blast obnoxious \"entertainment\" in your guests' faces \\&amp; they have little recourse          \\\\\n",
       "\t negative                                                                                                                                 & Can't Tell                                                                                                                               & Virgin America                                                                                                                           & @VirginAmerica and it's a really big bad thing about it                                                                                 \\\\\n",
       "\t negative                                                                                                                                   & Can't Tell                                                                                                                                 & Virgin America                                                                                                                             & @VirginAmerica seriously would pay \\$30 a flight for seats that didn't have this playing.\n",
       "it's really the only bad thing about flying VA\\\\\n",
       "\\end{tabular}\n"
      ],
      "text/plain": [
       "  airline_sentiment negativereason airline       \n",
       "1 neutral           NA             Virgin America\n",
       "2 positive          NA             Virgin America\n",
       "3 neutral           NA             Virgin America\n",
       "4 negative          Bad Flight     Virgin America\n",
       "5 negative          Can't Tell     Virgin America\n",
       "6 negative          Can't Tell     Virgin America\n",
       "  text                                                                                                                                    \n",
       "1 @VirginAmerica What @dhepburn said.                                                                                                     \n",
       "2 @VirginAmerica plus you've added commercials to the experience... tacky.                                                                \n",
       "3 @VirginAmerica I didn't today... Must mean I need to take another trip!                                                                 \n",
       "4 @VirginAmerica it's really aggressive to blast obnoxious \"entertainment\" in your guests' faces &amp; they have little recourse          \n",
       "5 @VirginAmerica and it's a really big bad thing about it                                                                                 \n",
       "6 @VirginAmerica seriously would pay $30 a flight for seats that didn't have this playing.\\nit's really the only bad thing about flying VA"
      ]
     },
     "metadata": {},
     "output_type": "display_data"
    }
   ],
   "source": [
    "data = select(data,airline_sentiment, negativereason, airline, text)\n",
    "head(data)"
   ]
  },
  {
   "cell_type": "code",
   "execution_count": 135,
   "metadata": {
    "collapsed": false
   },
   "outputs": [
    {
     "data": {
      "text/html": [
       "<table>\n",
       "<thead><tr><th scope=col>airline_sentiment</th><th scope=col>negativereason</th><th scope=col>airline</th><th scope=col>text</th></tr></thead>\n",
       "<tbody>\n",
       "\t<tr><td>neutral                                                                                                                  </td><td>NA                                                                                                                       </td><td>Virgin America                                                                                                           </td><td>What @dhepburn said.                                                                                                     </td></tr>\n",
       "\t<tr><td>positive                                                                                                                 </td><td>NA                                                                                                                       </td><td>Virgin America                                                                                                           </td><td>plus you've added commercials to the experience... tacky.                                                                </td></tr>\n",
       "\t<tr><td>neutral                                                                                                                  </td><td>NA                                                                                                                       </td><td>Virgin America                                                                                                           </td><td>I didn't today... Must mean I need to take another trip!                                                                 </td></tr>\n",
       "\t<tr><td>negative                                                                                                                                                             </td><td>Bad Flight                                                                                                                                                           </td><td>Virgin America                                                                                                                                                       </td><td><span style=white-space:pre-wrap>it's really aggressive to blast obnoxious \"entertainment\" in your guests' faces &amp;amp; they have little recourse          </span></td></tr>\n",
       "\t<tr><td>negative                                                                                                                 </td><td>Can't Tell                                                                                                               </td><td>Virgin America                                                                                                           </td><td>and it's a really big bad thing about it                                                                                 </td></tr>\n",
       "\t<tr><td>negative                                                                                                                 </td><td>Can't Tell                                                                                                               </td><td>Virgin America                                                                                                           </td><td>seriously would pay $30 a flight for seats that didn't have this playing.\n",
       "it's really the only bad thing about flying VA</td></tr>\n",
       "</tbody>\n",
       "</table>\n"
      ],
      "text/latex": [
       "\\begin{tabular}{r|llll}\n",
       " airline\\_sentiment & negativereason & airline & text\\\\\n",
       "\\hline\n",
       "\t neutral                                                                                                                   & NA                                                                                                                        & Virgin America                                                                                                            & What @dhepburn said.                                                                                                     \\\\\n",
       "\t positive                                                                                                                  & NA                                                                                                                        & Virgin America                                                                                                            & plus you've added commercials to the experience... tacky.                                                                \\\\\n",
       "\t neutral                                                                                                                   & NA                                                                                                                        & Virgin America                                                                                                            & I didn't today... Must mean I need to take another trip!                                                                 \\\\\n",
       "\t negative                                                                                                                    & Bad Flight                                                                                                                  & Virgin America                                                                                                              & it's really aggressive to blast obnoxious \"entertainment\" in your guests' faces \\&amp; they have little recourse          \\\\\n",
       "\t negative                                                                                                                  & Can't Tell                                                                                                                & Virgin America                                                                                                            & and it's a really big bad thing about it                                                                                 \\\\\n",
       "\t negative                                                                                                                    & Can't Tell                                                                                                                  & Virgin America                                                                                                              & seriously would pay \\$30 a flight for seats that didn't have this playing.\n",
       "it's really the only bad thing about flying VA\\\\\n",
       "\\end{tabular}\n"
      ],
      "text/plain": [
       "  airline_sentiment negativereason airline       \n",
       "1 neutral           NA             Virgin America\n",
       "2 positive          NA             Virgin America\n",
       "3 neutral           NA             Virgin America\n",
       "4 negative          Bad Flight     Virgin America\n",
       "5 negative          Can't Tell     Virgin America\n",
       "6 negative          Can't Tell     Virgin America\n",
       "  text                                                                                                                     \n",
       "1 What @dhepburn said.                                                                                                     \n",
       "2 plus you've added commercials to the experience... tacky.                                                                \n",
       "3 I didn't today... Must mean I need to take another trip!                                                                 \n",
       "4 it's really aggressive to blast obnoxious \"entertainment\" in your guests' faces &amp; they have little recourse          \n",
       "5 and it's a really big bad thing about it                                                                                 \n",
       "6 seriously would pay $30 a flight for seats that didn't have this playing.\\nit's really the only bad thing about flying VA"
      ]
     },
     "metadata": {},
     "output_type": "display_data"
    }
   ],
   "source": [
    "# Removing @airline with regular expressions\n",
    "data$text = gsub(\"^@\\\\w+ *\", \"\", data$text)\n",
    "head(data)"
   ]
  },
  {
   "cell_type": "code",
   "execution_count": 136,
   "metadata": {
    "collapsed": false
   },
   "outputs": [
    {
     "name": "stdout",
     "output_type": "stream",
     "text": [
      "Num of Positives:  2363\n",
      "Num of Negtives :  9178"
     ]
    }
   ],
   "source": [
    "# group tweets in 2 dataframes according to positive or negative sentiment\n",
    "positive = subset(data, airline_sentiment == 'positive')\n",
    "negative = subset(data, airline_sentiment == 'negative')\n",
    "\n",
    "cat(paste('Num of Positives: ',dim(positive)[1]))\n",
    "cat('\\n')\n",
    "cat(paste('Num of Negtives : ',dim(negative)[1]))"
   ]
  },
  {
   "cell_type": "code",
   "execution_count": 137,
   "metadata": {
    "collapsed": true
   },
   "outputs": [],
   "source": [
    "# These words are not useful in getting meaning\n",
    "words_to_remove = c(stopwords(\"english\"),\"can\",\"get\",\"now\",'will')"
   ]
  },
  {
   "cell_type": "code",
   "execution_count": 138,
   "metadata": {
    "collapsed": true
   },
   "outputs": [],
   "source": [
    "# generate a function to analyse corpus text\n",
    "\n",
    "analyseText = function(text_to_analyse){\n",
    "    # analyse text and generate matrix of words\n",
    "    # Returns a dataframe containing 1 tweet per row, one word per column\n",
    "    # and the number of times the word appears per tweet\n",
    "    CorpusTranscript = Corpus(VectorSource(text_to_analyse))\n",
    "    CorpusTranscript = tm_map(CorpusTranscript, content_transformer(tolower), lazy = T)\n",
    "    CorpusTranscript = tm_map(CorpusTranscript, PlainTextDocument, lazy = T)\n",
    "    CorpusTranscript = tm_map(CorpusTranscript, removePunctuation)\n",
    "    CorpusTranscript = tm_map(CorpusTranscript, removeWords, words_to_remove)\n",
    "    CorpusTranscript = tm_map(CorpusTranscript, removeWords, stopwords(\"english\"))\n",
    "    CorpusTranscript = DocumentTermMatrix(CorpusTranscript)\n",
    "    CorpusTranscript = removeSparseTerms(CorpusTranscript, 0.97) # keeps a matrix 97% sparse\n",
    "    CorpusTranscript = as.data.frame(as.matrix(CorpusTranscript))\n",
    "    colnames(CorpusTranscript) = make.names(colnames(CorpusTranscript))\n",
    "    \n",
    "    return(CorpusTranscript)\n",
    "}"
   ]
  },
  {
   "cell_type": "code",
   "execution_count": 139,
   "metadata": {
    "collapsed": false
   },
   "outputs": [
    {
     "name": "stdout",
     "output_type": "stream",
     "text": [
      "Number of Words Per Line: 35"
     ]
    },
    {
     "data": {
      "text/html": [
       "<dl class=dl-horizontal>\n",
       "\t<dt>flight</dt>\n",
       "\t\t<dd>2900</dd>\n",
       "\t<dt>cancelled</dt>\n",
       "\t\t<dd>920</dd>\n",
       "\t<dt>service</dt>\n",
       "\t\t<dd>740</dd>\n",
       "\t<dt>hours</dt>\n",
       "\t\t<dd>644</dd>\n",
       "\t<dt>just</dt>\n",
       "\t\t<dd>614</dd>\n",
       "\t<dt>help</dt>\n",
       "\t\t<dd>610</dd>\n",
       "</dl>\n"
      ],
      "text/latex": [
       "\\begin{description*}\n",
       "\\item[flight] 2900\n",
       "\\item[cancelled] 920\n",
       "\\item[service] 740\n",
       "\\item[hours] 644\n",
       "\\item[just] 614\n",
       "\\item[help] 610\n",
       "\\end{description*}\n"
      ],
      "text/markdown": [
       "flight\n",
       ":   2900cancelled\n",
       ":   920service\n",
       ":   740hours\n",
       ":   644just\n",
       ":   614help\n",
       ":   610\n",
       "\n"
      ],
      "text/plain": [
       "   flight cancelled   service     hours      just      help \n",
       "     2900       920       740       644       614       610 "
      ]
     },
     "metadata": {},
     "output_type": "display_data"
    }
   ],
   "source": [
    "# Analysis of Negative Tweets\n",
    "words = analyseText(negative$text)\n",
    "cat(\"Number of Words Per Line:\", dim(words)[2])\n",
    "\n",
    "# Text Mining of Negative Words\n",
    "freqWords_neg = colSums(words)\n",
    "freqWords_neg = freqWords_neg[order(freqWords_neg, decreasing = T)]\n",
    "head(freqWords_neg)"
   ]
  },
  {
   "cell_type": "code",
   "execution_count": 140,
   "metadata": {
    "collapsed": false
   },
   "outputs": [
    {
     "name": "stdout",
     "output_type": "stream",
     "text": [
      "Number of Words Per Line: 21"
     ]
    },
    {
     "data": {
      "text/html": [
       "<dl class=dl-horizontal>\n",
       "\t<dt>thanks</dt>\n",
       "\t\t<dd>608</dd>\n",
       "\t<dt>thank</dt>\n",
       "\t\t<dd>453</dd>\n",
       "\t<dt>flight</dt>\n",
       "\t\t<dd>371</dd>\n",
       "\t<dt>great</dt>\n",
       "\t\t<dd>233</dd>\n",
       "\t<dt>just</dt>\n",
       "\t\t<dd>179</dd>\n",
       "\t<dt>service</dt>\n",
       "\t\t<dd>159</dd>\n",
       "</dl>\n"
      ],
      "text/latex": [
       "\\begin{description*}\n",
       "\\item[thanks] 608\n",
       "\\item[thank] 453\n",
       "\\item[flight] 371\n",
       "\\item[great] 233\n",
       "\\item[just] 179\n",
       "\\item[service] 159\n",
       "\\end{description*}\n"
      ],
      "text/markdown": [
       "thanks\n",
       ":   608thank\n",
       ":   453flight\n",
       ":   371great\n",
       ":   233just\n",
       ":   179service\n",
       ":   159\n",
       "\n"
      ],
      "text/plain": [
       " thanks   thank  flight   great    just service \n",
       "    608     453     371     233     179     159 "
      ]
     },
     "metadata": {},
     "output_type": "display_data"
    }
   ],
   "source": [
    "# Analysis of Positive Tweets\n",
    "words = analyseText(positive$text)\n",
    "cat(\"Number of Words Per Line:\", dim(words)[2])\n",
    "\n",
    "# Text Mining for Positive Words\n",
    "freqWords_pos = colSums(words)\n",
    "freqWords_pos = freqWords_pos[order(freqWords_pos, decreasing = T)]\n",
    "head(freqWords_pos)"
   ]
  },
  {
   "cell_type": "code",
   "execution_count": 141,
   "metadata": {
    "collapsed": false
   },
   "outputs": [
    {
     "data": {
      "text/html": [
       "<dl class=dl-horizontal>\n",
       "\t<dt>thanks</dt>\n",
       "\t\t<dd>1061</dd>\n",
       "\t<dt>flight</dt>\n",
       "\t\t<dd>371</dd>\n",
       "\t<dt>great</dt>\n",
       "\t\t<dd>233</dd>\n",
       "\t<dt>just</dt>\n",
       "\t\t<dd>179</dd>\n",
       "\t<dt>service</dt>\n",
       "\t\t<dd>159</dd>\n",
       "\t<dt>love</dt>\n",
       "\t\t<dd>133</dd>\n",
       "</dl>\n"
      ],
      "text/latex": [
       "\\begin{description*}\n",
       "\\item[thanks] 1061\n",
       "\\item[flight] 371\n",
       "\\item[great] 233\n",
       "\\item[just] 179\n",
       "\\item[service] 159\n",
       "\\item[love] 133\n",
       "\\end{description*}\n"
      ],
      "text/markdown": [
       "thanks\n",
       ":   1061flight\n",
       ":   371great\n",
       ":   233just\n",
       ":   179service\n",
       ":   159love\n",
       ":   133\n",
       "\n"
      ],
      "text/plain": [
       " thanks  flight   great    just service    love \n",
       "   1061     371     233     179     159     133 "
      ]
     },
     "metadata": {},
     "output_type": "display_data"
    }
   ],
   "source": [
    "# Thank and Thanks will be the same word in this case\n",
    "freqWords_pos[1] = freqWords_pos[1] + freqWords_pos[2]\n",
    "freqWords_pos = freqWords_pos[-2]\n",
    "head(freqWords_pos)"
   ]
  },
  {
   "cell_type": "markdown",
   "metadata": {},
   "source": [
    "## Conclusion:\n",
    "- Cancelled seemed to pop up a lot. \n",
    "- Service negative popped up more than service positive, as we know to be true from earlier.\n",
    "- Hours in negative is probably referring to wait time or delay."
   ]
  },
  {
   "cell_type": "markdown",
   "metadata": {},
   "source": [
    "# Clustering Words"
   ]
  },
  {
   "cell_type": "code",
   "execution_count": 142,
   "metadata": {
    "collapsed": true
   },
   "outputs": [],
   "source": [
    "analyseText2 = function(text_to_analyse){\n",
    "    # analyse text and generate matrix of words\n",
    "    # Returns a dtm containing 1 tweet per row, one word per column\n",
    "    # and the number of times the word appears per tweet\n",
    "    CorpusTranscript = Corpus(VectorSource(text_to_analyse))\n",
    "    CorpusTranscript = tm_map(CorpusTranscript, content_transformer(tolower), lazy = T)\n",
    "    CorpusTranscript = tm_map(CorpusTranscript, PlainTextDocument, lazy = T)\n",
    "    CorpusTranscript = tm_map(CorpusTranscript, removePunctuation)\n",
    "    CorpusTranscript = tm_map(CorpusTranscript, removeWords, words_to_remove)\n",
    "    CorpusTranscript = tm_map(CorpusTranscript, removeWords, stopwords(\"english\"))\n",
    "    CorpusTranscript = DocumentTermMatrix(CorpusTranscript)\n",
    "    CorpusTranscript = removeSparseTerms(CorpusTranscript, 0.97) # keeps a matrix 97% sparse\n",
    "    \n",
    "    return(CorpusTranscript)\n",
    "}"
   ]
  },
  {
   "cell_type": "code",
   "execution_count": 143,
   "metadata": {
    "collapsed": true
   },
   "outputs": [],
   "source": [
    "# getting matrices and not dataframes because we can't use them for dendrogram\n",
    "words_neg = analyseText2(negative$text)\n",
    "words_pos = analyseText2(positive$text)"
   ]
  },
  {
   "cell_type": "code",
   "execution_count": 144,
   "metadata": {
    "collapsed": false
   },
   "outputs": [
    {
     "data": {
      "image/png": "[encoded data removed]",
      "text/plain": [
       "Plot with title \"Negative Sentiment\""
      ]
     },
     "metadata": {},
     "output_type": "display_data"
    }
   ],
   "source": [
    "# hierarchical clustering with dendrogram\n",
    "d = dist(t(as.matrix(words_neg)), method = 'euclidean')\n",
    "fit = hclust(d = d, method = 'ward.D')\n",
    "\n",
    "#dendrogram\n",
    "op = par(bg = \"#DDE3CA\")\n",
    "\n",
    "plot(fit, col = \"#487AA1\", \n",
    "     col.main = \"#45ADA8\", col.lab = \"#7C8071\", \n",
    "     main = 'Negative Sentiment', \n",
    "     xlab = '',\n",
    "     col.axis = \"#F38630\", \n",
    "     lwd = 3, lty = 3, \n",
    "     sub = \"\", \n",
    "     hang = -1, \n",
    "     axes = FALSE)\n",
    "\n",
    "# add axis\n",
    "axis(side = 2, \n",
    "     at = seq(0, 400, 100), \n",
    "     col = \"#F38630\", \n",
    "     labels = FALSE, \n",
    "     lwd = 2)\n",
    "\n",
    "# add text in margin\n",
    "mtext(seq(0, 100, 10), \n",
    "      side = 2, \n",
    "      at = seq(0, 100, 10), \n",
    "      line = 1, \n",
    "      col = \"#A38630\", \n",
    "      las = 2)"
   ]
  },
  {
   "cell_type": "code",
   "execution_count": 145,
   "metadata": {
    "collapsed": false
   },
   "outputs": [
    {
     "data": {
      "image/png": "[encoded data removed]",
      "text/plain": [
       "Plot with title \"Positive Sentiment\""
      ]
     },
     "metadata": {},
     "output_type": "display_data"
    }
   ],
   "source": [
    "# positive sentiment tweets\n",
    "d = dist(t(as.matrix(words_pos)), method = 'euclidean')\n",
    "fit = hclust(d = d, method = 'ward.D')\n",
    "\n",
    "# dendrogram\n",
    "op = par(bg = \"#DDE3CA\")\n",
    "\n",
    "plot(fit, \n",
    "     col = \"#487AA1\", \n",
    "     col.main = \"#45ADA8\", \n",
    "     col.lab = \"#7C8071\", \n",
    "     main = 'Positive Sentiment', \n",
    "     xlab = '',\n",
    "     col.axis = \"#F38630\", \n",
    "     lwd = 3, lty = 3, \n",
    "     sub = \"\", \n",
    "     hang = -1, \n",
    "     axes = FALSE)\n",
    "\n",
    "# add axis\n",
    "axis(side = 2, \n",
    "     at = seq(0, 400, 100), \n",
    "     col = \"#F38630\", \n",
    "     labels = FALSE, \n",
    "     lwd = 2)\n",
    "\n",
    "# add text in margin\n",
    "mtext(seq(0, 100, 10), \n",
    "      side = 2, \n",
    "      at = seq(0, 100, 10), \n",
    "      line = 1, \n",
    "      col = \"#A38630\", \n",
    "      las = 2)"
   ]
  },
  {
   "cell_type": "markdown",
   "metadata": {},
   "source": [
    "## Conclusion:\n",
    "### How to read Dendrogram:\n",
    "- Every two branches are related.\n",
    "- If a branch breaks off into more branches, they are all still related to the initial branch that didn't break off.\n",
    "\n",
    "It's good to see customer service be grouped together as expected. \n",
    "\n",
    "It is also good to see that flight and thank(s) are related to all the positive sentiments. This shows that customer service was related to everything.  \n",
    "\n",
    "On the negative we see that the related words like waiting, gate, delayed, and hours are related. Presumably they are talking about time. While bag is also related, probably meaning sometimes people are waiting for their bags?"
   ]
  },
  {
   "cell_type": "markdown",
   "metadata": {},
   "source": [
    "# Visualization of Tweet Locations"
   ]
  },
  {
   "cell_type": "code",
   "execution_count": 156,
   "metadata": {
    "collapsed": false
   },
   "outputs": [
    {
     "data": {
      "text/html": [
       "<table>\n",
       "<thead><tr><th></th><th scope=col>location</th><th scope=col>count</th><th scope=col>lat</th><th scope=col>long</th></tr></thead>\n",
       "<tbody>\n",
       "\t<tr><th scope=row>1</th><td>                            </td><td>13621                       </td><td>        NA                  </td><td>      NA                    </td></tr>\n",
       "\t<tr><th scope=row>2</th><td>[-33.87144962, 151.20821275]</td><td>    1                       </td><td>-33.871450                  </td><td>151.2082                    </td></tr>\n",
       "\t<tr><th scope=row>3</th><td>[-37.8536992, 145.1106176]  </td><td>    1                       </td><td>-37.853699                  </td><td>145.1106                    </td></tr>\n",
       "\t<tr><th scope=row>4</th><td>[-38.0269936, 145.2110041]  </td><td>    1                       </td><td>-38.026994                  </td><td>145.2110                    </td></tr>\n",
       "\t<tr><th scope=row>6</th><td>[0.0, 0.0]                  </td><td>  164                       </td><td>  0.000000                  </td><td>  0.0000                    </td></tr>\n",
       "\t<tr><th scope=row>7</th><td>[1.3523078, 103.8637764]    </td><td>    1                       </td><td>  1.352308                  </td><td>103.8638                    </td></tr>\n",
       "</tbody>\n",
       "</table>\n"
      ],
      "text/latex": [
       "\\begin{tabular}{r|llll}\n",
       "  & location & count & lat & long\\\\\n",
       "\\hline\n",
       "\t1 &                              & 13621                        &         NA                   &       NA                    \\\\\n",
       "\t2 & {[}-33.87144962, 151.20821275{]} &     1                            & -33.871450                       & 151.2082                        \\\\\n",
       "\t3 & {[}-37.8536992, 145.1106176{]}   &     1                            & -37.853699                       & 145.1106                        \\\\\n",
       "\t4 & {[}-38.0269936, 145.2110041{]}   &     1                            & -38.026994                       & 145.2110                        \\\\\n",
       "\t6 & {[}0.0, 0.0{]}                   &   164                            &   0.000000                       &   0.0000                        \\\\\n",
       "\t7 & {[}1.3523078, 103.8637764{]}     &     1                            &   1.352308                       & 103.8638                        \\\\\n",
       "\\end{tabular}\n"
      ],
      "text/plain": [
       "  location                     count lat        long    \n",
       "1                              13621         NA       NA\n",
       "2 [-33.87144962, 151.20821275]     1 -33.871450 151.2082\n",
       "3 [-37.8536992, 145.1106176]       1 -37.853699 145.1106\n",
       "4 [-38.0269936, 145.2110041]       1 -38.026994 145.2110\n",
       "6 [0.0, 0.0]                     164   0.000000   0.0000\n",
       "7 [1.3523078, 103.8637764]         1   1.352308 103.8638"
      ]
     },
     "metadata": {},
     "output_type": "display_data"
    },
    {
     "name": "stdout",
     "output_type": "stream",
     "text": [
      "The different numbers of locations: 832 4"
     ]
    }
   ],
   "source": [
    "data = read.csv('data/Tweets.csv')\n",
    "\n",
    "location = data$tweet_coord\n",
    "location = location[complete.cases(location)] # remove NAs\n",
    "location = as.data.frame(location)\n",
    "location$count =  1 # add a count column filled with 1s\n",
    "location$location = as.character(location$location)\n",
    "#remove duplicate locations and count the times they appeared, write the count in the count column\n",
    "location = aggregate(count~location, data = location, FUN = sum)\n",
    "location = location[-5,] # removes row containing coords [0,0] which are probably wrong\n",
    "coords = strsplit(location$location, ',') \n",
    "\n",
    "# separate lat and long from location\n",
    "lat = NULL\n",
    "long = NULL\n",
    "for (i in 1:length(coords)) {\n",
    "    lat = c(lat, substring(coords[[i]][1], 2)) # removes first character which is [\n",
    "    long = c(long, coords[[i]][2]) \n",
    "}\n",
    "\n",
    "location$lat = lat\n",
    "location$long = long\n",
    "\n",
    "# remove ]\n",
    "location$long = substr(location$long, 1, nchar(location$long)-1)\n",
    "\n",
    "location$lat = as.numeric(location$lat)\n",
    "location$long = as.numeric(location$long)\n",
    "   \n",
    "head(location)\n",
    "cat('The different numbers of locations:', dim(location))"
   ]
  },
  {
   "cell_type": "code",
   "execution_count": 157,
   "metadata": {
    "collapsed": false
   },
   "outputs": [],
   "source": [
    "# Since this gave us Lat and Long, we'll use a map.\n",
    "require(maps)"
   ]
  },
  {
   "cell_type": "code",
   "execution_count": 158,
   "metadata": {
    "collapsed": false
   },
   "outputs": [
    {
     "name": "stderr",
     "output_type": "stream",
     "text": [
      "Warning message:\n",
      "\"Removed 1 rows containing missing values (geom_point).\"Warning message:\n",
      "\"Removed 57 rows containing missing values (geom_point).\""
     ]
    },
    {
     "data": {
      "image/png": "[encoded data removed]",
      "text/plain": [
       "plot without title"
      ]
     },
     "metadata": {},
     "output_type": "display_data"
    }
   ],
   "source": [
    "# World Travel map\n",
    "world_map <- map_data(\"world\")\n",
    "g1 = ggplot()\n",
    "g1 = g1 + geom_polygon(data=world_map, aes(x=long, y=lat, group = group), colour=\"black\", fill = 'lightblue') + \n",
    "ggtitle(\"Location of tweets across the World\")\n",
    "g1 = g1 + geom_point(data=location, aes(x=long, y=lat, size = count), color=\"coral1\") + scale_size(name=\"Total Tweets\")\n",
    "g1 = g1 + ylim(-50, 80)\n",
    "\n",
    "# There is a lot in the US, so we should look at it\n",
    "states <- map_data(\"state\")\n",
    "g2 = ggplot()\n",
    "g2 =g2 + geom_polygon(data=states, aes(x=long, y=lat, group = group), colour=\"black\", fill = 'lightblue') + \n",
    "ggtitle(\"Location of tweets across the States\")\n",
    "g2 = g2 + geom_point(data=location, aes(x=long, y=lat, size = count), color=\"coral1\") + scale_size(name=\"Total Tweets\")\n",
    "g2 = g2 + xlim(-125, -65) + ylim(25, 50)\n",
    "\n",
    "grid.arrange(g1, g2, ncol=1, nrow = 2)"
   ]
  },
  {
   "cell_type": "markdown",
   "metadata": {},
   "source": [
    "# Conclusion of Project:\n",
    "### Here is what we found\n",
    "- Most tweets have negative sentiment (>60%) and most are from the US.\n",
    "- Most tweets are targeted towards United airlines, then American and US Airways.\n",
    "- Virgin receives very few tweets.\n",
    "- Main reasons for negative sentiment are Customer Service Issues and Late Flights.\n",
    "- Negative sentiment tweets towards Delta are based mostly on late flights and not so much on Customer Service Issues as for the rest of the airlines.\n",
    "- The flight is almost never the issue with customers and damaged luggage is rare.\n",
    "\n",
    "We can conduct investigations and find more data from tweets from a later date to see if airlines respond and fix up what they need to. For now, I will find out what is causing delays."
   ]
  }
 ],
 "metadata": {
  "anaconda-cloud": {},
  "kernelspec": {
   "display_name": "R",
   "language": "R",
   "name": "ir"
  },
  "language_info": {
   "codemirror_mode": "r",
   "file_extension": ".r",
   "mimetype": "text/x-r-source",
   "name": "R",
   "pygments_lexer": "r",
   "version": "3.3.2"
  }
 },
 "nbformat": 4,
 "nbformat_minor": 0
}
